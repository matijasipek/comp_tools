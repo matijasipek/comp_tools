{
 "cells": [
  {
   "cell_type": "markdown",
   "id": "b0e51365",
   "metadata": {},
   "source": [
    "# Content based recommendation system"
   ]
  },
  {
   "cell_type": "markdown",
   "id": "9d1e4c60",
   "metadata": {},
   "source": [
    "*Draft*\n",
    "\n",
    "Video 1: https://www.youtube.com/watch?v=hOQg2LQM4ec&ab_channel=MiningMassiveDatasets \\\n",
    "Notes: \n",
    "- It would be interesting to mention the \"long tail\" phenomenom to explain why recommendation systems are interesting\n",
    "- The key to recommendations is to have the utility matrix and predict the values that don't appear there\n",
    "\n",
    "Video 2 (Content based): https://www.youtube.com/watch?v=IlqnNWuqToo&ab_channel=MiningMassiveDatasets \\\n",
    "\n",
    "- Main idea of content based: recommend items to customer x similar to previous items rated highly by x\n",
    "\n",
    "- Plan of action: start with a user and find out a set of items the user likes using explicit and implicit data -> we are going to build an item profile -> Infer user profile -> Match -> Recommemd\n",
    "\n",
    "1. For each item, create an item profile. Profile is a set of features. Convenient to think it as a vector\n",
    "2. User profile: (weighted) average of rated item profiles"
   ]
  },
  {
   "cell_type": "markdown",
   "id": "8ca561ca",
   "metadata": {},
   "source": [
    "### Read the data\n",
    "\n",
    "Useful features:\n",
    "- artist_terms (tags)\n",
    "- similar_artists?\n",
    "- time_signature\n",
    "- year\n",
    "- artist_mbtags\n",
    "- mode, _what is that?_"
   ]
  },
  {
   "cell_type": "code",
   "execution_count": 99,
   "id": "90c0a862",
   "metadata": {},
   "outputs": [],
   "source": [
    "# Imports\n",
    "\n",
    "import pandas as pd\n",
    "import os\n",
    "import hdf5_getters as hdf5_getters\n",
    "import numpy as np\n",
    "from tqdm import tqdm"
   ]
  },
  {
   "cell_type": "code",
   "execution_count": 82,
   "id": "5f799ad8",
   "metadata": {},
   "outputs": [
    {
     "name": "stdout",
     "output_type": "stream",
     "text": [
      "10000\n"
     ]
    }
   ],
   "source": [
    "path = 'MillionSongSubset'\n",
    "songs_list = []\n",
    "\n",
    "for (root, dirs, file) in os.walk(path):\n",
    "    for f in file:\n",
    "        songs_list.append(os.path.dirname(f))\n",
    "\n",
    "            \n",
    "print(len(songs_list))"
   ]
  },
  {
   "cell_type": "code",
   "execution_count": 83,
   "id": "2f5563e7",
   "metadata": {},
   "outputs": [],
   "source": [
    "## READ DATA PATH FROM FILE\n",
    "songs_file_paths = []\n",
    "\n",
    "for root, dirs, files in os.walk(os.path.abspath(path)):\n",
    "    for file in files:        \n",
    "        strs = os.path.join(root, file)\n",
    "        new_strs = strs.replace('\\\\','/')\n",
    "        songs_file_paths.append(new_strs)"
   ]
  },
  {
   "cell_type": "code",
   "execution_count": 84,
   "id": "2739a0d5",
   "metadata": {},
   "outputs": [
    {
     "name": "stdout",
     "output_type": "stream",
     "text": [
      "/Users/alejandranavarrocastillo/Documents/GitHub/comp_tools/MillionSongSubset/A/R/R/TRARRZU128F4253CA2.h5\n"
     ]
    }
   ],
   "source": [
    "print(songs_file_paths[0])"
   ]
  },
  {
   "cell_type": "code",
   "execution_count": 85,
   "id": "4691d3c4",
   "metadata": {},
   "outputs": [
    {
     "data": {
      "text/plain": [
       "10000"
      ]
     },
     "execution_count": 85,
     "metadata": {},
     "output_type": "execute_result"
    }
   ],
   "source": [
    "len(songs_file_paths)"
   ]
  },
  {
   "cell_type": "code",
   "execution_count": 86,
   "id": "4487ce1b",
   "metadata": {
    "scrolled": true
   },
   "outputs": [],
   "source": [
    "### CREATE PANDAS TABLE\n",
    "\n",
    "N = len(songs_file_paths)\n",
    "data = []\n",
    "\n",
    "for i in range(N):\n",
    "    record = []\n",
    "    \n",
    "    # Open specific song path\n",
    "    h5 = hdf5_getters.open_h5_file_read(songs_file_paths[i])\n",
    "    \n",
    "    #getters\n",
    "    #artist_id = hdf5_getters.get_artist_id(h5)\n",
    "    #artist_id = artist_id.decode(\"utf-8\")     \n",
    "    \n",
    "    #artist_name  = hdf5_getters.get_artist_name(h5)\n",
    "    #artist_name = artist_name.decode(\"utf-8\") \n",
    "    \n",
    "    #artist_location  = hdf5_getters.get_artist_location(h5)\n",
    "    #artist_location = artist_location.decode(\"utf-8\") \n",
    "    \n",
    "    song_id = hdf5_getters.get_song_id(h5)\n",
    "    song_id = song_id.decode(\"utf-8\")\n",
    "    \n",
    "    #song_name = hdf5_getters.get_title(h5)\n",
    "    #song_name = song_name.decode(\"utf-8\")\n",
    "    \n",
    "    #song_hottness = hdf5_getters.get_song_hotttnesss(h5)\n",
    "    \n",
    "    #time_signature = hdf5_getters.get_time_signature(h5)\n",
    "    \n",
    "    artist_terms_ = hdf5_getters.get_artist_terms(h5)\n",
    "    artist_terms = []\n",
    "    for j in range(len(artist_terms_)):\n",
    "        artist_terms.append(artist_terms_[j].decode(\"utf-8\"))\n",
    "    \n",
    "    #artist_mbtags = hdf5_getters.get_artist_mbtags(h5)\n",
    "    \n",
    "    #mode = hdf5_getters.get_mode(h5)\n",
    "    \n",
    "    #year = hdf5_getters.get_year(h5)\n",
    "    \n",
    "    #latitude = hdf5_getters.get_artist_latitude(h5)\n",
    "    #longitude = hdf5_getters.get_artist_longitude(h5)\n",
    "    \n",
    "    # Close file\n",
    "    h5.close()\n",
    "    \n",
    "    #record.append(artist_id)\n",
    "    #record.append(artist_name)\n",
    "    #record.append(artist_location)\n",
    "    record.append(song_id)\n",
    "    #record.append(song_name)\n",
    "    #record.append(song_hottness)\n",
    "    #record.append(time_signature)\n",
    "    record.append(artist_terms)\n",
    "    #record.append(artist_mbtags)\n",
    "    #record.append(mode)\n",
    "    #record.append(year)\n",
    "    #record.append(latitude)\n",
    "    #record.append(longitude)\n",
    "    \n",
    "    # Add\n",
    "    data.append(record)"
   ]
  },
  {
   "cell_type": "code",
   "execution_count": 87,
   "id": "1b6810c5",
   "metadata": {},
   "outputs": [
    {
     "data": {
      "text/html": [
       "<div>\n",
       "<style scoped>\n",
       "    .dataframe tbody tr th:only-of-type {\n",
       "        vertical-align: middle;\n",
       "    }\n",
       "\n",
       "    .dataframe tbody tr th {\n",
       "        vertical-align: top;\n",
       "    }\n",
       "\n",
       "    .dataframe thead th {\n",
       "        text-align: right;\n",
       "    }\n",
       "</style>\n",
       "<table border=\"1\" class=\"dataframe\">\n",
       "  <thead>\n",
       "    <tr style=\"text-align: right;\">\n",
       "      <th></th>\n",
       "      <th>song_id</th>\n",
       "      <th>artist_terms</th>\n",
       "    </tr>\n",
       "  </thead>\n",
       "  <tbody>\n",
       "    <tr>\n",
       "      <th>0</th>\n",
       "      <td>SOGSMXL12A81C23D88</td>\n",
       "      <td>[chanson, visual kei, hip hop, pop rock, briti...</td>\n",
       "    </tr>\n",
       "    <tr>\n",
       "      <th>1</th>\n",
       "      <td>SOMBCOW12AAF3B229F</td>\n",
       "      <td>[chanson, dance pop, pop rock, soft rock, fema...</td>\n",
       "    </tr>\n",
       "    <tr>\n",
       "      <th>2</th>\n",
       "      <td>SOEYIHF12AB017B5F4</td>\n",
       "      <td>[early music, celtic, mediaeval, folk, christm...</td>\n",
       "    </tr>\n",
       "    <tr>\n",
       "      <th>3</th>\n",
       "      <td>SODJYEC12A8C13D757</td>\n",
       "      <td>[post-hardcore, doomcore, metalcore, screamo, ...</td>\n",
       "    </tr>\n",
       "    <tr>\n",
       "      <th>4</th>\n",
       "      <td>SOGSOUE12A58A76443</td>\n",
       "      <td>[orchestra, musical theater, british, brazil, ...</td>\n",
       "    </tr>\n",
       "    <tr>\n",
       "      <th>...</th>\n",
       "      <td>...</td>\n",
       "      <td>...</td>\n",
       "    </tr>\n",
       "    <tr>\n",
       "      <th>9995</th>\n",
       "      <td>SOWJQRH12AB0186761</td>\n",
       "      <td>[country gospel, ccm, country, aor, adult cont...</td>\n",
       "    </tr>\n",
       "    <tr>\n",
       "      <th>9996</th>\n",
       "      <td>SOIFMVY12A8AE467B1</td>\n",
       "      <td>[dance rock, pop rock, british pop, ballad, cl...</td>\n",
       "    </tr>\n",
       "    <tr>\n",
       "      <th>9997</th>\n",
       "      <td>SOGVDLQ12A58A7E3C5</td>\n",
       "      <td>[hard rock, modern rock, glam metal, rock, hea...</td>\n",
       "    </tr>\n",
       "    <tr>\n",
       "      <th>9998</th>\n",
       "      <td>SOVVGSH12A8C14085F</td>\n",
       "      <td>[frevo, samba, banda, rockabilly, bossa nova, ...</td>\n",
       "    </tr>\n",
       "    <tr>\n",
       "      <th>9999</th>\n",
       "      <td>SOPNUVB12A8C13627D</td>\n",
       "      <td>[fusion, ethnic, ethnic and world fusion]</td>\n",
       "    </tr>\n",
       "  </tbody>\n",
       "</table>\n",
       "<p>10000 rows × 2 columns</p>\n",
       "</div>"
      ],
      "text/plain": [
       "                 song_id                                       artist_terms\n",
       "0     SOGSMXL12A81C23D88  [chanson, visual kei, hip hop, pop rock, briti...\n",
       "1     SOMBCOW12AAF3B229F  [chanson, dance pop, pop rock, soft rock, fema...\n",
       "2     SOEYIHF12AB017B5F4  [early music, celtic, mediaeval, folk, christm...\n",
       "3     SODJYEC12A8C13D757  [post-hardcore, doomcore, metalcore, screamo, ...\n",
       "4     SOGSOUE12A58A76443  [orchestra, musical theater, british, brazil, ...\n",
       "...                  ...                                                ...\n",
       "9995  SOWJQRH12AB0186761  [country gospel, ccm, country, aor, adult cont...\n",
       "9996  SOIFMVY12A8AE467B1  [dance rock, pop rock, british pop, ballad, cl...\n",
       "9997  SOGVDLQ12A58A7E3C5  [hard rock, modern rock, glam metal, rock, hea...\n",
       "9998  SOVVGSH12A8C14085F  [frevo, samba, banda, rockabilly, bossa nova, ...\n",
       "9999  SOPNUVB12A8C13627D          [fusion, ethnic, ethnic and world fusion]\n",
       "\n",
       "[10000 rows x 2 columns]"
      ]
     },
     "execution_count": 87,
     "metadata": {},
     "output_type": "execute_result"
    }
   ],
   "source": [
    "#df = pd.DataFrame(data, columns=['artist_id', 'artist_name', 'artist_location', 'song_id', 'song_name', 'song_hottness','time_signature','artist_terms','artist_mbtags','mode','year','latitude','longitude'])\n",
    "df = pd.DataFrame(data, columns=['song_id','artist_terms'])\n",
    "df"
   ]
  },
  {
   "cell_type": "code",
   "execution_count": 103,
   "id": "d139730f",
   "metadata": {
    "scrolled": true
   },
   "outputs": [],
   "source": [
    "### GET USERS TASTE\n",
    "#triples\n",
    "\n",
    "user_plays = pd.read_csv('train_triplets.txt', sep='\\t', names = ['userID','songID', 'play_count'])"
   ]
  },
  {
   "cell_type": "markdown",
   "id": "63bf8eae",
   "metadata": {},
   "source": [
    "### Compute similarity between songs"
   ]
  },
  {
   "cell_type": "markdown",
   "id": "cbdd8923",
   "metadata": {},
   "source": [
    "I'm going to try to compute the similarity with the artist_terms of the songs (we might have the problem of two songs being exactly the same if they come from the same artist). We will see..."
   ]
  },
  {
   "cell_type": "code",
   "execution_count": 89,
   "id": "a29eaeb6",
   "metadata": {},
   "outputs": [],
   "source": [
    "### REPRESENT SONGS AS VECTORS IN ORDER TO COMPUTE SIMILARITY\n",
    "### We will use the feature artist_terms and implement one-hot-encoding.\n",
    "### With one-hot-encoding, we convert each categorical value into a new categorical column \n",
    "### and assign a binary value of 1 or 0 to those columns.\n",
    "\n",
    "# First, extract the artist_terms\n",
    "all_terms = []\n",
    "for row in range(len(df)):\n",
    "    all_terms.append(df['artist_terms'][row])\n",
    "    \n",
    "all_terms = np.concatenate(all_terms)\n",
    "all_terms = list(set(all_terms)) # we have gotten a list of the set of all artist_terms\n",
    "\n",
    "d = len(all_terms) # dimension of the vectors we are representing"
   ]
  },
  {
   "cell_type": "code",
   "execution_count": 90,
   "id": "ec1c2363",
   "metadata": {
    "scrolled": true
   },
   "outputs": [],
   "source": [
    "# Now, we intend to create a binary vector (length = d) that represents a song, \n",
    "# with 1s if the song has this term and 0s if it hasn't.\n",
    "\n",
    "def vectorize(song):\n",
    "\n",
    "    index = int(df.index[df['song_id'] == song][0])\n",
    "    vector = np.zeros(len(all_terms))\n",
    "\n",
    "    for i in range(len(vector)):\n",
    "        if all_terms[i] in df['artist_terms'][index]:\n",
    "            vector[i] = 1\n",
    "            \n",
    "    return vector"
   ]
  },
  {
   "cell_type": "code",
   "execution_count": 91,
   "id": "fd0d53dc",
   "metadata": {},
   "outputs": [],
   "source": [
    "# Vectorize ALL the songs and save it into a dictionary\n",
    "\n",
    "vector_representation = {}\n",
    "\n",
    "for song in df['song_id']:\n",
    "    vector_representation[song] = vectorize(song)\n",
    "    \n",
    "#vector_representation # we end up with a dictionary of songs with their vector representation"
   ]
  },
  {
   "cell_type": "code",
   "execution_count": 92,
   "id": "7385dc47",
   "metadata": {},
   "outputs": [],
   "source": [
    "# Compute similarity between songs and get a similarities matrix\n",
    "\n",
    "# Euclidean distance \n",
    "# (We could also compute the cosine similarity I guess)\n",
    "def euclidean_distance(song1 , song2):\n",
    "    a = vector_representation[song1]\n",
    "    b = vector_representation[song2]\n",
    "    dist = np.linalg.norm(a-b)\n",
    "    return dist\n",
    "\n",
    "\n",
    "# Similarities matrix\n",
    "similarities = np.zeros((len(df),len(df)))\n",
    "i = 0\n",
    "for song1 in df['song_id']:\n",
    "    j = 0\n",
    "    for song2 in df['song_id']:\n",
    "        dist = euclidean_distance(song1,song2)\n",
    "        similarities[i,j] = dist\n",
    "        j += 1\n",
    "    i += 1\n",
    "    \n",
    "#print(similarities)"
   ]
  },
  {
   "cell_type": "markdown",
   "id": "b9592355",
   "metadata": {},
   "source": [
    "### Get the user profile"
   ]
  },
  {
   "cell_type": "code",
   "execution_count": 209,
   "id": "6b502865",
   "metadata": {
    "scrolled": true
   },
   "outputs": [
    {
     "name": "stdout",
     "output_type": "stream",
     "text": [
      "\n",
      "yes SOEBCBI12AF72A154F [0. 0. 0. ... 0. 0. 0.]\n",
      "[72]\n",
      "\n",
      "yes SOFKTPP12A8C1385CA [0. 0. 0. ... 0. 0. 0.]\n",
      "[72, 100]\n",
      "\n",
      "yes SOGJPMB12A8C13A9DB [0. 0. 0. ... 0. 0. 0.]\n",
      "[72, 100, 112]\n",
      "\n",
      "yes SOUCKDH12A8C138FF5 [0. 0. 0. ... 0. 0. 0.]\n",
      "[72, 100, 112, 361]\n",
      "\n",
      "yes SOZOEYP12AB0188C9D [0. 0. 0. ... 0. 0. 0.]\n",
      "[72, 100, 112, 361, 447]\n"
     ]
    },
    {
     "data": {
      "text/plain": [
       "array([0., 0., 0., ..., 0., 0., 0.])"
      ]
     },
     "execution_count": 209,
     "metadata": {},
     "output_type": "execute_result"
    }
   ],
   "source": [
    "# Get the User profile: that will be a vector of dimension d computed as the weighted average of his played songs\n",
    "\n",
    "user = '5a905f000fc1ff3df7ca807d57edb608863db05d'\n",
    "\n",
    "song_counts = list(user_plays[user_plays['userID'] == user]['play_count'])\n",
    "song_list = list(user_plays[user_plays['userID'] == user]['songID'])\n",
    "\n",
    "\n",
    "# Check if the user songs are in the song dataset \n",
    "# and get the indices of the songs\n",
    "indices = []\n",
    "for song in song_list:\n",
    "    if song in list(df['song_id']):\n",
    "        print()\n",
    "        print('yes', song, vector_representation[song])\n",
    "        indices.append(song_list.index(song))\n",
    "        print(indices)\n",
    "    else:\n",
    "        continue\n",
    "\n",
    "\n",
    "# Get the User profile (i.e. Compute the (weighted) average of the songs of a user)\n",
    "a = [song_counts[i] for i in indices]\n",
    "b = [vector_representation[song_list[i]] for i in indices]\n",
    "\n",
    "numerator = np.zeros(d)\n",
    "for i in range(len(a)):\n",
    "    numerator = numerator + ( a[i] * np.asarray(b[i]) )\n",
    "\n",
    "user_profile = numerator / sum(a)\n",
    "user_profile"
   ]
  },
  {
   "cell_type": "markdown",
   "id": "4d2fa9ca",
   "metadata": {},
   "source": [
    "### Recommendation\n",
    "\n",
    "We will recommend the songs of our dataset that are more similar to the user profile."
   ]
  },
  {
   "cell_type": "code",
   "execution_count": 242,
   "id": "545d6c8c",
   "metadata": {},
   "outputs": [
    {
     "name": "stdout",
     "output_type": "stream",
     "text": [
      "Song: SOEBCBI12AF72A154F with score 2.689127174136189\n",
      "Song: SOPEEDH12A58A7C407 with score 3.587167210354338\n",
      "Song: SOPEEDH12A58A7C407 with score 3.587167210354338\n",
      "Song: SOHYWLZ12A6D4FBB22 with score 3.59981634058606\n",
      "Song: SOHYWLZ12A6D4FBB22 with score 3.59981634058606\n",
      "Song: SOHYWLZ12A6D4FBB22 with score 3.59981634058606\n",
      "Song: SOFIRFY12AC909716A with score 3.662406741542488\n",
      "Song: SONCEJF12AB018581C with score 3.6624067415424886\n",
      "Song: SONCEJF12AB018581C with score 3.6624067415424886\n",
      "Song: SONCEJF12AB018581C with score 3.6624067415424886\n"
     ]
    }
   ],
   "source": [
    "scores_dict = {}\n",
    "for song in df['song_id']:\n",
    "    dist = np.linalg.norm(user_profile - vector_representation[song])\n",
    "    scores_dict[song] = dist\n",
    "\n",
    "scores_dict_key = list(scores_dict.keys())\n",
    "scores_dict_val = list(scores_dict.values())\n",
    "\n",
    "# R best recommendations\n",
    "R = 10\n",
    "for score in np.sort(scores_dict_val)[0:R]:\n",
    "    indices = scores_dict_val.index(score) # value from dictionary\n",
    "    print(\"Song:\", scores_dict_key[indices], 'with score', score)\n",
    "    \n",
    "# Find the titles for these songs in the initial dataset"
   ]
  }
 ],
 "metadata": {
  "kernelspec": {
   "display_name": "Python 3 (ipykernel)",
   "language": "python",
   "name": "python3"
  },
  "language_info": {
   "codemirror_mode": {
    "name": "ipython",
    "version": 3
   },
   "file_extension": ".py",
   "mimetype": "text/x-python",
   "name": "python",
   "nbconvert_exporter": "python",
   "pygments_lexer": "ipython3",
   "version": "3.9.12"
  }
 },
 "nbformat": 4,
 "nbformat_minor": 5
}
