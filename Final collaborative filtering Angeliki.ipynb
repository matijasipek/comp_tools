{
 "cells": [
  {
   "cell_type": "markdown",
   "id": "1668ae77",
   "metadata": {},
   "source": [
    "# Item based collaborative filtering (Angeliki)\n",
    "\n",
    "<sup>Inspired by https://github.com/csaluja/JupyterNotebooks-Medium/blob/master/CF%20Recommendation%20System-Examples.ipynb<sup>"
   ]
  },
  {
   "cell_type": "markdown",
   "id": "21475a5b",
   "metadata": {},
   "source": [
    "Load libraries"
   ]
  },
  {
   "cell_type": "code",
   "execution_count": null,
   "id": "a6f80b51",
   "metadata": {},
   "outputs": [],
   "source": [
    "import numpy as np\n",
    "import pandas as pd\n",
    "from io import BytesIO\n",
    "from zipfile import ZipFile\n",
    "\n",
    "from sklearn.neighbors import NearestNeighbors\n",
    "from sklearn.metrics import pairwise_distances\n",
    "from scipy.spatial.distance import pdist, squareform\n",
    "\n"
   ]
  },
  {
   "cell_type": "markdown",
   "id": "5a657d40",
   "metadata": {},
   "source": [
    "Read-in the data"
   ]
  },
  {
   "cell_type": "code",
   "execution_count": null,
   "id": "9c9a0943",
   "metadata": {},
   "outputs": [],
   "source": [
    "# Read the user tastes' dataset\n",
    "\n",
    "with ZipFile('users_cleaned.zip','r') as zip:\n",
    "    data = zip.read('out.csv')\n",
    "\n",
    "users_cleaned = pd.read_csv(BytesIO(data))\n",
    "print(len(users_cleaned))\n",
    "users_cleaned.head()"
   ]
  },
  {
   "cell_type": "code",
   "execution_count": null,
   "id": "a01a26e3",
   "metadata": {},
   "outputs": [],
   "source": [
    "# create the utility matrix\n",
    "user_profiles = users_cleaned.pivot(index='userID', columns='songID', values='play_count')\n",
    "\n",
    "# Includes 386670 users and 3195 songs\n",
    "user_profiles.shape "
   ]
  },
  {
   "cell_type": "code",
   "execution_count": null,
   "id": "00b2960a",
   "metadata": {},
   "outputs": [],
   "source": [
    "# Narrow donw to 10k users and replace the NaN with 0s. \n",
    "u1 = user_profiles[:10000]\n",
    "np.nan_to_num(u1,copy=False)"
   ]
  },
  {
   "cell_type": "code",
   "execution_count": null,
   "id": "90a8720d",
   "metadata": {},
   "outputs": [],
   "source": [
    "# users and songs to experiment with\n",
    "user = '06b4caaf4dcc2476b5ac096f08f4356b6ba9a86a'\n",
    "#user = '00038cf792e9f9a1cb593dea5779f96195aac68c'\n",
    "#user = '0002b896949cb2899feaed47104406e99eafa983'\n",
    "song = 'SOAPNML12A8C13B696'\n",
    "#song = 'SOSHUVD12A6701F8F9'\n",
    "\n",
    "samplelist = ['06b4caaf4dcc2476b5ac096f08f4356b6ba9a86a',\n",
    "              '00038cf792e9f9a1cb593dea5779f96195aac68c',\n",
    "              '0002b896949cb2899feaed47104406e99eafa983' ]"
   ]
  },
  {
   "cell_type": "markdown",
   "id": "5edd010e",
   "metadata": {},
   "source": [
    "**I an implementing item based collaborative filtering as it outperforms user based and items are simpler than user tastes**"
   ]
  },
  {
   "cell_type": "markdown",
   "id": "1c1fb6be",
   "metadata": {},
   "source": [
    "### Recommend 10 songs to a list of users using adjusted cosine correlation"
   ]
  },
  {
   "cell_type": "markdown",
   "id": "5c449784",
   "metadata": {},
   "source": [
    "Difference between Pearson's correlation and adjusted cosine correlation:\n",
    "\n",
    "   - In pearson correlation, the mean which subtracted is about the particular item itself (ratings from all users), mean(Ri)\n",
    "   - In adjusted cosine correlation, the mean is about the particular user (ratings to all items), mean(Ru)\n",
    "\n"
   ]
  },
  {
   "cell_type": "code",
   "execution_count": null,
   "id": "860ebb91",
   "metadata": {},
   "outputs": [],
   "source": [
    "# This function computes a adjusted cosine correlation matrix from a utility matrix\n",
    "def get_adj_cosine_M(user_profiles):\n",
    "    M = user_profiles.to_numpy()\n",
    "    M_u = M.mean(axis=1)\n",
    "    item_mean_subtracted = M - M_u[:, None]\n",
    "    similarity_matrix = 1 - squareform(pdist(item_mean_subtracted.T, 'cosine'))\n",
    "    \n",
    "    return pd.DataFrame(similarity_matrix, index=user_profiles.columns, columns=user_profiles.columns)"
   ]
  },
  {
   "cell_type": "code",
   "execution_count": null,
   "id": "0e5445f5",
   "metadata": {},
   "outputs": [],
   "source": [
    "adjcos_sim = get_adj_cosine_M(u1)\n",
    "adjcos_sim.head()"
   ]
  },
  {
   "cell_type": "code",
   "execution_count": null,
   "id": "61b9535c",
   "metadata": {},
   "outputs": [],
   "source": [
    "# This function finds k similar songs given songID and adjusted cosine matrix\n",
    "def get_similar_songs_adjcosine(songID, adj_sim_m , k):\n",
    "    '''Find k similar songs given songID and adjusted cosine matrix '''\n",
    "    \n",
    "    # sort the similarities and grab k highest values\n",
    "    similarities = adj_sim_m [songID].sort_values(ascending=False)[:k+1].values\n",
    "    # grab the songIDs\n",
    "    indices = adj_sim_m [songID].sort_values(ascending=False)[:k+1].index\n",
    "    \n",
    "    print('{} most similar items for item {}:\\n'.format(k,songID))\n",
    "    for i in range(0, len(indices)):\n",
    "             first index is songID by default\n",
    "            if indices[i] == songID:\n",
    "                continue;\n",
    "\n",
    "            else:\n",
    "                print('{}: Song {} , with similarity of {}'.format(i,indices[i], similarities[i]))\n",
    "        \n",
    "    return similarities ,indices.to_list()"
   ]
  },
  {
   "cell_type": "code",
   "execution_count": null,
   "id": "5bf03221",
   "metadata": {},
   "outputs": [],
   "source": [
    "#This function recommends 10 songs based on item-item collaborative filtering\n",
    "# given a list of users and a utility matrix (database)\n",
    "def recommend10Items(user_list, database):\n",
    "    result = dict()\n",
    "    # compute adjusted cosine similarity matrix\n",
    "    sim_matrix = get_adj_cosine_M(database)\n",
    "    \n",
    "    for userID in user_list:\n",
    "        # find row corresponding to user in database\n",
    "        idx = database.index.get_loc(userID)\n",
    "        #get the top 5 songs that he already likes\n",
    "        likes = database.iloc[idx, np.argsort(-database.values[idx])[:5]].index\n",
    "        \n",
    "        for songID in likes:\n",
    "            similarities, recommendations = get_similar_songs_adjcosine(songID, sim_matrix, 1)\n",
    "            \n",
    "            if userID not in result:\n",
    "                result[userID] = recommendations\n",
    "            elif type(result[userID]) == list:\n",
    "                result[userID].append(recommendations)\n",
    "            else:\n",
    "                result[userID] = [result[userID], recommendations]\n",
    "    \n",
    "    return result"
   ]
  },
  {
   "cell_type": "code",
   "execution_count": null,
   "id": "a4f21c34",
   "metadata": {},
   "outputs": [],
   "source": [
    "get_recom = recommend10Items(samplelist, u1)\n",
    "get_recom"
   ]
  },
  {
   "cell_type": "code",
   "execution_count": null,
   "id": "ca7533ff",
   "metadata": {},
   "outputs": [],
   "source": []
  },
  {
   "cell_type": "markdown",
   "id": "40f52512",
   "metadata": {},
   "source": [
    "### Recommend 10 songs to a list of users by implementig kNN search for item based filtering"
   ]
  },
  {
   "cell_type": "code",
   "execution_count": null,
   "id": "ec7a2eeb",
   "metadata": {},
   "outputs": [],
   "source": [
    "\n",
    "def get_similar_songs_kNN(songID, user_profiles, similarity_metric , k):\n",
    "    '''Find k most similar songs to a given songID'''\n",
    "    similarity = list()\n",
    "    neigh_ind = list()\n",
    "    song_profiles=user_profiles.T\n",
    "    \n",
    "    knn = NearestNeighbors(metric = similarity_metric , algorithm = 'brute')\n",
    "    knn.fit(song_profiles.values) #taking .values to avoid sklearn warning\n",
    "                                #UserWarning: X does not have valid feature names, but NearestNeighbors was fitted with feature names\n",
    "    \n",
    "    neigh_dist, neigh_ind = knn.kneighbors(song_profiles.loc[songID].values.reshape(1,-1), n_neighbors = k+1) #plus one, bcs it includes the user we want to compare against \n",
    "    similarity = 1-neigh_dist.flatten()\n",
    "    \n",
    "    similar_songs = []\n",
    "    for i in range(0,len(neigh_ind.flatten())):\n",
    "        if song_profiles.index[neigh_ind.flatten()[i]] == songID:\n",
    "            continue;\n",
    "        else:\n",
    "            similar_songs.append(song_profiles.index[neigh_ind.flatten()[i]])\n",
    "            \n",
    "    return similar_songs"
   ]
  },
  {
   "cell_type": "code",
   "execution_count": null,
   "id": "558ba0fe",
   "metadata": {},
   "outputs": [],
   "source": [
    "def recommend10Items_kNN(user_list, database):\n",
    "    result = dict()\n",
    "    \n",
    "    for userID in user_list:\n",
    "        # find row corresponding to user in database\n",
    "        idx = database.index.get_loc(userID)\n",
    "        #get the top 5 songs that he already likes\n",
    "        likes = database.iloc[idx, np.argsort(-database.values[idx])[:5]].index\n",
    "        \n",
    "        for songID in likes:\n",
    "            simsongs= get_similar_songs_kNN(songID, database, 'cosine', 2)\n",
    "            \n",
    "            if userID not in result:\n",
    "                result[userID] = simsongs\n",
    "            elif type(result[userID]) == list:\n",
    "                result[userID].append(simsongs)\n",
    "            else:\n",
    "                result[userID] = [result[userID], simsongs]\n",
    "    \n",
    "    return result"
   ]
  },
  {
   "cell_type": "code",
   "execution_count": null,
   "id": "d8a50508",
   "metadata": {},
   "outputs": [],
   "source": [
    "get_recom_kNN = recommend10Items_kNN(samplelist, u1)\n",
    "get_recom_kNN"
   ]
  }
 ],
 "metadata": {
  "kernelspec": {
   "display_name": "Python 3 (ipykernel)",
   "language": "python",
   "name": "python3"
  },
  "language_info": {
   "codemirror_mode": {
    "name": "ipython",
    "version": 3
   },
   "file_extension": ".py",
   "mimetype": "text/x-python",
   "name": "python",
   "nbconvert_exporter": "python",
   "pygments_lexer": "ipython3",
   "version": "3.10.4"
  }
 },
 "nbformat": 4,
 "nbformat_minor": 5
}
