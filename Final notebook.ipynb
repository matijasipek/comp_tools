{
 "cells": [
  {
   "cell_type": "markdown",
   "id": "a3151f4a",
   "metadata": {},
   "source": [
    "# Computational tools for data science: An Efficient Recommendation System for MillionSongsDataset"
   ]
  },
  {
   "cell_type": "code",
   "execution_count": 15,
   "id": "aeeee618",
   "metadata": {},
   "outputs": [],
   "source": [
    "# Imports\n",
    "import numpy as np\n",
    "import pandas as pd"
   ]
  },
  {
   "cell_type": "markdown",
   "id": "b58c4341",
   "metadata": {},
   "source": [
    "## Read the data"
   ]
  },
  {
   "cell_type": "code",
   "execution_count": 24,
   "id": "707c4b54",
   "metadata": {},
   "outputs": [],
   "source": [
    "# Read the songs dataset\n",
    "\n",
    "from zipfile import ZipFile\n",
    "from io import BytesIO\n",
    "\n",
    "with ZipFile('songs_cleaned.zip', 'r') as zip:\n",
    "    data = zip.read('out.csv')\n",
    "\n",
    "songs_cleaned = pd.read_csv(BytesIO(data))"
   ]
  },
  {
   "cell_type": "code",
   "execution_count": 25,
   "id": "b1bd3e6b",
   "metadata": {},
   "outputs": [],
   "source": [
    "# And pre-process the artist_terms feature\n",
    "\n",
    "def ConvertStringtoList(string):\n",
    "    s = string.replace('[','')\n",
    "    s = s.replace(']','')\n",
    "    s = s.replace('\\'','')\n",
    "    s = s.replace(' ','')\n",
    "    li = list(s.split(\",\"))\n",
    "    return li\n",
    "\n",
    "i = 0\n",
    "for string in songs_cleaned['artist_terms']:\n",
    "    list_ = ConvertStringtoList(string)\n",
    "    songs_cleaned['artist_terms'][i] = list_\n",
    "    i += 1"
   ]
  },
  {
   "cell_type": "code",
   "execution_count": 27,
   "id": "6aaba137",
   "metadata": {},
   "outputs": [
    {
     "data": {
      "text/html": [
       "<div>\n",
       "<style scoped>\n",
       "    .dataframe tbody tr th:only-of-type {\n",
       "        vertical-align: middle;\n",
       "    }\n",
       "\n",
       "    .dataframe tbody tr th {\n",
       "        vertical-align: top;\n",
       "    }\n",
       "\n",
       "    .dataframe thead th {\n",
       "        text-align: right;\n",
       "    }\n",
       "</style>\n",
       "<table border=\"1\" class=\"dataframe\">\n",
       "  <thead>\n",
       "    <tr style=\"text-align: right;\">\n",
       "      <th></th>\n",
       "      <th>artist_id</th>\n",
       "      <th>song_id</th>\n",
       "      <th>artist_terms</th>\n",
       "    </tr>\n",
       "  </thead>\n",
       "  <tbody>\n",
       "    <tr>\n",
       "      <th>0</th>\n",
       "      <td>ARMJAGH1187FB546F3</td>\n",
       "      <td>SOCIWDW12A8C13D406</td>\n",
       "      <td>[blue-eyedsoul, poprock, blues-rock, beachmusi...</td>\n",
       "    </tr>\n",
       "    <tr>\n",
       "      <th>1</th>\n",
       "      <td>ARXR32B1187FB57099</td>\n",
       "      <td>SOFSOCN12A8C143F5D</td>\n",
       "      <td>[poppunk, skapunk, breakcore, alternativemetal...</td>\n",
       "    </tr>\n",
       "    <tr>\n",
       "      <th>2</th>\n",
       "      <td>AR10USD1187B99F3F1</td>\n",
       "      <td>SOHKNRJ12A6701D1F8</td>\n",
       "      <td>[post-hardcore, screamo, emo, hardcore, punkre...</td>\n",
       "    </tr>\n",
       "    <tr>\n",
       "      <th>3</th>\n",
       "      <td>ARC43071187B990240</td>\n",
       "      <td>SOKEJEJ12A8C13E0D0</td>\n",
       "      <td>[ccm, religiousmusic, losangeles, christianroc...</td>\n",
       "    </tr>\n",
       "    <tr>\n",
       "      <th>4</th>\n",
       "      <td>ARL7K851187B99ACD2</td>\n",
       "      <td>SOMUYGI12AB0188633</td>\n",
       "      <td>[bachata, merengue, reggaeton, latinpop, spani...</td>\n",
       "    </tr>\n",
       "    <tr>\n",
       "      <th>...</th>\n",
       "      <td>...</td>\n",
       "      <td>...</td>\n",
       "      <td>...</td>\n",
       "    </tr>\n",
       "    <tr>\n",
       "      <th>3190</th>\n",
       "      <td>ARUUP4L1187B9B72EB</td>\n",
       "      <td>SOILDRV12A8C13EB77</td>\n",
       "      <td>[nowave, experimentalrock, instrumentalrock, d...</td>\n",
       "    </tr>\n",
       "    <tr>\n",
       "      <th>3191</th>\n",
       "      <td>ARI4S0E1187B9B06C0</td>\n",
       "      <td>SOBUUYV12A58A7DA27</td>\n",
       "      <td>[celtic, futurejazz, downtempo, easylistening,...</td>\n",
       "    </tr>\n",
       "    <tr>\n",
       "      <th>3192</th>\n",
       "      <td>ARQ91R31187FB38A88</td>\n",
       "      <td>SOUWMIW12AB0184748</td>\n",
       "      <td>[bluegrass, classiccountry, countrygospel, cou...</td>\n",
       "    </tr>\n",
       "    <tr>\n",
       "      <th>3193</th>\n",
       "      <td>AR4C6V01187FB3BAF4</td>\n",
       "      <td>SOLXXPY12A67ADABA0</td>\n",
       "      <td>[symphoblackmetal, blackmetal, heavymetal, dea...</td>\n",
       "    </tr>\n",
       "    <tr>\n",
       "      <th>3194</th>\n",
       "      <td>ARYXOV81187B99831D</td>\n",
       "      <td>SOFAOMI12A6D4FA2D8</td>\n",
       "      <td>[christianrock, christianalternativerock, chri...</td>\n",
       "    </tr>\n",
       "  </tbody>\n",
       "</table>\n",
       "<p>3195 rows × 3 columns</p>\n",
       "</div>"
      ],
      "text/plain": [
       "               artist_id             song_id  \\\n",
       "0     ARMJAGH1187FB546F3  SOCIWDW12A8C13D406   \n",
       "1     ARXR32B1187FB57099  SOFSOCN12A8C143F5D   \n",
       "2     AR10USD1187B99F3F1  SOHKNRJ12A6701D1F8   \n",
       "3     ARC43071187B990240  SOKEJEJ12A8C13E0D0   \n",
       "4     ARL7K851187B99ACD2  SOMUYGI12AB0188633   \n",
       "...                  ...                 ...   \n",
       "3190  ARUUP4L1187B9B72EB  SOILDRV12A8C13EB77   \n",
       "3191  ARI4S0E1187B9B06C0  SOBUUYV12A58A7DA27   \n",
       "3192  ARQ91R31187FB38A88  SOUWMIW12AB0184748   \n",
       "3193  AR4C6V01187FB3BAF4  SOLXXPY12A67ADABA0   \n",
       "3194  ARYXOV81187B99831D  SOFAOMI12A6D4FA2D8   \n",
       "\n",
       "                                           artist_terms  \n",
       "0     [blue-eyedsoul, poprock, blues-rock, beachmusi...  \n",
       "1     [poppunk, skapunk, breakcore, alternativemetal...  \n",
       "2     [post-hardcore, screamo, emo, hardcore, punkre...  \n",
       "3     [ccm, religiousmusic, losangeles, christianroc...  \n",
       "4     [bachata, merengue, reggaeton, latinpop, spani...  \n",
       "...                                                 ...  \n",
       "3190  [nowave, experimentalrock, instrumentalrock, d...  \n",
       "3191  [celtic, futurejazz, downtempo, easylistening,...  \n",
       "3192  [bluegrass, classiccountry, countrygospel, cou...  \n",
       "3193  [symphoblackmetal, blackmetal, heavymetal, dea...  \n",
       "3194  [christianrock, christianalternativerock, chri...  \n",
       "\n",
       "[3195 rows x 3 columns]"
      ]
     },
     "execution_count": 27,
     "metadata": {},
     "output_type": "execute_result"
    }
   ],
   "source": [
    "songs_cleaned"
   ]
  },
  {
   "cell_type": "code",
   "execution_count": 43,
   "id": "be119445",
   "metadata": {
    "scrolled": false
   },
   "outputs": [
    {
     "data": {
      "text/html": [
       "<div>\n",
       "<style scoped>\n",
       "    .dataframe tbody tr th:only-of-type {\n",
       "        vertical-align: middle;\n",
       "    }\n",
       "\n",
       "    .dataframe tbody tr th {\n",
       "        vertical-align: top;\n",
       "    }\n",
       "\n",
       "    .dataframe thead th {\n",
       "        text-align: right;\n",
       "    }\n",
       "</style>\n",
       "<table border=\"1\" class=\"dataframe\">\n",
       "  <thead>\n",
       "    <tr style=\"text-align: right;\">\n",
       "      <th></th>\n",
       "      <th>userID</th>\n",
       "      <th>songID</th>\n",
       "      <th>play_count</th>\n",
       "    </tr>\n",
       "  </thead>\n",
       "  <tbody>\n",
       "    <tr>\n",
       "      <th>0</th>\n",
       "      <td>b80344d063b5ccb3212f76538f3d9e43d87dca9e</td>\n",
       "      <td>SOWEZSI12A81C21CE6</td>\n",
       "      <td>1</td>\n",
       "    </tr>\n",
       "    <tr>\n",
       "      <th>1</th>\n",
       "      <td>4bd88bfb25263a75bbdd467e74018f4ae570e5df</td>\n",
       "      <td>SODCXXY12AB0187452</td>\n",
       "      <td>2</td>\n",
       "    </tr>\n",
       "    <tr>\n",
       "      <th>2</th>\n",
       "      <td>b64cdd1a0bd907e5e00b39e345194768e330d652</td>\n",
       "      <td>SOLXDDC12A6701FBFD</td>\n",
       "      <td>1</td>\n",
       "    </tr>\n",
       "    <tr>\n",
       "      <th>3</th>\n",
       "      <td>b64cdd1a0bd907e5e00b39e345194768e330d652</td>\n",
       "      <td>SONQBUB12A6D4F8ED0</td>\n",
       "      <td>2</td>\n",
       "    </tr>\n",
       "    <tr>\n",
       "      <th>4</th>\n",
       "      <td>5a905f000fc1ff3df7ca807d57edb608863db05d</td>\n",
       "      <td>SOFKTPP12A8C1385CA</td>\n",
       "      <td>1</td>\n",
       "    </tr>\n",
       "    <tr>\n",
       "      <th>...</th>\n",
       "      <td>...</td>\n",
       "      <td>...</td>\n",
       "      <td>...</td>\n",
       "    </tr>\n",
       "    <tr>\n",
       "      <th>697059</th>\n",
       "      <td>8305c896f42308824da7d4386f4b9ee584281412</td>\n",
       "      <td>SOIZLKI12A6D4F7B61</td>\n",
       "      <td>1</td>\n",
       "    </tr>\n",
       "    <tr>\n",
       "      <th>697060</th>\n",
       "      <td>8305c896f42308824da7d4386f4b9ee584281412</td>\n",
       "      <td>SOQHWMN12A6701E2D9</td>\n",
       "      <td>1</td>\n",
       "    </tr>\n",
       "    <tr>\n",
       "      <th>697061</th>\n",
       "      <td>8305c896f42308824da7d4386f4b9ee584281412</td>\n",
       "      <td>SOSQIHH12A8C13370B</td>\n",
       "      <td>1</td>\n",
       "    </tr>\n",
       "    <tr>\n",
       "      <th>697062</th>\n",
       "      <td>8305c896f42308824da7d4386f4b9ee584281412</td>\n",
       "      <td>SOUCKDH12A8C138FF5</td>\n",
       "      <td>2</td>\n",
       "    </tr>\n",
       "    <tr>\n",
       "      <th>697063</th>\n",
       "      <td>cf8289419383259189afe6bb50c5115fd84f1064</td>\n",
       "      <td>SOIZLKI12A6D4F7B61</td>\n",
       "      <td>6</td>\n",
       "    </tr>\n",
       "  </tbody>\n",
       "</table>\n",
       "<p>697064 rows × 3 columns</p>\n",
       "</div>"
      ],
      "text/plain": [
       "                                          userID              songID  \\\n",
       "0       b80344d063b5ccb3212f76538f3d9e43d87dca9e  SOWEZSI12A81C21CE6   \n",
       "1       4bd88bfb25263a75bbdd467e74018f4ae570e5df  SODCXXY12AB0187452   \n",
       "2       b64cdd1a0bd907e5e00b39e345194768e330d652  SOLXDDC12A6701FBFD   \n",
       "3       b64cdd1a0bd907e5e00b39e345194768e330d652  SONQBUB12A6D4F8ED0   \n",
       "4       5a905f000fc1ff3df7ca807d57edb608863db05d  SOFKTPP12A8C1385CA   \n",
       "...                                          ...                 ...   \n",
       "697059  8305c896f42308824da7d4386f4b9ee584281412  SOIZLKI12A6D4F7B61   \n",
       "697060  8305c896f42308824da7d4386f4b9ee584281412  SOQHWMN12A6701E2D9   \n",
       "697061  8305c896f42308824da7d4386f4b9ee584281412  SOSQIHH12A8C13370B   \n",
       "697062  8305c896f42308824da7d4386f4b9ee584281412  SOUCKDH12A8C138FF5   \n",
       "697063  cf8289419383259189afe6bb50c5115fd84f1064  SOIZLKI12A6D4F7B61   \n",
       "\n",
       "        play_count  \n",
       "0                1  \n",
       "1                2  \n",
       "2                1  \n",
       "3                2  \n",
       "4                1  \n",
       "...            ...  \n",
       "697059           1  \n",
       "697060           1  \n",
       "697061           1  \n",
       "697062           2  \n",
       "697063           6  \n",
       "\n",
       "[697064 rows x 3 columns]"
      ]
     },
     "execution_count": 43,
     "metadata": {},
     "output_type": "execute_result"
    }
   ],
   "source": [
    "# Read the user tastes' dataset\n",
    "\n",
    "with ZipFile('users_cleaned.zip', 'r') as zip:\n",
    "    data = zip.read('out.csv')\n",
    "\n",
    "users_cleaned = pd.read_csv(BytesIO(data))\n",
    "users_cleaned"
   ]
  },
  {
   "cell_type": "markdown",
   "id": "d6ed900a",
   "metadata": {},
   "source": [
    "## Content based recommendation"
   ]
  },
  {
   "cell_type": "markdown",
   "id": "63bf8eae",
   "metadata": {},
   "source": [
    "### Represent songs as vectors\n",
    "\n",
    "We use the feature artist_terms and implement one-hot-encoding. With one-hot-encoding, we convert each categorical value into a new categorical column and assign a binary value 1 or 0 to each feature if the term was initially in the terms of a song."
   ]
  },
  {
   "cell_type": "code",
   "execution_count": 34,
   "id": "a29eaeb6",
   "metadata": {},
   "outputs": [
    {
     "data": {
      "text/plain": [
       "2294"
      ]
     },
     "execution_count": 34,
     "metadata": {},
     "output_type": "execute_result"
    }
   ],
   "source": [
    "# First, extract the artist_terms\n",
    "\n",
    "all_terms = []\n",
    "for row in range(len(df_songs)):\n",
    "    if df_songs['artist_terms'][row] == []:\n",
    "        print('vacia')\n",
    "    all_terms.append(df_songs['artist_terms'][row])\n",
    "\n",
    "all_terms = np.concatenate(all_terms)\n",
    "all_terms = list(set(all_terms)) # we have gotten a list of the set of all artist_terms\n",
    "\n",
    "d = len(all_terms) # dimension of the vectors we are representing\n",
    "d"
   ]
  },
  {
   "cell_type": "code",
   "execution_count": 39,
   "id": "ec1c2363",
   "metadata": {
    "scrolled": true
   },
   "outputs": [],
   "source": [
    "# Now, we intend to create a binary vector (length = d) that represents a song, \n",
    "# with 1s if the song has this term and 0s if it hasn't.\n",
    "\n",
    "def vectorize(song):\n",
    "\n",
    "    index = int(df_songs.index[df_songs['song_id'] == song][0])\n",
    "    vector = np.zeros(len(all_terms))\n",
    "\n",
    "    for i in range(len(vector)):\n",
    "        if all_terms[i] in df_songs['artist_terms'][index]:\n",
    "            vector[i] = 1\n",
    "            \n",
    "    return vector"
   ]
  },
  {
   "cell_type": "code",
   "execution_count": 40,
   "id": "fd0d53dc",
   "metadata": {},
   "outputs": [],
   "source": [
    "# Vectorize ALL the songs and save it into a dictionary\n",
    "\n",
    "vector_representation = {}\n",
    "\n",
    "for song in df_songs['song_id']:\n",
    "    vector_representation[song] = vectorize(song)\n",
    "    \n",
    "#vector_representation # we end up with a dictionary of songs with their vector representation"
   ]
  },
  {
   "cell_type": "markdown",
   "id": "5905fe2c",
   "metadata": {},
   "source": [
    "### Get the user profile"
   ]
  },
  {
   "cell_type": "code",
   "execution_count": 44,
   "id": "756cce7f",
   "metadata": {},
   "outputs": [],
   "source": [
    "user_plays = users_cleaned"
   ]
  },
  {
   "cell_type": "code",
   "execution_count": 52,
   "id": "8caf652d",
   "metadata": {},
   "outputs": [
    {
     "name": "stdout",
     "output_type": "stream",
     "text": [
      "\n",
      "yes SOTNWCI12AAF3B2028 [0. 0. 0. ... 0. 0. 0.]\n",
      "1261    [country, pop, contemporarycountry, countrypop...\n",
      "Name: artist_terms, dtype: object\n",
      "[0]\n"
     ]
    },
    {
     "data": {
      "text/plain": [
       "array([0., 0., 0., ..., 0., 0., 0.])"
      ]
     },
     "execution_count": 52,
     "metadata": {},
     "output_type": "execute_result"
    }
   ],
   "source": [
    "# Get the User profile: that will be a vector of dimension d computed as the weighted average of his played songs\n",
    "\n",
    "#user = '5a905f000fc1ff3df7ca807d57edb608863db05d'\n",
    "#user = 'b80344d063b5ccb3212f76538f3d9e43d87dca9e'\n",
    "### user = '00498f4bab2bfeb17680113c7d9525ad5b0ad401'\n",
    "#user = '3800316358cefa31ef7047a14134b5729654a761'\n",
    "#user = '5d5e0142e54c3bb7b69f548c2ee55066c90700eb'\n",
    "\n",
    "song_counts = list(user_plays[user_plays['userID'] == user]['play_count'])\n",
    "song_list = list(user_plays[user_plays['userID'] == user]['songID'])\n",
    "\n",
    "\n",
    "# Check if the user songs are in the song dataset \n",
    "# and get the indices of the songs\n",
    "indices = []\n",
    "for song in song_list:\n",
    "    if song in list(df_songs['song_id']):\n",
    "        print()\n",
    "        print('yes', song, vector_representation[song])\n",
    "        #print(df_songs.loc[df_songs['song_id']==song]['song_name'])\n",
    "        print(df_songs.loc[df_songs['song_id']==song]['artist_terms'])\n",
    "        indices.append(song_list.index(song))\n",
    "        print(indices)\n",
    "    else:\n",
    "        continue\n",
    "\n",
    "\n",
    "# Get the User profile (i.e. Compute the (weighted) average of the songs of a user)\n",
    "a = [song_counts[i] for i in indices]\n",
    "b = [vector_representation[song_list[i]] for i in indices]\n",
    "\n",
    "numerator = np.zeros(d)\n",
    "for i in range(len(a)):\n",
    "    numerator = numerator + ( a[i] * np.asarray(b[i]) )\n",
    "\n",
    "user_profile = numerator / sum(a)\n",
    "user_profile"
   ]
  }
 ],
 "metadata": {
  "kernelspec": {
   "display_name": "Python 3 (ipykernel)",
   "language": "python",
   "name": "python3"
  },
  "language_info": {
   "codemirror_mode": {
    "name": "ipython",
    "version": 3
   },
   "file_extension": ".py",
   "mimetype": "text/x-python",
   "name": "python",
   "nbconvert_exporter": "python",
   "pygments_lexer": "ipython3",
   "version": "3.9.12"
  }
 },
 "nbformat": 4,
 "nbformat_minor": 5
}
