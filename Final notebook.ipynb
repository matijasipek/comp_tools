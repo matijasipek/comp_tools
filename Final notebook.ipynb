{
 "cells": [
  {
   "cell_type": "markdown",
   "id": "fe74bbf0",
   "metadata": {},
   "source": [
    "# Computational tools for data science: Comparing Recommendation Systems for MillionSongsDataset"
   ]
  },
  {
   "cell_type": "code",
   "execution_count": 1,
   "id": "5e2bb004",
   "metadata": {},
   "outputs": [],
   "source": [
    "# Imports\n",
    "import math\n",
    "import random\n",
    "import os\n",
    "import pickle\n",
    "import pprint\n",
    "import re\n",
    "import statistics\n",
    "import time\n",
    "from collections import defaultdict\n",
    "from io import BytesIO\n",
    "from zipfile import ZipFile\n",
    "from scipy.spatial.distance import pdist, squareform\n",
    "\n",
    "import matplotlib.pyplot as plt\n",
    "import nltk\n",
    "import numpy as np\n",
    "import pandas as pd\n",
    "from datasketch import MinHash, MinHashLSHForest\n",
    "from mlxtend.frequent_patterns import apriori\n",
    "from mlxtend.preprocessing import TransactionEncoder\n",
    "from nltk import word_tokenize\n",
    "from nltk.tokenize import RegexpTokenizer\n",
    "from scipy.sparse import csr_matrix\n",
    "from sklearn.metrics import pairwise_distances\n",
    "from sklearn.metrics.pairwise import paired_distances\n",
    "from sklearn.neighbors import NearestNeighbors\n",
    "from tqdm.notebook import tqdm\n",
    "\n",
    "from pandas.core.common import flatten\n",
    "\n",
    "import hdf5_getters as hdf5_getters"
   ]
  },
  {
   "cell_type": "markdown",
   "id": "3771cbc9",
   "metadata": {},
   "source": [
    "## Table of contents\n",
    "\n",
    "1. [Read data](#data)\n",
    "2. [Content based recommender](#content)\n",
    "3. [Random baseline recommender](#random)\n",
    "4. [Clustering based recommender](#clustering)\n",
    "5. [Collaborative filtering based recommender](#col_filt)\n",
    "6. [Collaborative filtering with Locality sensitive hashing based recommender](#col_filt_LSH)\n",
    "7. [Apriori based recommender](#apriori)\n",
    "8. [Final comparison](#evaluation)"
   ]
  },
  {
   "cell_type": "markdown",
   "id": "54b5af10",
   "metadata": {},
   "source": [
    "## Read the data\n",
    "<a id='data'></a>\n",
    "\n",
    "Assuming that you have all the data in a folder called ```data```"
   ]
  },
  {
   "cell_type": "code",
   "execution_count": 2,
   "id": "0796c992",
   "metadata": {},
   "outputs": [],
   "source": [
    "# Read the songs dataset\n",
    "with ZipFile('data/songs_cleaned.zip', 'r') as zipfile:\n",
    "    data = zipfile.read('out.csv')\n",
    "\n",
    "songs_cleaned = pd.read_csv(BytesIO(data))"
   ]
  },
  {
   "cell_type": "code",
   "execution_count": 3,
   "id": "3e83ae88",
   "metadata": {},
   "outputs": [],
   "source": [
    "# And pre-process the artist_terms feature\n",
    "\n",
    "def ConvertStringtoList(string):\n",
    "    s = string.replace('[','')\n",
    "    s = s.replace(']','')\n",
    "    s = s.replace('\\'','')\n",
    "    s = s.replace(' ','')\n",
    "    li = list(s.split(\",\"))\n",
    "    return li\n",
    "\n",
    "i = 0\n",
    "for string in songs_cleaned['artist_terms']:\n",
    "    list_ = ConvertStringtoList(string)\n",
    "    songs_cleaned['artist_terms'][i] = list_\n",
    "    i += 1"
   ]
  },
  {
   "cell_type": "code",
   "execution_count": 4,
   "id": "76ec6050",
   "metadata": {},
   "outputs": [
    {
     "data": {
      "text/html": [
       "<div>\n",
       "<style scoped>\n",
       "    .dataframe tbody tr th:only-of-type {\n",
       "        vertical-align: middle;\n",
       "    }\n",
       "\n",
       "    .dataframe tbody tr th {\n",
       "        vertical-align: top;\n",
       "    }\n",
       "\n",
       "    .dataframe thead th {\n",
       "        text-align: right;\n",
       "    }\n",
       "</style>\n",
       "<table border=\"1\" class=\"dataframe\">\n",
       "  <thead>\n",
       "    <tr style=\"text-align: right;\">\n",
       "      <th></th>\n",
       "      <th>artist_id</th>\n",
       "      <th>song_id</th>\n",
       "      <th>artist_terms</th>\n",
       "    </tr>\n",
       "  </thead>\n",
       "  <tbody>\n",
       "    <tr>\n",
       "      <th>0</th>\n",
       "      <td>ARMJAGH1187FB546F3</td>\n",
       "      <td>SOCIWDW12A8C13D406</td>\n",
       "      <td>[blue-eyedsoul, poprock, blues-rock, beachmusi...</td>\n",
       "    </tr>\n",
       "    <tr>\n",
       "      <th>1</th>\n",
       "      <td>ARXR32B1187FB57099</td>\n",
       "      <td>SOFSOCN12A8C143F5D</td>\n",
       "      <td>[poppunk, skapunk, breakcore, alternativemetal...</td>\n",
       "    </tr>\n",
       "    <tr>\n",
       "      <th>2</th>\n",
       "      <td>AR10USD1187B99F3F1</td>\n",
       "      <td>SOHKNRJ12A6701D1F8</td>\n",
       "      <td>[post-hardcore, screamo, emo, hardcore, punkre...</td>\n",
       "    </tr>\n",
       "    <tr>\n",
       "      <th>3</th>\n",
       "      <td>ARC43071187B990240</td>\n",
       "      <td>SOKEJEJ12A8C13E0D0</td>\n",
       "      <td>[ccm, religiousmusic, losangeles, christianroc...</td>\n",
       "    </tr>\n",
       "    <tr>\n",
       "      <th>4</th>\n",
       "      <td>ARL7K851187B99ACD2</td>\n",
       "      <td>SOMUYGI12AB0188633</td>\n",
       "      <td>[bachata, merengue, reggaeton, latinpop, spani...</td>\n",
       "    </tr>\n",
       "  </tbody>\n",
       "</table>\n",
       "</div>"
      ],
      "text/plain": [
       "            artist_id             song_id  \\\n",
       "0  ARMJAGH1187FB546F3  SOCIWDW12A8C13D406   \n",
       "1  ARXR32B1187FB57099  SOFSOCN12A8C143F5D   \n",
       "2  AR10USD1187B99F3F1  SOHKNRJ12A6701D1F8   \n",
       "3  ARC43071187B990240  SOKEJEJ12A8C13E0D0   \n",
       "4  ARL7K851187B99ACD2  SOMUYGI12AB0188633   \n",
       "\n",
       "                                        artist_terms  \n",
       "0  [blue-eyedsoul, poprock, blues-rock, beachmusi...  \n",
       "1  [poppunk, skapunk, breakcore, alternativemetal...  \n",
       "2  [post-hardcore, screamo, emo, hardcore, punkre...  \n",
       "3  [ccm, religiousmusic, losangeles, christianroc...  \n",
       "4  [bachata, merengue, reggaeton, latinpop, spani...  "
      ]
     },
     "execution_count": 4,
     "metadata": {},
     "output_type": "execute_result"
    }
   ],
   "source": [
    "songs_cleaned.head()"
   ]
  },
  {
   "cell_type": "code",
   "execution_count": 5,
   "id": "5a998be3",
   "metadata": {
    "scrolled": false
   },
   "outputs": [
    {
     "name": "stdout",
     "output_type": "stream",
     "text": [
      "697064\n"
     ]
    },
    {
     "data": {
      "text/html": [
       "<div>\n",
       "<style scoped>\n",
       "    .dataframe tbody tr th:only-of-type {\n",
       "        vertical-align: middle;\n",
       "    }\n",
       "\n",
       "    .dataframe tbody tr th {\n",
       "        vertical-align: top;\n",
       "    }\n",
       "\n",
       "    .dataframe thead th {\n",
       "        text-align: right;\n",
       "    }\n",
       "</style>\n",
       "<table border=\"1\" class=\"dataframe\">\n",
       "  <thead>\n",
       "    <tr style=\"text-align: right;\">\n",
       "      <th></th>\n",
       "      <th>userID</th>\n",
       "      <th>songID</th>\n",
       "      <th>play_count</th>\n",
       "    </tr>\n",
       "  </thead>\n",
       "  <tbody>\n",
       "    <tr>\n",
       "      <th>0</th>\n",
       "      <td>b80344d063b5ccb3212f76538f3d9e43d87dca9e</td>\n",
       "      <td>SOWEZSI12A81C21CE6</td>\n",
       "      <td>1</td>\n",
       "    </tr>\n",
       "    <tr>\n",
       "      <th>1</th>\n",
       "      <td>4bd88bfb25263a75bbdd467e74018f4ae570e5df</td>\n",
       "      <td>SODCXXY12AB0187452</td>\n",
       "      <td>2</td>\n",
       "    </tr>\n",
       "    <tr>\n",
       "      <th>2</th>\n",
       "      <td>b64cdd1a0bd907e5e00b39e345194768e330d652</td>\n",
       "      <td>SOLXDDC12A6701FBFD</td>\n",
       "      <td>1</td>\n",
       "    </tr>\n",
       "    <tr>\n",
       "      <th>3</th>\n",
       "      <td>b64cdd1a0bd907e5e00b39e345194768e330d652</td>\n",
       "      <td>SONQBUB12A6D4F8ED0</td>\n",
       "      <td>2</td>\n",
       "    </tr>\n",
       "    <tr>\n",
       "      <th>4</th>\n",
       "      <td>5a905f000fc1ff3df7ca807d57edb608863db05d</td>\n",
       "      <td>SOFKTPP12A8C1385CA</td>\n",
       "      <td>1</td>\n",
       "    </tr>\n",
       "  </tbody>\n",
       "</table>\n",
       "</div>"
      ],
      "text/plain": [
       "                                     userID              songID  play_count\n",
       "0  b80344d063b5ccb3212f76538f3d9e43d87dca9e  SOWEZSI12A81C21CE6           1\n",
       "1  4bd88bfb25263a75bbdd467e74018f4ae570e5df  SODCXXY12AB0187452           2\n",
       "2  b64cdd1a0bd907e5e00b39e345194768e330d652  SOLXDDC12A6701FBFD           1\n",
       "3  b64cdd1a0bd907e5e00b39e345194768e330d652  SONQBUB12A6D4F8ED0           2\n",
       "4  5a905f000fc1ff3df7ca807d57edb608863db05d  SOFKTPP12A8C1385CA           1"
      ]
     },
     "execution_count": 5,
     "metadata": {},
     "output_type": "execute_result"
    }
   ],
   "source": [
    "# Read the user tastes' dataset\n",
    "\n",
    "with ZipFile('data/users_cleaned.zip', 'r') as zipfile:\n",
    "    data = zipfile.read('out.csv')\n",
    "\n",
    "users_cleaned = pd.read_csv(BytesIO(data))\n",
    "print(len(users_cleaned))\n",
    "users_cleaned.head()"
   ]
  },
  {
   "cell_type": "code",
   "execution_count": 6,
   "id": "11f4379f",
   "metadata": {},
   "outputs": [
    {
     "name": "stdout",
     "output_type": "stream",
     "text": [
      "We have a total of 386670 users.\n",
      "In the subset for the evaluation we have a total number of 5000 users.\n"
     ]
    }
   ],
   "source": [
    "# How many different users there are\n",
    "print(\"We have a total of\", len(set(users_cleaned['userID'])), \"users.\")\n",
    "\n",
    "# Let's take a subset of users to evaluate the performance of the various recommendation systems\n",
    "nb_of_users = 5000\n",
    "\n",
    "users_subset = users_cleaned[users_cleaned['userID'].isin(list(set(users_cleaned['userID']))[:nb_of_users])]\n",
    "print(\"In the subset for the evaluation we have a total number of\", len(set(users_subset['userID'])), \"users.\")"
   ]
  },
  {
   "cell_type": "code",
   "execution_count": 7,
   "id": "d266bb0e",
   "metadata": {},
   "outputs": [
    {
     "data": {
      "text/html": [
       "<div>\n",
       "<style scoped>\n",
       "    .dataframe tbody tr th:only-of-type {\n",
       "        vertical-align: middle;\n",
       "    }\n",
       "\n",
       "    .dataframe tbody tr th {\n",
       "        vertical-align: top;\n",
       "    }\n",
       "\n",
       "    .dataframe thead th {\n",
       "        text-align: right;\n",
       "    }\n",
       "</style>\n",
       "<table border=\"1\" class=\"dataframe\">\n",
       "  <thead>\n",
       "    <tr style=\"text-align: right;\">\n",
       "      <th></th>\n",
       "      <th>userID</th>\n",
       "      <th>songID</th>\n",
       "      <th>play_count</th>\n",
       "    </tr>\n",
       "  </thead>\n",
       "  <tbody>\n",
       "    <tr>\n",
       "      <th>204</th>\n",
       "      <td>dde4fa01de271d51a4a5617ae79820cee7d26d96</td>\n",
       "      <td>SOEHWGF12A6D4F8B2B</td>\n",
       "      <td>2</td>\n",
       "    </tr>\n",
       "    <tr>\n",
       "      <th>205</th>\n",
       "      <td>dde4fa01de271d51a4a5617ae79820cee7d26d96</td>\n",
       "      <td>SOKTJKI12A8C143254</td>\n",
       "      <td>3</td>\n",
       "    </tr>\n",
       "    <tr>\n",
       "      <th>206</th>\n",
       "      <td>dde4fa01de271d51a4a5617ae79820cee7d26d96</td>\n",
       "      <td>SOMTXSB12AF72ACC38</td>\n",
       "      <td>2</td>\n",
       "    </tr>\n",
       "    <tr>\n",
       "      <th>863</th>\n",
       "      <td>fd3b4d56e254080967e51c6a0bb83ef0c3d0b4ce</td>\n",
       "      <td>SOHBOGO12A8C13B8F8</td>\n",
       "      <td>1</td>\n",
       "    </tr>\n",
       "    <tr>\n",
       "      <th>940</th>\n",
       "      <td>d15ccfe31ab990bab923ff5ee4970b83a735055b</td>\n",
       "      <td>SOHTWLT12A8C13CFE1</td>\n",
       "      <td>1</td>\n",
       "    </tr>\n",
       "  </tbody>\n",
       "</table>\n",
       "</div>"
      ],
      "text/plain": [
       "                                       userID              songID  play_count\n",
       "204  dde4fa01de271d51a4a5617ae79820cee7d26d96  SOEHWGF12A6D4F8B2B           2\n",
       "205  dde4fa01de271d51a4a5617ae79820cee7d26d96  SOKTJKI12A8C143254           3\n",
       "206  dde4fa01de271d51a4a5617ae79820cee7d26d96  SOMTXSB12AF72ACC38           2\n",
       "863  fd3b4d56e254080967e51c6a0bb83ef0c3d0b4ce  SOHBOGO12A8C13B8F8           1\n",
       "940  d15ccfe31ab990bab923ff5ee4970b83a735055b  SOHTWLT12A8C13CFE1           1"
      ]
     },
     "execution_count": 7,
     "metadata": {},
     "output_type": "execute_result"
    }
   ],
   "source": [
    "users_subset.head()"
   ]
  },
  {
   "cell_type": "markdown",
   "id": "8d3d53ea",
   "metadata": {},
   "source": [
    "# Content based recommendation\n",
    "<a id='content'></a>"
   ]
  },
  {
   "cell_type": "markdown",
   "id": "98e3532d",
   "metadata": {},
   "source": [
    "### Represent songs as vectors\n",
    "\n",
    "We use the feature artist_terms and implement one-hot-encoding. With one-hot-encoding, we convert each categorical value into a new categorical column and assign a binary value 1 or 0 to each feature if the term was initially in the terms of a song."
   ]
  },
  {
   "cell_type": "code",
   "execution_count": 8,
   "id": "77f49932",
   "metadata": {},
   "outputs": [],
   "source": [
    "df_songs = songs_cleaned"
   ]
  },
  {
   "cell_type": "code",
   "execution_count": 9,
   "id": "7ed7daa8",
   "metadata": {},
   "outputs": [
    {
     "name": "stdout",
     "output_type": "stream",
     "text": [
      "Songs will be represented as binary vectors of dimension 2294\n"
     ]
    }
   ],
   "source": [
    "# First, extract the set of artist_terms\n",
    "\n",
    "all_terms = []\n",
    "for row in range(len(df_songs)):\n",
    "    if df_songs['artist_terms'][row] == []:\n",
    "        print('vacia')\n",
    "    all_terms.append(df_songs['artist_terms'][row])\n",
    "\n",
    "all_terms = np.concatenate(all_terms)\n",
    "all_terms = list(set(all_terms)) # we have gotten a list of the set of all artist_terms\n",
    "\n",
    "d = len(all_terms) # dimension of the vectors we are representing\n",
    "print('Songs will be represented as binary vectors of dimension', d)"
   ]
  },
  {
   "cell_type": "code",
   "execution_count": 10,
   "id": "fb6d34bc",
   "metadata": {
    "scrolled": true
   },
   "outputs": [],
   "source": [
    "# Now, we intend to create a binary vector (length = d) that represents a song, \n",
    "# with 1s if the song has this term and 0s if it hasn't.\n",
    "\n",
    "def vectorize(song):\n",
    "\n",
    "    index = int(df_songs.index[df_songs['song_id'] == song][0])\n",
    "    vector = np.zeros(len(all_terms))\n",
    "\n",
    "    for i in range(len(vector)):\n",
    "        if all_terms[i] in df_songs['artist_terms'][index]:\n",
    "            vector[i] = 1\n",
    "            \n",
    "    return vector"
   ]
  },
  {
   "cell_type": "code",
   "execution_count": 11,
   "id": "e5f5a50f",
   "metadata": {},
   "outputs": [
    {
     "data": {
      "application/vnd.jupyter.widget-view+json": {
       "model_id": "73a33eca11b942cb990048ef2a09421f",
       "version_major": 2,
       "version_minor": 0
      },
      "text/plain": [
       "  0%|          | 0/3195 [00:00<?, ?it/s]"
      ]
     },
     "metadata": {},
     "output_type": "display_data"
    }
   ],
   "source": [
    "# Vectorize ALL the songs and save it into a dictionary\n",
    "\n",
    "vector_representation = {}\n",
    "\n",
    "for song in tqdm(df_songs['song_id']):\n",
    "    vector_representation[song] = vectorize(song)\n",
    "    \n",
    "#vector_representation # we end up with a dictionary of songs with their vector representation"
   ]
  },
  {
   "cell_type": "markdown",
   "id": "2c92d1b2",
   "metadata": {},
   "source": [
    "### Get the user profiles\n",
    "\n",
    "We will represent each user as a vector of dimension d. \n",
    "The representation is the weighted average of the songs that the user has already listened to."
   ]
  },
  {
   "cell_type": "code",
   "execution_count": 12,
   "id": "3c29271f",
   "metadata": {},
   "outputs": [],
   "source": [
    "# Compute all the results only for the subset of 5000 users\n",
    "user_plays = users_subset"
   ]
  },
  {
   "cell_type": "code",
   "execution_count": 13,
   "id": "314ddb1d",
   "metadata": {},
   "outputs": [],
   "source": [
    "# Get the User profile: that will be a vector of dimension d computed as the weighted average of his played songs\n",
    "# Get user profile for all users\n",
    "\n",
    "def getUserProfile(user):\n",
    "\n",
    "    song_counts = list(user_plays[user_plays['userID'] == user]['play_count'])\n",
    "    song_list = list(user_plays[user_plays['userID'] == user]['songID'])\n",
    "\n",
    "\n",
    "    # Check if the user songs are in the song dataset and get the indices of the songs\n",
    "    indices = []\n",
    "    for song in song_list:\n",
    "        if song in list(df_songs['song_id']):\n",
    "            indices.append(song_list.index(song))\n",
    "        else:\n",
    "            continue\n",
    "\n",
    "\n",
    "    # Get the User profile (i.e. Compute the (weighted) average of the songs of a user)\n",
    "    a = [song_counts[i] for i in indices]\n",
    "    b = [vector_representation[song_list[i]] for i in indices]\n",
    "\n",
    "    numerator = np.zeros(d)\n",
    "    for i in range(len(a)):\n",
    "        numerator = numerator + ( a[i] * np.asarray(b[i]) )\n",
    "\n",
    "    user_profile = numerator / sum(a)\n",
    "    return user_profile"
   ]
  },
  {
   "cell_type": "code",
   "execution_count": 14,
   "id": "460ff4f5",
   "metadata": {},
   "outputs": [
    {
     "data": {
      "application/vnd.jupyter.widget-view+json": {
       "model_id": "c370639132f24b289066ca57a4eed821",
       "version_major": 2,
       "version_minor": 0
      },
      "text/plain": [
       "  0%|          | 0/5000 [00:00<?, ?it/s]"
      ]
     },
     "metadata": {},
     "output_type": "display_data"
    }
   ],
   "source": [
    "# Get user profiles for every user in the users_plays dataset\n",
    "# If users_plays = users_cleaned --> Very slow cell (it lasts 1 day). Set to True to run this cell. Or, read the already created dictionary in the file user_profiles.pkl\n",
    "# Otherwise if users_plays = users_subset, (since it is a subset) OK.\n",
    "\n",
    "create_user_profiles = True\n",
    "\n",
    "if create_user_profiles:\n",
    "    users = set(list(user_plays['userID']))\n",
    "    user_profiles = {}\n",
    "    for user in tqdm(users):\n",
    "        user_profiles[user] = getUserProfile(user)"
   ]
  },
  {
   "cell_type": "code",
   "execution_count": 15,
   "id": "ba857333",
   "metadata": {},
   "outputs": [],
   "source": [
    "# Save dictionary of user_profiles\n",
    "# Set to True if you want to save the user_profiles dictionary as a separate file\n",
    "if create_user_profiles:\n",
    "    with open(\"user_profiles.pkl\", \"wb\") as f:\n",
    "        pickle.dump(user_profiles, f)"
   ]
  },
  {
   "cell_type": "code",
   "execution_count": 16,
   "id": "da15993e",
   "metadata": {},
   "outputs": [
    {
     "name": "stdout",
     "output_type": "stream",
     "text": [
      "We have 5000 users in this dictionary.\n"
     ]
    }
   ],
   "source": [
    "# Read user_profiles file and save it into a dictionary\n",
    "if not create_user_profiles:\n",
    "    with open(\"user_profiles.pkl\", \"rb\") as a_file:\n",
    "        user_profiles = pickle.load(a_file)\n",
    "print(\"We have\", len(user_profiles), \"users in this dictionary.\")"
   ]
  },
  {
   "cell_type": "markdown",
   "id": "c250690e",
   "metadata": {},
   "source": [
    "### Get recommendation\n",
    "\n",
    "We will recommend the songs of our dataset that are more similar to the user profile."
   ]
  },
  {
   "cell_type": "code",
   "execution_count": 17,
   "id": "4c1f7352",
   "metadata": {},
   "outputs": [],
   "source": [
    "# Recommendations for all users\n",
    "\n",
    "def getRecommendation(user):\n",
    "    user_profile = user_profiles[user]\n",
    "    \n",
    "    scores_dict = {}\n",
    "    for song in df_songs['song_id']:\n",
    "        dist = np.linalg.norm(user_profile - vector_representation[song]) # euclidean distance\n",
    "        scores_dict[song] = dist\n",
    "\n",
    "    # R best recommendations\n",
    "    R = 10\n",
    "    recommended_songs = []\n",
    "    for score in np.sort(list(scores_dict.values()))[0:R]:\n",
    "        recommended_songs.append(list({i for i in scores_dict if scores_dict[i]==score}))\n",
    "\n",
    "    recommended_songs = list(set(np.concatenate(recommended_songs)))\n",
    "\n",
    "    return recommended_songs"
   ]
  },
  {
   "cell_type": "code",
   "execution_count": 18,
   "id": "592418a6",
   "metadata": {},
   "outputs": [
    {
     "data": {
      "application/vnd.jupyter.widget-view+json": {
       "model_id": "66782fdd4d204609bd926241c797b40e",
       "version_major": 2,
       "version_minor": 0
      },
      "text/plain": [
       "  0%|          | 0/5000 [00:00<?, ?it/s]"
      ]
     },
     "metadata": {},
     "output_type": "display_data"
    }
   ],
   "source": [
    "# Create dictionary of user_recommendations\n",
    "# Set to True if you want to create it again.\n",
    "# If users_plays = users_cleaned --> Very slow cell (it takes forever)\n",
    "# Otherwise if users_plays = users_subset, OK.\n",
    "if True:\n",
    "    user_recommendations = {}\n",
    "    counter = 0\n",
    "    for key in tqdm(user_profiles.keys()):\n",
    "        if counter < 10000: # control parameter, if we have more than a certain nb of users, don't compute it all\n",
    "            user_recommendations[key] = getRecommendation(key)\n",
    "            counter += 1\n",
    "        else:\n",
    "            break"
   ]
  },
  {
   "cell_type": "code",
   "execution_count": 19,
   "id": "a26f8b8f",
   "metadata": {},
   "outputs": [],
   "source": [
    "# Save dictionary of user_recommendations\n",
    "# Set to True if you want to save the user_recommendations dictionary as a separate file\n",
    "save_user_recommendations = True\n",
    "if save_user_recommendations:\n",
    "    with open(\"user_recommendations.pkl\", \"wb\") as f:\n",
    "        pickle.dump(user_recommendations, f)"
   ]
  },
  {
   "cell_type": "code",
   "execution_count": 20,
   "id": "fe7152bb",
   "metadata": {},
   "outputs": [],
   "source": [
    "# Read user_recommendations file and save it into a dictionary\n",
    "if not save_user_recommendations:\n",
    "    with open(\"user_recommendations.pkl\", \"rb\") as a_file:\n",
    "        user_recommendations = pickle.load(a_file)\n",
    "    print(\"We have\", len(user_recommendations), \"users with their recommendations.\")"
   ]
  },
  {
   "cell_type": "markdown",
   "id": "0886257e",
   "metadata": {},
   "source": [
    "### Evaluation of recommendation\n",
    "\n",
    "We can use different methods:"
   ]
  },
  {
   "cell_type": "markdown",
   "id": "e5a65450",
   "metadata": {},
   "source": [
    "#### Intra-list similarity\n",
    "\n",
    "Intra-list similarity is the average cosine similarity of all items in a list of recommendations.\n",
    "Intra-list similarity can be calculated for each user, and averaged over all users in the test set to get an estimate of intra-list similarity for the model."
   ]
  },
  {
   "cell_type": "code",
   "execution_count": 21,
   "id": "2e6d984e",
   "metadata": {},
   "outputs": [],
   "source": [
    "# Cosine similarity\n",
    "from numpy.linalg import norm\n",
    "def cosine_similarity(song1, song2):\n",
    "    a = vector_representation[song1]\n",
    "    b = vector_representation[song2]\n",
    "    dist = np.dot(a,b)/(norm(a)*norm(b))\n",
    "    return dist\n",
    "\n",
    "# Intra list similarity function\n",
    "def intra_list_similarity(user):\n",
    "    rec = user_recommendations[user]\n",
    "    \n",
    "    # All possible pairs in list\n",
    "    if rec == None:\n",
    "        return np.NaN\n",
    "    pairs = [(a, b) for idx, a in enumerate(rec) for b in rec[idx + 1:]]\n",
    "    \n",
    "    # Compute the average distances between the pairs of the recommended songs\n",
    "    distances = []\n",
    "    for pair in pairs:\n",
    "        distances.append(cosine_similarity(pair[0], pair[1]))\n",
    "    \n",
    "    return np.mean(distances)"
   ]
  },
  {
   "cell_type": "code",
   "execution_count": 22,
   "id": "02d05187",
   "metadata": {},
   "outputs": [
    {
     "name": "stdout",
     "output_type": "stream",
     "text": [
      "The intra list similarity for Content based model is: 0.5169866937716748\n"
     ]
    }
   ],
   "source": [
    "# Get the intra-list similarity of the model\n",
    "# Average of all intra list similarities\n",
    "\n",
    "intra_list_similar = []\n",
    "for user in user_recommendations.keys():\n",
    "    intra_list_similar.append(intra_list_similarity(user))\n",
    "\n",
    "intra_similar_content = np.mean(intra_list_similar)\n",
    "print(\"The intra list similarity for Content based model is:\", intra_similar_content)"
   ]
  },
  {
   "cell_type": "markdown",
   "id": "a18639d2",
   "metadata": {},
   "source": [
    "#### Personalization (in progress)\n",
    "\n",
    "https://towardsdatascience.com/evaluation-metrics-for-recommender-systems-df56c6611093"
   ]
  },
  {
   "cell_type": "markdown",
   "id": "d3288fcd",
   "metadata": {},
   "source": [
    "#### Evaluation based on similarity of recommended songs to the user profile\n",
    "\n",
    "This method for evaluation consists of calculating the euclidean distance of the songs recommended to a user and the user profile. Then, we average these distances.\n",
    "\n",
    "If we compute this measure for every user, we then get the score for our recommendations model."
   ]
  },
  {
   "cell_type": "code",
   "execution_count": 23,
   "id": "43598be1",
   "metadata": {},
   "outputs": [],
   "source": [
    "# Compute the average of the distances of the recommended songs to the user profile \n",
    "# Distance can be calculated by euclidean or cosine similarity\n",
    "\n",
    "def average_distance(user):\n",
    "    rec = user_recommendations[user]\n",
    "    user_profile = user_profiles[user]\n",
    "    if rec == None:\n",
    "        return np.NaN\n",
    "    distances = []\n",
    "    for song in rec:\n",
    "        a = vector_representation[song]\n",
    "        distances.append(np.linalg.norm(a-user_profile)) # euclidean distance\n",
    "    return np.mean(distances)"
   ]
  },
  {
   "cell_type": "code",
   "execution_count": 24,
   "id": "b2a3585f",
   "metadata": {
    "scrolled": true
   },
   "outputs": [
    {
     "name": "stdout",
     "output_type": "stream",
     "text": [
      "The average similarity for Content based model is: 3.1304618950972376\n"
     ]
    }
   ],
   "source": [
    "# Get the average similarity of the model\n",
    "# Average of all similarities\n",
    "\n",
    "average_similar = []\n",
    "for user in user_recommendations.keys():\n",
    "    average_similar.append(average_distance(user))\n",
    "average_similar_content = np.mean(average_similar)\n",
    "print(\"The average similarity for Content based model is:\" , average_similar_content)"
   ]
  },
  {
   "cell_type": "markdown",
   "id": "c00d083f",
   "metadata": {},
   "source": [
    "# Random recommendation (baseline)\n",
    "<a id='random'></a>\n",
    "The random recommendation model assign a list of random songs to every user."
   ]
  },
  {
   "cell_type": "code",
   "execution_count": 132,
   "id": "422498e3",
   "metadata": {},
   "outputs": [],
   "source": [
    "user_recommendations = {}\n",
    "\n",
    "for user in set(users_subset['userID']):\n",
    "    user_recommendations[user] = random.sample(list(songs_cleaned['song_id']), k=10)"
   ]
  },
  {
   "cell_type": "markdown",
   "id": "14665782",
   "metadata": {},
   "source": [
    "#### Intra-list similarity"
   ]
  },
  {
   "cell_type": "code",
   "execution_count": 133,
   "id": "f6ca2561",
   "metadata": {},
   "outputs": [
    {
     "name": "stdout",
     "output_type": "stream",
     "text": [
      "The intra list similarity for baseline model is: 0.17118468077292823\n"
     ]
    }
   ],
   "source": [
    "# Get the intra-list similarity of the model\n",
    "# Average of all intra list similarities\n",
    "\n",
    "intra_list_similar = []\n",
    "for user in user_recommendations.keys():\n",
    "    intra_list_similar.append(intra_list_similarity(user))\n",
    "intra_similar_baseline = np.mean(intra_list_similar)\n",
    "print(\"The intra list similarity for baseline model is:\", intra_similar_baseline)"
   ]
  },
  {
   "cell_type": "markdown",
   "id": "863ec27c",
   "metadata": {},
   "source": [
    "#### Evaluation based on similarity of recommended songs to the user profile"
   ]
  },
  {
   "cell_type": "code",
   "execution_count": 134,
   "id": "5ca4bd0b",
   "metadata": {},
   "outputs": [
    {
     "name": "stdout",
     "output_type": "stream",
     "text": [
      "The average similarity for baseline model is: 6.224215751508114\n"
     ]
    }
   ],
   "source": [
    "# Get the average similarity of the model\n",
    "# Average of all similarities\n",
    "\n",
    "average_similar = []\n",
    "for user in user_recommendations.keys():\n",
    "    average_similar.append(average_distance(user))\n",
    "average_similar_baseline = np.mean(average_similar)\n",
    "print(\"The average similarity for baseline model is:\" , average_similar_baseline)"
   ]
  },
  {
   "cell_type": "markdown",
   "id": "ba1949e6",
   "metadata": {},
   "source": [
    "# Clustering\n",
    "<a id='clustering'></a>\n",
    "\n",
    "Another method that we could apply to get recommendations based on content (in our case features of the songs) can be through clustering.\n",
    "\n",
    "In this part, we cluster songs by similarity with K-means algorithm. Then, since we have computed the user profile for every user, we compute the distance of each user to the centroid of each cluster in order to obtain the cluster to which each user is \"closer\" to. Finally, the recommendation will be a random set of songs of obtained the cluster."
   ]
  },
  {
   "cell_type": "code",
   "execution_count": 29,
   "id": "bd9c38ad",
   "metadata": {},
   "outputs": [
    {
     "data": {
      "text/html": [
       "<div>\n",
       "<style scoped>\n",
       "    .dataframe tbody tr th:only-of-type {\n",
       "        vertical-align: middle;\n",
       "    }\n",
       "\n",
       "    .dataframe tbody tr th {\n",
       "        vertical-align: top;\n",
       "    }\n",
       "\n",
       "    .dataframe thead th {\n",
       "        text-align: right;\n",
       "    }\n",
       "</style>\n",
       "<table border=\"1\" class=\"dataframe\">\n",
       "  <thead>\n",
       "    <tr style=\"text-align: right;\">\n",
       "      <th></th>\n",
       "      <th>0</th>\n",
       "      <th>1</th>\n",
       "      <th>2</th>\n",
       "      <th>3</th>\n",
       "      <th>4</th>\n",
       "      <th>5</th>\n",
       "      <th>6</th>\n",
       "      <th>7</th>\n",
       "      <th>8</th>\n",
       "      <th>9</th>\n",
       "      <th>...</th>\n",
       "      <th>2284</th>\n",
       "      <th>2285</th>\n",
       "      <th>2286</th>\n",
       "      <th>2287</th>\n",
       "      <th>2288</th>\n",
       "      <th>2289</th>\n",
       "      <th>2290</th>\n",
       "      <th>2291</th>\n",
       "      <th>2292</th>\n",
       "      <th>2293</th>\n",
       "    </tr>\n",
       "  </thead>\n",
       "  <tbody>\n",
       "    <tr>\n",
       "      <th>SOCIWDW12A8C13D406</th>\n",
       "      <td>0.0</td>\n",
       "      <td>0.0</td>\n",
       "      <td>0.0</td>\n",
       "      <td>0.0</td>\n",
       "      <td>0.0</td>\n",
       "      <td>0.0</td>\n",
       "      <td>0.0</td>\n",
       "      <td>0.0</td>\n",
       "      <td>0.0</td>\n",
       "      <td>0.0</td>\n",
       "      <td>...</td>\n",
       "      <td>0.0</td>\n",
       "      <td>0.0</td>\n",
       "      <td>0.0</td>\n",
       "      <td>0.0</td>\n",
       "      <td>0.0</td>\n",
       "      <td>0.0</td>\n",
       "      <td>0.0</td>\n",
       "      <td>0.0</td>\n",
       "      <td>0.0</td>\n",
       "      <td>0.0</td>\n",
       "    </tr>\n",
       "    <tr>\n",
       "      <th>SOFSOCN12A8C143F5D</th>\n",
       "      <td>0.0</td>\n",
       "      <td>0.0</td>\n",
       "      <td>0.0</td>\n",
       "      <td>0.0</td>\n",
       "      <td>0.0</td>\n",
       "      <td>0.0</td>\n",
       "      <td>0.0</td>\n",
       "      <td>0.0</td>\n",
       "      <td>0.0</td>\n",
       "      <td>0.0</td>\n",
       "      <td>...</td>\n",
       "      <td>0.0</td>\n",
       "      <td>0.0</td>\n",
       "      <td>0.0</td>\n",
       "      <td>0.0</td>\n",
       "      <td>0.0</td>\n",
       "      <td>0.0</td>\n",
       "      <td>0.0</td>\n",
       "      <td>0.0</td>\n",
       "      <td>0.0</td>\n",
       "      <td>0.0</td>\n",
       "    </tr>\n",
       "    <tr>\n",
       "      <th>SOHKNRJ12A6701D1F8</th>\n",
       "      <td>0.0</td>\n",
       "      <td>0.0</td>\n",
       "      <td>0.0</td>\n",
       "      <td>0.0</td>\n",
       "      <td>0.0</td>\n",
       "      <td>0.0</td>\n",
       "      <td>0.0</td>\n",
       "      <td>0.0</td>\n",
       "      <td>0.0</td>\n",
       "      <td>0.0</td>\n",
       "      <td>...</td>\n",
       "      <td>0.0</td>\n",
       "      <td>0.0</td>\n",
       "      <td>0.0</td>\n",
       "      <td>0.0</td>\n",
       "      <td>0.0</td>\n",
       "      <td>0.0</td>\n",
       "      <td>0.0</td>\n",
       "      <td>0.0</td>\n",
       "      <td>0.0</td>\n",
       "      <td>0.0</td>\n",
       "    </tr>\n",
       "    <tr>\n",
       "      <th>SOKEJEJ12A8C13E0D0</th>\n",
       "      <td>0.0</td>\n",
       "      <td>0.0</td>\n",
       "      <td>0.0</td>\n",
       "      <td>0.0</td>\n",
       "      <td>0.0</td>\n",
       "      <td>0.0</td>\n",
       "      <td>0.0</td>\n",
       "      <td>0.0</td>\n",
       "      <td>0.0</td>\n",
       "      <td>0.0</td>\n",
       "      <td>...</td>\n",
       "      <td>0.0</td>\n",
       "      <td>0.0</td>\n",
       "      <td>0.0</td>\n",
       "      <td>0.0</td>\n",
       "      <td>0.0</td>\n",
       "      <td>0.0</td>\n",
       "      <td>0.0</td>\n",
       "      <td>0.0</td>\n",
       "      <td>0.0</td>\n",
       "      <td>0.0</td>\n",
       "    </tr>\n",
       "    <tr>\n",
       "      <th>SOMUYGI12AB0188633</th>\n",
       "      <td>0.0</td>\n",
       "      <td>0.0</td>\n",
       "      <td>0.0</td>\n",
       "      <td>0.0</td>\n",
       "      <td>0.0</td>\n",
       "      <td>0.0</td>\n",
       "      <td>0.0</td>\n",
       "      <td>0.0</td>\n",
       "      <td>0.0</td>\n",
       "      <td>0.0</td>\n",
       "      <td>...</td>\n",
       "      <td>0.0</td>\n",
       "      <td>0.0</td>\n",
       "      <td>0.0</td>\n",
       "      <td>0.0</td>\n",
       "      <td>0.0</td>\n",
       "      <td>0.0</td>\n",
       "      <td>0.0</td>\n",
       "      <td>0.0</td>\n",
       "      <td>0.0</td>\n",
       "      <td>0.0</td>\n",
       "    </tr>\n",
       "    <tr>\n",
       "      <th>...</th>\n",
       "      <td>...</td>\n",
       "      <td>...</td>\n",
       "      <td>...</td>\n",
       "      <td>...</td>\n",
       "      <td>...</td>\n",
       "      <td>...</td>\n",
       "      <td>...</td>\n",
       "      <td>...</td>\n",
       "      <td>...</td>\n",
       "      <td>...</td>\n",
       "      <td>...</td>\n",
       "      <td>...</td>\n",
       "      <td>...</td>\n",
       "      <td>...</td>\n",
       "      <td>...</td>\n",
       "      <td>...</td>\n",
       "      <td>...</td>\n",
       "      <td>...</td>\n",
       "      <td>...</td>\n",
       "      <td>...</td>\n",
       "      <td>...</td>\n",
       "    </tr>\n",
       "    <tr>\n",
       "      <th>SOILDRV12A8C13EB77</th>\n",
       "      <td>0.0</td>\n",
       "      <td>0.0</td>\n",
       "      <td>0.0</td>\n",
       "      <td>0.0</td>\n",
       "      <td>0.0</td>\n",
       "      <td>0.0</td>\n",
       "      <td>0.0</td>\n",
       "      <td>0.0</td>\n",
       "      <td>1.0</td>\n",
       "      <td>0.0</td>\n",
       "      <td>...</td>\n",
       "      <td>0.0</td>\n",
       "      <td>0.0</td>\n",
       "      <td>0.0</td>\n",
       "      <td>0.0</td>\n",
       "      <td>0.0</td>\n",
       "      <td>0.0</td>\n",
       "      <td>0.0</td>\n",
       "      <td>0.0</td>\n",
       "      <td>0.0</td>\n",
       "      <td>0.0</td>\n",
       "    </tr>\n",
       "    <tr>\n",
       "      <th>SOBUUYV12A58A7DA27</th>\n",
       "      <td>0.0</td>\n",
       "      <td>0.0</td>\n",
       "      <td>0.0</td>\n",
       "      <td>0.0</td>\n",
       "      <td>0.0</td>\n",
       "      <td>0.0</td>\n",
       "      <td>0.0</td>\n",
       "      <td>0.0</td>\n",
       "      <td>0.0</td>\n",
       "      <td>0.0</td>\n",
       "      <td>...</td>\n",
       "      <td>0.0</td>\n",
       "      <td>0.0</td>\n",
       "      <td>0.0</td>\n",
       "      <td>0.0</td>\n",
       "      <td>0.0</td>\n",
       "      <td>0.0</td>\n",
       "      <td>0.0</td>\n",
       "      <td>0.0</td>\n",
       "      <td>0.0</td>\n",
       "      <td>0.0</td>\n",
       "    </tr>\n",
       "    <tr>\n",
       "      <th>SOUWMIW12AB0184748</th>\n",
       "      <td>0.0</td>\n",
       "      <td>0.0</td>\n",
       "      <td>0.0</td>\n",
       "      <td>1.0</td>\n",
       "      <td>0.0</td>\n",
       "      <td>0.0</td>\n",
       "      <td>0.0</td>\n",
       "      <td>0.0</td>\n",
       "      <td>0.0</td>\n",
       "      <td>0.0</td>\n",
       "      <td>...</td>\n",
       "      <td>0.0</td>\n",
       "      <td>0.0</td>\n",
       "      <td>0.0</td>\n",
       "      <td>0.0</td>\n",
       "      <td>0.0</td>\n",
       "      <td>0.0</td>\n",
       "      <td>0.0</td>\n",
       "      <td>0.0</td>\n",
       "      <td>0.0</td>\n",
       "      <td>0.0</td>\n",
       "    </tr>\n",
       "    <tr>\n",
       "      <th>SOLXXPY12A67ADABA0</th>\n",
       "      <td>0.0</td>\n",
       "      <td>0.0</td>\n",
       "      <td>0.0</td>\n",
       "      <td>0.0</td>\n",
       "      <td>0.0</td>\n",
       "      <td>0.0</td>\n",
       "      <td>0.0</td>\n",
       "      <td>0.0</td>\n",
       "      <td>0.0</td>\n",
       "      <td>0.0</td>\n",
       "      <td>...</td>\n",
       "      <td>0.0</td>\n",
       "      <td>0.0</td>\n",
       "      <td>0.0</td>\n",
       "      <td>0.0</td>\n",
       "      <td>0.0</td>\n",
       "      <td>0.0</td>\n",
       "      <td>0.0</td>\n",
       "      <td>0.0</td>\n",
       "      <td>0.0</td>\n",
       "      <td>0.0</td>\n",
       "    </tr>\n",
       "    <tr>\n",
       "      <th>SOFAOMI12A6D4FA2D8</th>\n",
       "      <td>0.0</td>\n",
       "      <td>0.0</td>\n",
       "      <td>0.0</td>\n",
       "      <td>0.0</td>\n",
       "      <td>0.0</td>\n",
       "      <td>0.0</td>\n",
       "      <td>0.0</td>\n",
       "      <td>0.0</td>\n",
       "      <td>0.0</td>\n",
       "      <td>0.0</td>\n",
       "      <td>...</td>\n",
       "      <td>0.0</td>\n",
       "      <td>0.0</td>\n",
       "      <td>0.0</td>\n",
       "      <td>0.0</td>\n",
       "      <td>0.0</td>\n",
       "      <td>0.0</td>\n",
       "      <td>0.0</td>\n",
       "      <td>0.0</td>\n",
       "      <td>0.0</td>\n",
       "      <td>0.0</td>\n",
       "    </tr>\n",
       "  </tbody>\n",
       "</table>\n",
       "<p>3195 rows × 2294 columns</p>\n",
       "</div>"
      ],
      "text/plain": [
       "                      0    1    2    3    4    5    6    7    8    9  ...  \\\n",
       "SOCIWDW12A8C13D406  0.0  0.0  0.0  0.0  0.0  0.0  0.0  0.0  0.0  0.0  ...   \n",
       "SOFSOCN12A8C143F5D  0.0  0.0  0.0  0.0  0.0  0.0  0.0  0.0  0.0  0.0  ...   \n",
       "SOHKNRJ12A6701D1F8  0.0  0.0  0.0  0.0  0.0  0.0  0.0  0.0  0.0  0.0  ...   \n",
       "SOKEJEJ12A8C13E0D0  0.0  0.0  0.0  0.0  0.0  0.0  0.0  0.0  0.0  0.0  ...   \n",
       "SOMUYGI12AB0188633  0.0  0.0  0.0  0.0  0.0  0.0  0.0  0.0  0.0  0.0  ...   \n",
       "...                 ...  ...  ...  ...  ...  ...  ...  ...  ...  ...  ...   \n",
       "SOILDRV12A8C13EB77  0.0  0.0  0.0  0.0  0.0  0.0  0.0  0.0  1.0  0.0  ...   \n",
       "SOBUUYV12A58A7DA27  0.0  0.0  0.0  0.0  0.0  0.0  0.0  0.0  0.0  0.0  ...   \n",
       "SOUWMIW12AB0184748  0.0  0.0  0.0  1.0  0.0  0.0  0.0  0.0  0.0  0.0  ...   \n",
       "SOLXXPY12A67ADABA0  0.0  0.0  0.0  0.0  0.0  0.0  0.0  0.0  0.0  0.0  ...   \n",
       "SOFAOMI12A6D4FA2D8  0.0  0.0  0.0  0.0  0.0  0.0  0.0  0.0  0.0  0.0  ...   \n",
       "\n",
       "                    2284  2285  2286  2287  2288  2289  2290  2291  2292  2293  \n",
       "SOCIWDW12A8C13D406   0.0   0.0   0.0   0.0   0.0   0.0   0.0   0.0   0.0   0.0  \n",
       "SOFSOCN12A8C143F5D   0.0   0.0   0.0   0.0   0.0   0.0   0.0   0.0   0.0   0.0  \n",
       "SOHKNRJ12A6701D1F8   0.0   0.0   0.0   0.0   0.0   0.0   0.0   0.0   0.0   0.0  \n",
       "SOKEJEJ12A8C13E0D0   0.0   0.0   0.0   0.0   0.0   0.0   0.0   0.0   0.0   0.0  \n",
       "SOMUYGI12AB0188633   0.0   0.0   0.0   0.0   0.0   0.0   0.0   0.0   0.0   0.0  \n",
       "...                  ...   ...   ...   ...   ...   ...   ...   ...   ...   ...  \n",
       "SOILDRV12A8C13EB77   0.0   0.0   0.0   0.0   0.0   0.0   0.0   0.0   0.0   0.0  \n",
       "SOBUUYV12A58A7DA27   0.0   0.0   0.0   0.0   0.0   0.0   0.0   0.0   0.0   0.0  \n",
       "SOUWMIW12AB0184748   0.0   0.0   0.0   0.0   0.0   0.0   0.0   0.0   0.0   0.0  \n",
       "SOLXXPY12A67ADABA0   0.0   0.0   0.0   0.0   0.0   0.0   0.0   0.0   0.0   0.0  \n",
       "SOFAOMI12A6D4FA2D8   0.0   0.0   0.0   0.0   0.0   0.0   0.0   0.0   0.0   0.0  \n",
       "\n",
       "[3195 rows x 2294 columns]"
      ]
     },
     "execution_count": 29,
     "metadata": {},
     "output_type": "execute_result"
    }
   ],
   "source": [
    "# Show the vector representation of each of the songs in a dataframe\n",
    "\n",
    "songs_list = list(vector_representation.keys())\n",
    "songs_representation_list = list(vector_representation.values())\n",
    "\n",
    "index_dict = {}\n",
    "for index in range(len(songs_list)):\n",
    "    index_dict[index] = songs_list[index]\n",
    "    \n",
    "\n",
    "columns = []\n",
    "for i in range(d):\n",
    "    columns.append(str(i))\n",
    "    \n",
    "df_vector_representation = pd.DataFrame(songs_representation_list, columns = columns)\n",
    "df_vector_representation = df_vector_representation.rename(index = index_dict)\n",
    "df_vector_representation"
   ]
  },
  {
   "cell_type": "code",
   "execution_count": 30,
   "id": "5e9bc862",
   "metadata": {},
   "outputs": [],
   "source": [
    "# K-means algorithm\n",
    "from sklearn.cluster import KMeans\n",
    "\n",
    "n_clusters = 3\n",
    "\n",
    "kmeans = KMeans(n_clusters=n_clusters, random_state=42) \n",
    "kmeans.fit(df_vector_representation)\n",
    "labels = kmeans.labels_"
   ]
  },
  {
   "cell_type": "code",
   "execution_count": 31,
   "id": "90486009",
   "metadata": {},
   "outputs": [
    {
     "data": {
      "text/plain": [
       "array([ 819, 1591,  785], dtype=int64)"
      ]
     },
     "execution_count": 31,
     "metadata": {},
     "output_type": "execute_result"
    }
   ],
   "source": [
    "# How many songs are in each cluster\n",
    "clusterCount = np.bincount(labels)\n",
    "clusterCount"
   ]
  },
  {
   "cell_type": "code",
   "execution_count": 32,
   "id": "b99ff173",
   "metadata": {},
   "outputs": [
    {
     "data": {
      "text/plain": [
       "array([[ 2.71050543e-19,  1.70940171e-02,  2.71050543e-19, ...,\n",
       "         4.88400488e-03, -3.90312782e-18,  5.42101086e-19],\n",
       "       [ 6.28535512e-04,  1.00565682e-02,  6.28535512e-04, ...,\n",
       "         1.23599048e-17,  7.54242615e-03,  1.25707102e-03],\n",
       "       [ 2.16840434e-19,  1.14649682e-02,  2.16840434e-19, ...,\n",
       "         8.67361738e-19, -3.03576608e-18,  4.33680869e-19]])"
      ]
     },
     "execution_count": 32,
     "metadata": {},
     "output_type": "execute_result"
    }
   ],
   "source": [
    "## Now we have every song in a cluster.\n",
    "# We identify the centroid of each cluster (cluster_centers_) and compare each user_profile with these.\n",
    "# We then recommend the songs of the cluster of with the user_profile is closer to the centroid.\n",
    "\n",
    "cluster_centers = kmeans.cluster_centers_\n",
    "cluster_centers"
   ]
  },
  {
   "cell_type": "code",
   "execution_count": 33,
   "id": "1bfd67f3",
   "metadata": {},
   "outputs": [
    {
     "data": {
      "text/plain": [
       "array([1621,  746,  828], dtype=int64)"
      ]
     },
     "execution_count": 33,
     "metadata": {},
     "output_type": "execute_result"
    }
   ],
   "source": [
    "# Own clustering algorithm\n",
    "class Kmeans:\n",
    "    '''Kmeans clustring algorithm. \n",
    "    Modeled to take the same input and give the same output as the sklearn Kmeans algorithm'''\n",
    "\n",
    "    def __init__(self, n_clusters):\n",
    "        self.n_clusters = n_clusters\n",
    "        self.cluster_centers_ = None\n",
    "    \n",
    "    def fit(self, data):\n",
    "        np.random.seed(0)  \n",
    "        N = data.shape[0]\n",
    "        data = np.array(data)\n",
    "        idxs = np.random.randint(0, N, self.n_clusters)\n",
    "        centroids = data[idxs]\n",
    "\n",
    "        ClusterAssignments = np.zeros(N, dtype=int)\n",
    "        oldClusterAssignments = True\n",
    "        while not np.all(ClusterAssignments == oldClusterAssignments):\n",
    "            oldClusterAssignments = np.copy(ClusterAssignments)\n",
    "\n",
    "            # assignment\n",
    "            for i in range(len(data)):\n",
    "                distances = [np.linalg.norm(data[i] - centroid) for centroid in centroids]\n",
    "                ClusterAssignments[i] = np.argmin(distances)\n",
    "                \n",
    "            # update\n",
    "            for i, centroid in enumerate(centroids):\n",
    "                if data[ClusterAssignments == i].shape[0] != 0: # ensure no division by zero\n",
    "                    centroids[i] = np.mean(data[ClusterAssignments == i])\n",
    "\n",
    "        self.labels_ = ClusterAssignments\n",
    "        self.cluster_centers_ = centroids\n",
    "\n",
    "n_clusters = 3\n",
    "kmeans = KMeans(n_clusters) \n",
    "kmeans.fit(df_vector_representation)\n",
    "labels = kmeans.labels_\n",
    "clusterCount = np.bincount(labels)\n",
    "cluster_centers = kmeans.cluster_centers_\n",
    "clusterCount"
   ]
  },
  {
   "cell_type": "code",
   "execution_count": 34,
   "id": "1d014573",
   "metadata": {
    "scrolled": true
   },
   "outputs": [
    {
     "data": {
      "application/vnd.jupyter.widget-view+json": {
       "model_id": "67422e6e9b404364b4344f19ac57725e",
       "version_major": 2,
       "version_minor": 0
      },
      "text/plain": [
       "  0%|          | 0/5000 [00:00<?, ?it/s]"
      ]
     },
     "metadata": {},
     "output_type": "display_data"
    }
   ],
   "source": [
    "# Compute the distances for each user to each centroid and recommend the songs of the correspondent cluster\n",
    "\n",
    "user_recom_cluster = {}\n",
    "\n",
    "for user, user_profile in tqdm(user_profiles.items()):\n",
    "\n",
    "    distances = []\n",
    "    for centroid in cluster_centers:\n",
    "        distances.append(np.linalg.norm(user_profile - centroid))\n",
    "\n",
    "    recommended_cluster = np.where(distances == min(distances))[0][0]\n",
    "    # print(\"For user\", user, \"we recommend the songs in cluster\", recommended_cluster)\n",
    "    \n",
    "    # Get R recommendations from the cluster\n",
    "    R = 10\n",
    "    indices = np.where(labels == recommended_cluster)\n",
    "    user_recom_cluster[user] = list(df_vector_representation.iloc[indices].sample(n=R).index)  "
   ]
  },
  {
   "cell_type": "markdown",
   "id": "c7bf462c",
   "metadata": {},
   "source": [
    "#### Evaluation"
   ]
  },
  {
   "cell_type": "code",
   "execution_count": 35,
   "id": "af07d1df",
   "metadata": {},
   "outputs": [],
   "source": [
    "user_recommendations = user_recom_cluster"
   ]
  },
  {
   "cell_type": "markdown",
   "id": "9752aab3",
   "metadata": {},
   "source": [
    "#### Intra-list similarity"
   ]
  },
  {
   "cell_type": "code",
   "execution_count": 36,
   "id": "7e25b600",
   "metadata": {},
   "outputs": [
    {
     "name": "stdout",
     "output_type": "stream",
     "text": [
      "The intra list similarity for content based cluster model is: 0.19045215911237823\n"
     ]
    }
   ],
   "source": [
    "# Get the intra-list similarity of the model\n",
    "# Average of all intra list similarities\n",
    "\n",
    "intra_list_similar = []\n",
    "for user in user_recommendations.keys():\n",
    "    intra_list_similar.append(intra_list_similarity(user))\n",
    "intra_similar_cluster = np.mean(intra_list_similar)\n",
    "print(\"The intra list similarity for content based cluster model is:\", np.mean(intra_similar_cluster))"
   ]
  },
  {
   "cell_type": "markdown",
   "id": "178e979a",
   "metadata": {},
   "source": [
    "#### Evaluation based on similarity of recommended songs to the user profile"
   ]
  },
  {
   "cell_type": "code",
   "execution_count": 37,
   "id": "4c2d3bdb",
   "metadata": {},
   "outputs": [
    {
     "name": "stdout",
     "output_type": "stream",
     "text": [
      "The average similarity for content based cluster model is: 6.084385427018495\n"
     ]
    }
   ],
   "source": [
    "# Get the average similarity of the model\n",
    "# Average of all similarities\n",
    "\n",
    "average_similar = []\n",
    "for user in user_recommendations.keys():\n",
    "    average_similar.append(average_distance(user))\n",
    "average_similar_cluster = np.mean(average_similar)\n",
    "print(\"The average similarity for content based cluster model is:\", average_similar_cluster)"
   ]
  },
  {
   "cell_type": "markdown",
   "id": "91c00ee4",
   "metadata": {},
   "source": [
    "# Item based collaborative filtering (Angeliki)\n",
    "<a id='col_filt'></a>\n",
    "\n",
    "<sup>Inspired by https://github.com/csaluja/JupyterNotebooks-Medium/blob/master/CF%20Recommendation%20System-Examples.ipynb<sup>"
   ]
  },
  {
   "cell_type": "markdown",
   "id": "95e4a092",
   "metadata": {},
   "source": [
    "Read-in the data and create the utility matrix"
   ]
  },
  {
   "cell_type": "code",
   "execution_count": 38,
   "id": "05c3b791",
   "metadata": {},
   "outputs": [
    {
     "data": {
      "text/plain": [
       "(5000, 1207)"
      ]
     },
     "execution_count": 38,
     "metadata": {},
     "output_type": "execute_result"
    }
   ],
   "source": [
    "# create the utility matrix\n",
    "utility_matrix = users_subset.pivot(index='userID', columns='songID', values='play_count')\n",
    "\n",
    "# Includes 386670 users and 3195 songs\n",
    "utility_matrix.shape "
   ]
  },
  {
   "cell_type": "code",
   "execution_count": 39,
   "id": "f94d8b03",
   "metadata": {},
   "outputs": [
    {
     "data": {
      "text/plain": [
       "array([[0., 0., 0., ..., 0., 0., 0.],\n",
       "       [0., 0., 0., ..., 0., 0., 0.],\n",
       "       [0., 0., 0., ..., 0., 0., 0.],\n",
       "       ...,\n",
       "       [0., 0., 0., ..., 0., 0., 0.],\n",
       "       [0., 0., 0., ..., 0., 0., 0.],\n",
       "       [0., 0., 0., ..., 0., 0., 0.]])"
      ]
     },
     "execution_count": 39,
     "metadata": {},
     "output_type": "execute_result"
    }
   ],
   "source": [
    "# Narrow down to 10k users and replace the NaN with 0s.\n",
    "\n",
    "df1 = utility_matrix[utility_matrix.index.isin(list(users_subset['userID']))] # the 5000 users subset\n",
    "df2 = utility_matrix[~utility_matrix.index.isin(list(users_subset['userID']))][:5000] # other 5000 subset\n",
    "u1 = pd.concat([df1, df2])\n",
    "np.nan_to_num(u1,copy=False)"
   ]
  },
  {
   "cell_type": "code",
   "execution_count": 40,
   "id": "28335cb0",
   "metadata": {},
   "outputs": [],
   "source": [
    "# users and songs to experiment with\n",
    "user = '06b4caaf4dcc2476b5ac096f08f4356b6ba9a86a'\n",
    "#user = '00038cf792e9f9a1cb593dea5779f96195aac68c'\n",
    "#user = '0002b896949cb2899feaed47104406e99eafa983'\n",
    "song = 'SOAPNML12A8C13B696'\n",
    "#song = 'SOSHUVD12A6701F8F9'\n",
    "\n",
    "samplelist = list(set(users_subset['userID']))  # list(users_subset['userID'][:2])"
   ]
  },
  {
   "cell_type": "markdown",
   "id": "96b29d48",
   "metadata": {},
   "source": [
    "**I am implementing item based collaborative filtering as it outperforms user based and items are simpler than user tastes**"
   ]
  },
  {
   "cell_type": "markdown",
   "id": "fcf440e5",
   "metadata": {},
   "source": [
    "### Recommend 10 songs to a list of users using adjusted cosine correlation"
   ]
  },
  {
   "cell_type": "markdown",
   "id": "893cd062",
   "metadata": {},
   "source": [
    "Difference between Pearson's correlation and adjusted cosine correlation:\n",
    "\n",
    "   - In pearson correlation, the mean which subtracted is about the particular item itself (ratings from all users), mean(Ri)\n",
    "   - In adjusted cosine correlation, the mean is about the particular user (ratings to all items), mean(Ru)\n",
    "\n"
   ]
  },
  {
   "cell_type": "code",
   "execution_count": 41,
   "id": "eedd4fe1",
   "metadata": {},
   "outputs": [],
   "source": [
    "# This function computes a adjusted cosine correlation matrix from a utility matrix\n",
    "def get_adj_cosine_M(utility_matrix):\n",
    "    M = utility_matrix.to_numpy()\n",
    "    M_u = M.mean(axis=1)\n",
    "    item_mean_subtracted = M - M_u[:, None]\n",
    "    similarity_matrix = 1 - squareform(pdist(item_mean_subtracted.T, 'cosine'))\n",
    "    \n",
    "    return pd.DataFrame(similarity_matrix, index=utility_matrix.columns, columns=utility_matrix.columns)"
   ]
  },
  {
   "cell_type": "code",
   "execution_count": 42,
   "id": "ec5259ba",
   "metadata": {},
   "outputs": [
    {
     "data": {
      "text/html": [
       "<div>\n",
       "<style scoped>\n",
       "    .dataframe tbody tr th:only-of-type {\n",
       "        vertical-align: middle;\n",
       "    }\n",
       "\n",
       "    .dataframe tbody tr th {\n",
       "        vertical-align: top;\n",
       "    }\n",
       "\n",
       "    .dataframe thead th {\n",
       "        text-align: right;\n",
       "    }\n",
       "</style>\n",
       "<table border=\"1\" class=\"dataframe\">\n",
       "  <thead>\n",
       "    <tr style=\"text-align: right;\">\n",
       "      <th>songID</th>\n",
       "      <th>SOAAAQN12AB01856D3</th>\n",
       "      <th>SOAASSD12AB0181AA6</th>\n",
       "      <th>SOABLAF12AB018E1D9</th>\n",
       "      <th>SOABRXK12A8C130A36</th>\n",
       "      <th>SOABTKM12A8AE4721E</th>\n",
       "      <th>SOACUIU12A6D4F715B</th>\n",
       "      <th>SOADCFY12A6310E353</th>\n",
       "      <th>SOADJND12A8C13BAE1</th>\n",
       "      <th>SOAEEXM12A8C13D6E3</th>\n",
       "      <th>SOAEJTI12A8C145051</th>\n",
       "      <th>...</th>\n",
       "      <th>SOZSKYN12A8C13A883</th>\n",
       "      <th>SOZSPRJ12A8C13EC7C</th>\n",
       "      <th>SOZTGIY12A8AE47722</th>\n",
       "      <th>SOZTUDR12A8C13FE3F</th>\n",
       "      <th>SOZVZWP12A58A7BAD1</th>\n",
       "      <th>SOZWAMN12AB018234D</th>\n",
       "      <th>SOZWCKB12AB0186C5B</th>\n",
       "      <th>SOZXTKD12A8C13FC43</th>\n",
       "      <th>SOZZPYH12AB0187578</th>\n",
       "      <th>SOZZQBH12A6D4FAFD8</th>\n",
       "    </tr>\n",
       "    <tr>\n",
       "      <th>songID</th>\n",
       "      <th></th>\n",
       "      <th></th>\n",
       "      <th></th>\n",
       "      <th></th>\n",
       "      <th></th>\n",
       "      <th></th>\n",
       "      <th></th>\n",
       "      <th></th>\n",
       "      <th></th>\n",
       "      <th></th>\n",
       "      <th></th>\n",
       "      <th></th>\n",
       "      <th></th>\n",
       "      <th></th>\n",
       "      <th></th>\n",
       "      <th></th>\n",
       "      <th></th>\n",
       "      <th></th>\n",
       "      <th></th>\n",
       "      <th></th>\n",
       "      <th></th>\n",
       "    </tr>\n",
       "  </thead>\n",
       "  <tbody>\n",
       "    <tr>\n",
       "      <th>SOAAAQN12AB01856D3</th>\n",
       "      <td>1.000000</td>\n",
       "      <td>0.043296</td>\n",
       "      <td>-0.014965</td>\n",
       "      <td>-0.003905</td>\n",
       "      <td>0.200643</td>\n",
       "      <td>-0.015117</td>\n",
       "      <td>-0.007919</td>\n",
       "      <td>0.023624</td>\n",
       "      <td>0.202002</td>\n",
       "      <td>0.012878</td>\n",
       "      <td>...</td>\n",
       "      <td>0.082653</td>\n",
       "      <td>0.054994</td>\n",
       "      <td>0.194461</td>\n",
       "      <td>0.100421</td>\n",
       "      <td>0.055489</td>\n",
       "      <td>0.153211</td>\n",
       "      <td>0.193420</td>\n",
       "      <td>0.095180</td>\n",
       "      <td>0.043825</td>\n",
       "      <td>0.073259</td>\n",
       "    </tr>\n",
       "    <tr>\n",
       "      <th>SOAASSD12AB0181AA6</th>\n",
       "      <td>0.043296</td>\n",
       "      <td>1.000000</td>\n",
       "      <td>-0.004696</td>\n",
       "      <td>-0.001409</td>\n",
       "      <td>0.057151</td>\n",
       "      <td>-0.004618</td>\n",
       "      <td>-0.002515</td>\n",
       "      <td>0.006543</td>\n",
       "      <td>0.057564</td>\n",
       "      <td>0.003516</td>\n",
       "      <td>...</td>\n",
       "      <td>0.023488</td>\n",
       "      <td>0.015594</td>\n",
       "      <td>0.055268</td>\n",
       "      <td>0.028593</td>\n",
       "      <td>0.015712</td>\n",
       "      <td>0.043655</td>\n",
       "      <td>0.054951</td>\n",
       "      <td>0.027019</td>\n",
       "      <td>0.012444</td>\n",
       "      <td>0.020818</td>\n",
       "    </tr>\n",
       "    <tr>\n",
       "      <th>SOABLAF12AB018E1D9</th>\n",
       "      <td>-0.014965</td>\n",
       "      <td>-0.004696</td>\n",
       "      <td>1.000000</td>\n",
       "      <td>-0.003637</td>\n",
       "      <td>-0.019660</td>\n",
       "      <td>-0.002750</td>\n",
       "      <td>-0.002732</td>\n",
       "      <td>-0.004842</td>\n",
       "      <td>-0.019431</td>\n",
       "      <td>-0.003327</td>\n",
       "      <td>...</td>\n",
       "      <td>-0.008842</td>\n",
       "      <td>-0.006336</td>\n",
       "      <td>-0.020707</td>\n",
       "      <td>-0.009977</td>\n",
       "      <td>-0.006698</td>\n",
       "      <td>-0.014806</td>\n",
       "      <td>-0.020884</td>\n",
       "      <td>-0.010566</td>\n",
       "      <td>-0.004820</td>\n",
       "      <td>-0.007837</td>\n",
       "    </tr>\n",
       "    <tr>\n",
       "      <th>SOABRXK12A8C130A36</th>\n",
       "      <td>-0.003905</td>\n",
       "      <td>-0.001409</td>\n",
       "      <td>-0.003637</td>\n",
       "      <td>1.000000</td>\n",
       "      <td>-0.005092</td>\n",
       "      <td>-0.002507</td>\n",
       "      <td>-0.002196</td>\n",
       "      <td>-0.002326</td>\n",
       "      <td>-0.004879</td>\n",
       "      <td>-0.001737</td>\n",
       "      <td>...</td>\n",
       "      <td>-0.002605</td>\n",
       "      <td>-0.002043</td>\n",
       "      <td>-0.006064</td>\n",
       "      <td>-0.002642</td>\n",
       "      <td>-0.002270</td>\n",
       "      <td>-0.003747</td>\n",
       "      <td>-0.006228</td>\n",
       "      <td>-0.003263</td>\n",
       "      <td>-0.001472</td>\n",
       "      <td>-0.002309</td>\n",
       "    </tr>\n",
       "    <tr>\n",
       "      <th>SOABTKM12A8AE4721E</th>\n",
       "      <td>0.200643</td>\n",
       "      <td>0.057151</td>\n",
       "      <td>-0.019660</td>\n",
       "      <td>-0.005092</td>\n",
       "      <td>1.000000</td>\n",
       "      <td>-0.019887</td>\n",
       "      <td>-0.010398</td>\n",
       "      <td>0.031219</td>\n",
       "      <td>0.266604</td>\n",
       "      <td>0.017029</td>\n",
       "      <td>...</td>\n",
       "      <td>0.109100</td>\n",
       "      <td>0.072597</td>\n",
       "      <td>0.256683</td>\n",
       "      <td>0.132541</td>\n",
       "      <td>0.073256</td>\n",
       "      <td>0.202210</td>\n",
       "      <td>0.255312</td>\n",
       "      <td>0.125641</td>\n",
       "      <td>0.057850</td>\n",
       "      <td>0.096701</td>\n",
       "    </tr>\n",
       "  </tbody>\n",
       "</table>\n",
       "<p>5 rows × 1207 columns</p>\n",
       "</div>"
      ],
      "text/plain": [
       "songID              SOAAAQN12AB01856D3  SOAASSD12AB0181AA6  \\\n",
       "songID                                                       \n",
       "SOAAAQN12AB01856D3            1.000000            0.043296   \n",
       "SOAASSD12AB0181AA6            0.043296            1.000000   \n",
       "SOABLAF12AB018E1D9           -0.014965           -0.004696   \n",
       "SOABRXK12A8C130A36           -0.003905           -0.001409   \n",
       "SOABTKM12A8AE4721E            0.200643            0.057151   \n",
       "\n",
       "songID              SOABLAF12AB018E1D9  SOABRXK12A8C130A36  \\\n",
       "songID                                                       \n",
       "SOAAAQN12AB01856D3           -0.014965           -0.003905   \n",
       "SOAASSD12AB0181AA6           -0.004696           -0.001409   \n",
       "SOABLAF12AB018E1D9            1.000000           -0.003637   \n",
       "SOABRXK12A8C130A36           -0.003637            1.000000   \n",
       "SOABTKM12A8AE4721E           -0.019660           -0.005092   \n",
       "\n",
       "songID              SOABTKM12A8AE4721E  SOACUIU12A6D4F715B  \\\n",
       "songID                                                       \n",
       "SOAAAQN12AB01856D3            0.200643           -0.015117   \n",
       "SOAASSD12AB0181AA6            0.057151           -0.004618   \n",
       "SOABLAF12AB018E1D9           -0.019660           -0.002750   \n",
       "SOABRXK12A8C130A36           -0.005092           -0.002507   \n",
       "SOABTKM12A8AE4721E            1.000000           -0.019887   \n",
       "\n",
       "songID              SOADCFY12A6310E353  SOADJND12A8C13BAE1  \\\n",
       "songID                                                       \n",
       "SOAAAQN12AB01856D3           -0.007919            0.023624   \n",
       "SOAASSD12AB0181AA6           -0.002515            0.006543   \n",
       "SOABLAF12AB018E1D9           -0.002732           -0.004842   \n",
       "SOABRXK12A8C130A36           -0.002196           -0.002326   \n",
       "SOABTKM12A8AE4721E           -0.010398            0.031219   \n",
       "\n",
       "songID              SOAEEXM12A8C13D6E3  SOAEJTI12A8C145051  ...  \\\n",
       "songID                                                      ...   \n",
       "SOAAAQN12AB01856D3            0.202002            0.012878  ...   \n",
       "SOAASSD12AB0181AA6            0.057564            0.003516  ...   \n",
       "SOABLAF12AB018E1D9           -0.019431           -0.003327  ...   \n",
       "SOABRXK12A8C130A36           -0.004879           -0.001737  ...   \n",
       "SOABTKM12A8AE4721E            0.266604            0.017029  ...   \n",
       "\n",
       "songID              SOZSKYN12A8C13A883  SOZSPRJ12A8C13EC7C  \\\n",
       "songID                                                       \n",
       "SOAAAQN12AB01856D3            0.082653            0.054994   \n",
       "SOAASSD12AB0181AA6            0.023488            0.015594   \n",
       "SOABLAF12AB018E1D9           -0.008842           -0.006336   \n",
       "SOABRXK12A8C130A36           -0.002605           -0.002043   \n",
       "SOABTKM12A8AE4721E            0.109100            0.072597   \n",
       "\n",
       "songID              SOZTGIY12A8AE47722  SOZTUDR12A8C13FE3F  \\\n",
       "songID                                                       \n",
       "SOAAAQN12AB01856D3            0.194461            0.100421   \n",
       "SOAASSD12AB0181AA6            0.055268            0.028593   \n",
       "SOABLAF12AB018E1D9           -0.020707           -0.009977   \n",
       "SOABRXK12A8C130A36           -0.006064           -0.002642   \n",
       "SOABTKM12A8AE4721E            0.256683            0.132541   \n",
       "\n",
       "songID              SOZVZWP12A58A7BAD1  SOZWAMN12AB018234D  \\\n",
       "songID                                                       \n",
       "SOAAAQN12AB01856D3            0.055489            0.153211   \n",
       "SOAASSD12AB0181AA6            0.015712            0.043655   \n",
       "SOABLAF12AB018E1D9           -0.006698           -0.014806   \n",
       "SOABRXK12A8C130A36           -0.002270           -0.003747   \n",
       "SOABTKM12A8AE4721E            0.073256            0.202210   \n",
       "\n",
       "songID              SOZWCKB12AB0186C5B  SOZXTKD12A8C13FC43  \\\n",
       "songID                                                       \n",
       "SOAAAQN12AB01856D3            0.193420            0.095180   \n",
       "SOAASSD12AB0181AA6            0.054951            0.027019   \n",
       "SOABLAF12AB018E1D9           -0.020884           -0.010566   \n",
       "SOABRXK12A8C130A36           -0.006228           -0.003263   \n",
       "SOABTKM12A8AE4721E            0.255312            0.125641   \n",
       "\n",
       "songID              SOZZPYH12AB0187578  SOZZQBH12A6D4FAFD8  \n",
       "songID                                                      \n",
       "SOAAAQN12AB01856D3            0.043825            0.073259  \n",
       "SOAASSD12AB0181AA6            0.012444            0.020818  \n",
       "SOABLAF12AB018E1D9           -0.004820           -0.007837  \n",
       "SOABRXK12A8C130A36           -0.001472           -0.002309  \n",
       "SOABTKM12A8AE4721E            0.057850            0.096701  \n",
       "\n",
       "[5 rows x 1207 columns]"
      ]
     },
     "execution_count": 42,
     "metadata": {},
     "output_type": "execute_result"
    }
   ],
   "source": [
    "adjcos_sim = get_adj_cosine_M(u1)\n",
    "adjcos_sim.head()"
   ]
  },
  {
   "cell_type": "code",
   "execution_count": 43,
   "id": "b2323ad0",
   "metadata": {},
   "outputs": [],
   "source": [
    "# This function finds k similar songs given songID and adjusted cosine matrix\n",
    "def get_similar_songs_adjcosine(songID, adj_sim_m, k):\n",
    "    '''Find k similar songs given songID and adjusted cosine matrix '''\n",
    "    \n",
    "    # sort the similarities and grab k highest values\n",
    "    similarities = adj_sim_m[songID].sort_values(ascending=False)[:k].values\n",
    "    # grab the songIDs\n",
    "    indices = adj_sim_m[songID].sort_values(ascending=False)[:k].index\n",
    "    \n",
    "    # print('{} most similar items for item {}:\\n'.format(k,songID))\n",
    "    for i in range(0, len(indices)):\n",
    "        #first index is songID by default\n",
    "        if indices[i] == songID:\n",
    "            continue;\n",
    "        # else:\n",
    "            # print('{}: Song {} , with similarity of {}'.format(i,indices[i], similarities[i]))\n",
    "        \n",
    "    return similarities, indices.to_list()"
   ]
  },
  {
   "cell_type": "code",
   "execution_count": 44,
   "id": "bb25b4f7",
   "metadata": {},
   "outputs": [],
   "source": [
    "#This function recommends 10 songs based on item-item collaborative filtering\n",
    "# given a list of users and a utility matrix (database)\n",
    "def recommend10Items(user_list, database):\n",
    "    result = dict()\n",
    "    # compute adjusted cosine similarity matrix\n",
    "    sim_matrix = get_adj_cosine_M(database)\n",
    "    \n",
    "    for userID in tqdm(user_list):\n",
    "        # find row corresponding to user in database\n",
    "        idx = database.index.get_loc(userID)\n",
    "        #get the top 5 songs that he already likes\n",
    "        likes = database.iloc[idx, np.argsort(-database.values[idx])[:5]].index\n",
    "        \n",
    "        for songID in likes:\n",
    "            similarities, recommendations = get_similar_songs_adjcosine(songID, sim_matrix, 1)\n",
    "            \n",
    "            if userID not in result:\n",
    "                result[userID] = recommendations\n",
    "            elif type(result[userID]) == list:\n",
    "                result[userID].append(recommendations)\n",
    "            else:\n",
    "                result[userID] = [result[userID], recommendations]\n",
    "    \n",
    "    return result"
   ]
  },
  {
   "cell_type": "code",
   "execution_count": 45,
   "id": "29cfc6da",
   "metadata": {},
   "outputs": [
    {
     "data": {
      "application/vnd.jupyter.widget-view+json": {
       "model_id": "6155b29e184e46f6b8092f6137666a13",
       "version_major": 2,
       "version_minor": 0
      },
      "text/plain": [
       "  0%|          | 0/5000 [00:00<?, ?it/s]"
      ]
     },
     "metadata": {},
     "output_type": "display_data"
    }
   ],
   "source": [
    "get_recom = recommend10Items(samplelist, u1)\n",
    "\n",
    "# flatten the recommendation list\n",
    "\n",
    "for user, rec in get_recom.items():\n",
    "    get_recom[user] = list(flatten(rec))\n",
    "\n",
    "user_recommendations = get_recom\n",
    "# user_recommendations"
   ]
  },
  {
   "cell_type": "markdown",
   "id": "134bc58f",
   "metadata": {},
   "source": [
    "#### Intra-list similarity\n",
    "\n",
    "Intra-list similarity is the average cosine similarity of all items in a list of recommendations.\n",
    "Intra-list similarity can be calculated for each user, and averaged over all users in the test set to get an estimate of intra-list similarity for the model."
   ]
  },
  {
   "cell_type": "code",
   "execution_count": 46,
   "id": "1da00f33",
   "metadata": {},
   "outputs": [
    {
     "name": "stdout",
     "output_type": "stream",
     "text": [
      "The intra list similarity for Item based collaborative filtering model is: 0.17295221428930535\n"
     ]
    }
   ],
   "source": [
    "# Get the intra-list similarity of the model\n",
    "# Average of all intra list similarities\n",
    "\n",
    "intra_list_similar = []\n",
    "for user in user_recommendations.keys():\n",
    "    intra_list_similar.append(intra_list_similarity(user))\n",
    "intra_similar_collab = np.mean(intra_list_similar)\n",
    "print(\"The intra list similarity for Item based collaborative filtering model is:\" ,np.mean(intra_similar_collab))"
   ]
  },
  {
   "cell_type": "markdown",
   "id": "803484d1",
   "metadata": {},
   "source": [
    "#### Evaluation based on similarity of recommended songs to the user profile"
   ]
  },
  {
   "cell_type": "code",
   "execution_count": 47,
   "id": "bba22986",
   "metadata": {
    "scrolled": true
   },
   "outputs": [
    {
     "name": "stdout",
     "output_type": "stream",
     "text": [
      "The average similarity for Item based collaborative filtering model is: 5.047280105458063\n"
     ]
    }
   ],
   "source": [
    "# Get the average similarity of the model\n",
    "# Average of all similarities\n",
    "\n",
    "average_similar = []\n",
    "for user in user_recommendations.keys():\n",
    "    average_similar.append(average_distance(user))\n",
    "average_similar_collab = np.mean(average_similar)\n",
    "print(\"The average similarity for Item based collaborative filtering model is:\" , np.mean(average_similar_collab))"
   ]
  },
  {
   "cell_type": "markdown",
   "id": "2359f5bc",
   "metadata": {},
   "source": [
    "### Recommend 10 songs to a list of users by implementig kNN search for item based filtering"
   ]
  },
  {
   "cell_type": "code",
   "execution_count": 48,
   "id": "45b2a0dc",
   "metadata": {},
   "outputs": [],
   "source": [
    "def get_similar_songs_kNN(songID, user_profiles, similarity_metric , k):\n",
    "    '''Find k most similar songs to a given songID'''\n",
    "    similarity = list()\n",
    "    neigh_ind = list()\n",
    "    song_profiles=user_profiles.T\n",
    "    \n",
    "    knn = NearestNeighbors(metric = similarity_metric , algorithm = 'brute')\n",
    "    knn.fit(song_profiles.values) #taking .values to avoid sklearn warning\n",
    "                                #UserWarning: X does not have valid feature names, but NearestNeighbors was fitted with feature names\n",
    "    \n",
    "    neigh_dist, neigh_ind = knn.kneighbors(song_profiles.loc[songID].values.reshape(1,-1), n_neighbors = k+1) #plus one, bcs it includes the user we want to compare against \n",
    "    similarity = 1-neigh_dist.flatten()\n",
    "    \n",
    "    similar_songs = []\n",
    "    for i in range(0,len(neigh_ind.flatten())):\n",
    "        if song_profiles.index[neigh_ind.flatten()[i]] == songID:\n",
    "            continue;\n",
    "        else:\n",
    "            similar_songs.append(song_profiles.index[neigh_ind.flatten()[i]])\n",
    "            \n",
    "    return similar_songs"
   ]
  },
  {
   "cell_type": "code",
   "execution_count": 49,
   "id": "b870d2d6",
   "metadata": {},
   "outputs": [],
   "source": [
    "def recommend10Items_kNN(user_list, database):\n",
    "    result = dict()\n",
    "    \n",
    "    for userID in tqdm(user_list):\n",
    "        # find row corresponding to user in database\n",
    "        idx = database.index.get_loc(userID)\n",
    "        #get the top 5 songs that he already likes\n",
    "        likes = database.iloc[idx, np.argsort(-database.values[idx])[:5]].index\n",
    "        \n",
    "        for songID in likes:\n",
    "            simsongs= get_similar_songs_kNN(songID, database, 'cosine', 1)\n",
    "            \n",
    "            if userID not in result:\n",
    "                result[userID] = simsongs\n",
    "            elif type(result[userID]) == list:\n",
    "                result[userID].append(simsongs)\n",
    "            else:\n",
    "                result[userID] = [result[userID], simsongs]\n",
    "    \n",
    "    return result"
   ]
  },
  {
   "cell_type": "code",
   "execution_count": 50,
   "id": "26bb1057",
   "metadata": {
    "scrolled": true
   },
   "outputs": [
    {
     "data": {
      "application/vnd.jupyter.widget-view+json": {
       "model_id": "8a216e978a4c41fdbcde5b2800622f1e",
       "version_major": 2,
       "version_minor": 0
      },
      "text/plain": [
       "  0%|          | 0/5000 [00:00<?, ?it/s]"
      ]
     },
     "metadata": {},
     "output_type": "display_data"
    }
   ],
   "source": [
    "get_recom_kNN = recommend10Items_kNN(samplelist, u1)\n",
    "\n",
    "# flatten the recommendation list\n",
    "for user, rec in get_recom_kNN.items():\n",
    "    get_recom_kNN[user] = list(flatten(rec))\n",
    "\n",
    "user_recommendations = get_recom_kNN"
   ]
  },
  {
   "cell_type": "markdown",
   "id": "a23d0b3f",
   "metadata": {},
   "source": [
    "#### Intra-list similarity\n",
    "\n",
    "Intra-list similarity is the average cosine similarity of all items in a list of recommendations.\n",
    "Intra-list similarity can be calculated for each user, and averaged over all users in the test set to get an estimate of intra-list similarity for the model."
   ]
  },
  {
   "cell_type": "code",
   "execution_count": 51,
   "id": "1e395c51",
   "metadata": {},
   "outputs": [
    {
     "name": "stdout",
     "output_type": "stream",
     "text": [
      "The intra list similarity for Item based collaborative filtering by implementing kNN model is: 0.17604830326617293\n"
     ]
    }
   ],
   "source": [
    "# Get the intra-list similarity of the model\n",
    "# Average of all intra list similarities\n",
    "\n",
    "intra_list_similar = []\n",
    "for user in user_recommendations.keys():\n",
    "    intra_list_similar.append(intra_list_similarity(user))\n",
    "intra_similar_collab_knn = np.mean(intra_list_similar)\n",
    "print(\"The intra list similarity for Item based collaborative filtering by implementing kNN model is:\", intra_similar_collab_knn)"
   ]
  },
  {
   "cell_type": "markdown",
   "id": "a4fb0298",
   "metadata": {},
   "source": [
    "#### Evaluation based on similarity of recommended songs to the user profile"
   ]
  },
  {
   "cell_type": "code",
   "execution_count": 52,
   "id": "8db50f6d",
   "metadata": {
    "scrolled": true
   },
   "outputs": [
    {
     "name": "stdout",
     "output_type": "stream",
     "text": [
      "The average similarity for Item based collaborative filtering by implementing kNN model is: 5.972384648012992\n"
     ]
    }
   ],
   "source": [
    "# Get the average similarity of the model\n",
    "# Average of all similarities\n",
    "\n",
    "average_similar = []\n",
    "for user in user_recommendations.keys():\n",
    "    average_similar.append(average_distance(user))\n",
    "average_similar_collab_knn = np.mean(average_similar)\n",
    "print(\"The average similarity for Item based collaborative filtering by implementing kNN model is:\", average_similar_collab_knn)"
   ]
  },
  {
   "cell_type": "markdown",
   "id": "44b466ab",
   "metadata": {},
   "source": [
    "# Locality Sensitive hashing in Collaborative item-item filtering (inspired by week5 : SimilarItems)\n",
    "<a id='col_filt_LSH'></a>"
   ]
  },
  {
   "cell_type": "code",
   "execution_count": 53,
   "id": "840767b7",
   "metadata": {},
   "outputs": [],
   "source": [
    "def triplets_to_utility_matrix(frame):\n",
    "    start_time = time.time()\n",
    "    # person_u = list(frame.userID.unique())\n",
    "    # thing_u = list(frame.songID.unique())\n",
    "    # data = frame['play_count'].tolist()\n",
    "    # row = frame.userID.astype('category').cat.codes\n",
    "    # col = frame.songID.astype('category').cat.codes\n",
    "    # sparse_matrix = csr_matrix((data, (row, col)), shape=(len(person_u), len(thing_u)))\n",
    "    # user_profiles = pd.DataFrame.sparse.from_spmatrix(sparse_matrix, index=person_u, columns=thing_u)\n",
    "    user_profiles = frame.pivot(index='userID', columns='songID', values='play_count')\n",
    "\n",
    "    # Creater smaller dataset\n",
    "    # split = int(386670/5)\n",
    "    # u1 = user_profiles[:split]\n",
    "    # u1 = u1.sparse.to_dense()\n",
    "    u1 = user_profiles#.sparse.to_dense()\n",
    "    # Normalize play counts\n",
    "    u1.replace(0, np.nan, inplace=True)\n",
    "    u1 = u1.sub(u1.mean(axis=1, skipna=True), axis=0) # substract from each cell the row mean\n",
    "    # if value >=0 user likes song\n",
    "    u1[u1 >= 0] = 1\n",
    "    u1[u1 < 0] = 0\n",
    "    u1 = u1.T\n",
    "    # Keep users that have liked more than 4 songs \n",
    "    cols = np.where(u1.notna().sum() >= 4)\n",
    "    sub1 = u1.iloc[:, np.r_[cols]]\n",
    "    print('It took %s seconds.' %(time.time()-start_time))\n",
    "\n",
    "    return sub1"
   ]
  },
  {
   "cell_type": "code",
   "execution_count": 54,
   "id": "acecec66",
   "metadata": {},
   "outputs": [
    {
     "name": "stdout",
     "output_type": "stream",
     "text": [
      "It took 0.33899641036987305 seconds.\n"
     ]
    }
   ],
   "source": [
    "m = triplets_to_utility_matrix(users_subset)"
   ]
  },
  {
   "cell_type": "code",
   "execution_count": 55,
   "id": "c79ad0fb",
   "metadata": {},
   "outputs": [],
   "source": [
    "def create_database(utility_matrix):\n",
    "    start_time = time.time()\n",
    "    cols = utility_matrix.columns.to_numpy() # the users \n",
    "    vectors_list = [cols[x].tolist() for x in utility_matrix.eq(1).to_numpy()] # each vector is a song, contains users that liked that song\n",
    "    df_new = pd.DataFrame(vectors_list, index = utility_matrix.index)\n",
    "    df_new_reduced = df_new.mask(df_new.eq('None')).dropna(how = 'all')\n",
    "    df_new_reduced['users'] = df_new_reduced[df_new_reduced.columns].apply( lambda x: ','.join(x.dropna().astype(str)),axis=1)\n",
    "    data = df_new_reduced['users'].copy()\n",
    "    database = pd.DataFrame(data)\n",
    "    print('It took %s seconds.' %(time.time()-start_time))\n",
    "\n",
    "    return database\n",
    "\n",
    "def get_items_from_user(userID, utility_matrix):\n",
    "    '''Given a user find the list of items he likes'''\n",
    "    #list containing the songs the user likes\n",
    "    songs = utility_matrix.index[utility_matrix[userID].eq(1)].tolist() \n",
    "\n",
    "    return songs\n",
    "\n",
    "def preprocess(text):\n",
    "    tokens = text.split()\n",
    "    return tokens\n",
    "def get_forest(data, perms):\n",
    "    start_time = time.time()\n",
    "    \n",
    "    minhash = []\n",
    "    \n",
    "    for users in data['users']:\n",
    "        tokens = preprocess(users) # list of users\n",
    "        m = MinHash(num_perm=perms)\n",
    "        for s in tokens:\n",
    "            m.update(s.encode('utf8'))\n",
    "        minhash.append(m)\n",
    "        \n",
    "    forest = MinHashLSHForest(num_perm=perms)\n",
    "    \n",
    "    for i,m in enumerate(minhash):\n",
    "        forest.add(i,m)\n",
    "        \n",
    "    forest.index()\n",
    "    print('It took %s seconds to build forest.' %(time.time()-start_time))\n",
    "    return forest\n",
    "\n",
    "def predict(song_profile, database, perms, num_results, forest): # song_profile in list form\n",
    "    \n",
    "    #song_profiles = get_items_from_user(userID, utility_matrix ,database)\n",
    "    start_time = time.time()\n",
    "    \n",
    "    m = MinHash(num_perm=perms)\n",
    "    for users in song_profile:\n",
    "        m.update(users.encode('utf8'))\n",
    "        \n",
    "    idx_array = np.array(forest.query(m, num_results*2))\n",
    "    if len(idx_array) == 0:\n",
    "        return None # if your query is empty, return none\n",
    "    \n",
    "    result = database.iloc[idx_array]['users']\n",
    "\n",
    "    # print('It took %s seconds to query forest.' %(time.time()-start_time))\n",
    "    \n",
    "    return result, idx_array"
   ]
  },
  {
   "cell_type": "code",
   "execution_count": 56,
   "id": "e7f639ed",
   "metadata": {},
   "outputs": [
    {
     "name": "stdout",
     "output_type": "stream",
     "text": [
      "It took 0.1979982852935791 seconds.\n"
     ]
    }
   ],
   "source": [
    "db = create_database(m)"
   ]
  },
  {
   "cell_type": "code",
   "execution_count": 57,
   "id": "24ef6de2",
   "metadata": {},
   "outputs": [
    {
     "name": "stdout",
     "output_type": "stream",
     "text": [
      "It took 1.3970820903778076 seconds to build forest.\n"
     ]
    }
   ],
   "source": [
    "#Number of Permutations\n",
    "permutations = 256\n",
    "#Number of recommendations to return\n",
    "num_recommendations = 10\n",
    "forest = get_forest(db, permutations)"
   ]
  },
  {
   "cell_type": "code",
   "execution_count": 58,
   "id": "bc49f53f",
   "metadata": {},
   "outputs": [],
   "source": [
    "def get_recommendations(userID, utility_matrix, database, permutations, num_recommendations, forest):\n",
    "    items = get_items_from_user(userID, utility_matrix)\n",
    "    for i in range(0,len(items)):\n",
    "        # for each song user likes get the song's item_profile vector\n",
    "        item_profile = database.loc[items[i]] #.to_numpy()\n",
    "        # get recommendetions based on each song user likes\n",
    "        result, i = predict(item_profile, database, permutations, num_recommendations, forest)\n",
    "        # print('\\n Top Recommendation(s) is(are) \\n', result)"
   ]
  },
  {
   "cell_type": "code",
   "execution_count": 59,
   "id": "8718fbbb",
   "metadata": {},
   "outputs": [
    {
     "data": {
      "application/vnd.jupyter.widget-view+json": {
       "model_id": "67d4b3fdbc2a48d6a3a5089873dba28e",
       "version_major": 2,
       "version_minor": 0
      },
      "text/plain": [
       "  0%|          | 0/469 [00:00<?, ?it/s]"
      ]
     },
     "metadata": {},
     "output_type": "display_data"
    }
   ],
   "source": [
    "users_recommendations = {}\n",
    "for key in tqdm(m.columns):\n",
    "    if counter < 10000: # control parameter, if we have more than a certain nb of users, don't compute it all\n",
    "        user_recommendations[key] = get_recommendations(key, m, db, permutations, num_recommendations, forest)\n",
    "        counter += 1\n",
    "    else:\n",
    "        break"
   ]
  },
  {
   "cell_type": "markdown",
   "id": "46ddd8fa",
   "metadata": {},
   "source": [
    "**Troubleshooting**: This implementation is not producing the expected outcome. Given more time, I would do debugging and further investigation. The LSH method is used extensively for document recommendation (with shingling).\n",
    "As a **future extension**, I would try to apply this method to lyrics documents that match with our database data. In this way songs would be recommended based on their lyrics compared to lyrics of songs that the user likes."
   ]
  },
  {
   "cell_type": "markdown",
   "id": "a2ab97fd",
   "metadata": {},
   "source": [
    "#### Intra-list similarity\n",
    "\n",
    "Sometimes this method is unable to provide any recommendations, and therefore the nanmean function is used. So whenever it was not possible to get a recommendation that user is just ignored in the calculation"
   ]
  },
  {
   "cell_type": "code",
   "execution_count": 60,
   "id": "ed669724",
   "metadata": {},
   "outputs": [
    {
     "name": "stdout",
     "output_type": "stream",
     "text": [
      "The intra list similarity for LSH model is: 0.16675927728694256\n"
     ]
    }
   ],
   "source": [
    "# Get the intra-list similarity of the model\n",
    "# Average of all intra list similarities\n",
    "\n",
    "intra_list_similar = []\n",
    "for user in user_recommendations.keys():\n",
    "    intra_list_similar.append(intra_list_similarity(user))\n",
    "intra_list_similar_LSH = np.nanmean(intra_list_similar)\n",
    "print(\"The intra list similarity for LSH model is:\", intra_list_similar_LSH)"
   ]
  },
  {
   "cell_type": "markdown",
   "id": "897be592",
   "metadata": {},
   "source": [
    "#### Evaluation based on similarity of recommended songs to the user profile"
   ]
  },
  {
   "cell_type": "code",
   "execution_count": 61,
   "id": "90f36d66",
   "metadata": {},
   "outputs": [
    {
     "name": "stdout",
     "output_type": "stream",
     "text": [
      "The average similarity for LSH model is: 6.103317593699699\n"
     ]
    }
   ],
   "source": [
    "# Get the average similarity of the model\n",
    "# Average of all similarities\n",
    "\n",
    "average_similar = []\n",
    "for user in user_recommendations.keys():\n",
    "    average_similar.append(average_distance(user))\n",
    "average_similar_LSH = np.nanmean(average_similar)\n",
    "print(\"The average similarity for LSH model is:\", average_similar_LSH)"
   ]
  },
  {
   "cell_type": "markdown",
   "id": "29d61145",
   "metadata": {},
   "source": [
    "# Apriori algorithm based recommendation system\n",
    "<a id='apriori'></a>\n",
    "\n",
    "\n",
    "https://rasbt.github.io/mlxtend/user_guide/frequent_patterns/apriori/#apriori-frequent-itemsets-via-the-apriori-algorithm\n",
    "\n",
    "https://rasbt.github.io/mlxtend/\n",
    "\n",
    "Week 6 exercises"
   ]
  },
  {
   "cell_type": "code",
   "execution_count": 62,
   "id": "c0bae43b",
   "metadata": {
    "scrolled": true
   },
   "outputs": [
    {
     "data": {
      "text/html": [
       "<div>\n",
       "<style scoped>\n",
       "    .dataframe tbody tr th:only-of-type {\n",
       "        vertical-align: middle;\n",
       "    }\n",
       "\n",
       "    .dataframe tbody tr th {\n",
       "        vertical-align: top;\n",
       "    }\n",
       "\n",
       "    .dataframe thead th {\n",
       "        text-align: right;\n",
       "    }\n",
       "</style>\n",
       "<table border=\"1\" class=\"dataframe\">\n",
       "  <thead>\n",
       "    <tr style=\"text-align: right;\">\n",
       "      <th></th>\n",
       "      <th>artist_id</th>\n",
       "      <th>song_id</th>\n",
       "      <th>song_name</th>\n",
       "      <th>artist_terms</th>\n",
       "    </tr>\n",
       "  </thead>\n",
       "  <tbody>\n",
       "    <tr>\n",
       "      <th>0</th>\n",
       "      <td>ARD7TVE1187B99BFB1</td>\n",
       "      <td>SOMZWCG12A8C13C480</td>\n",
       "      <td>I Didn't Mean To</td>\n",
       "      <td>[hip hop, underground rap, g funk, alternative...</td>\n",
       "    </tr>\n",
       "    <tr>\n",
       "      <th>1</th>\n",
       "      <td>ARMJAGH1187FB546F3</td>\n",
       "      <td>SOCIWDW12A8C13D406</td>\n",
       "      <td>Soul Deep</td>\n",
       "      <td>[blue-eyed soul, pop rock, blues-rock, beach m...</td>\n",
       "    </tr>\n",
       "    <tr>\n",
       "      <th>2</th>\n",
       "      <td>ARKRRTF1187B9984DA</td>\n",
       "      <td>SOXVLOJ12AB0189215</td>\n",
       "      <td>Amor De Cabaret</td>\n",
       "      <td>[salsa, cumbia, tejano, ranchera, latin pop, l...</td>\n",
       "    </tr>\n",
       "    <tr>\n",
       "      <th>3</th>\n",
       "      <td>AR7G5I41187FB4CE6C</td>\n",
       "      <td>SONHOTT12A8C13493C</td>\n",
       "      <td>Something Girls</td>\n",
       "      <td>[pop rock, new wave, dance rock, rock, new rom...</td>\n",
       "    </tr>\n",
       "    <tr>\n",
       "      <th>4</th>\n",
       "      <td>ARXR32B1187FB57099</td>\n",
       "      <td>SOFSOCN12A8C143F5D</td>\n",
       "      <td>Face the Ashes</td>\n",
       "      <td>[pop punk, ska punk, breakcore, alternative me...</td>\n",
       "    </tr>\n",
       "    <tr>\n",
       "      <th>...</th>\n",
       "      <td>...</td>\n",
       "      <td>...</td>\n",
       "      <td>...</td>\n",
       "      <td>...</td>\n",
       "    </tr>\n",
       "    <tr>\n",
       "      <th>9995</th>\n",
       "      <td>AR4C6V01187FB3BAF4</td>\n",
       "      <td>SOLXXPY12A67ADABA0</td>\n",
       "      <td>The Hanged Man</td>\n",
       "      <td>[sympho black metal, black metal, heavy metal,...</td>\n",
       "    </tr>\n",
       "    <tr>\n",
       "      <th>9996</th>\n",
       "      <td>AR9JLBU1187B9AAEC4</td>\n",
       "      <td>SOAYONI12A6D4F85C8</td>\n",
       "      <td>The Wonderful World Of The Young</td>\n",
       "      <td>[ballad, disco, northern soul, chanson, smooth...</td>\n",
       "    </tr>\n",
       "    <tr>\n",
       "      <th>9997</th>\n",
       "      <td>ARS1DCR1187B9A4A56</td>\n",
       "      <td>SOJZLAJ12AB017E8A2</td>\n",
       "      <td>Sentimental Man</td>\n",
       "      <td>[lovers rock, reggae, roots reggae, dub, orche...</td>\n",
       "    </tr>\n",
       "    <tr>\n",
       "      <th>9998</th>\n",
       "      <td>ARAGMIV11F4C843F78</td>\n",
       "      <td>SORZSCJ12A8C132446</td>\n",
       "      <td>Zydeco In D-Minor</td>\n",
       "      <td>[zydeco, cajun]</td>\n",
       "    </tr>\n",
       "    <tr>\n",
       "      <th>9999</th>\n",
       "      <td>ARYXOV81187B99831D</td>\n",
       "      <td>SOFAOMI12A6D4FA2D8</td>\n",
       "      <td>Shattered Life</td>\n",
       "      <td>[christian rock, christian alternative rock, c...</td>\n",
       "    </tr>\n",
       "  </tbody>\n",
       "</table>\n",
       "<p>10000 rows × 4 columns</p>\n",
       "</div>"
      ],
      "text/plain": [
       "               artist_id             song_id  \\\n",
       "0     ARD7TVE1187B99BFB1  SOMZWCG12A8C13C480   \n",
       "1     ARMJAGH1187FB546F3  SOCIWDW12A8C13D406   \n",
       "2     ARKRRTF1187B9984DA  SOXVLOJ12AB0189215   \n",
       "3     AR7G5I41187FB4CE6C  SONHOTT12A8C13493C   \n",
       "4     ARXR32B1187FB57099  SOFSOCN12A8C143F5D   \n",
       "...                  ...                 ...   \n",
       "9995  AR4C6V01187FB3BAF4  SOLXXPY12A67ADABA0   \n",
       "9996  AR9JLBU1187B9AAEC4  SOAYONI12A6D4F85C8   \n",
       "9997  ARS1DCR1187B9A4A56  SOJZLAJ12AB017E8A2   \n",
       "9998  ARAGMIV11F4C843F78  SORZSCJ12A8C132446   \n",
       "9999  ARYXOV81187B99831D  SOFAOMI12A6D4FA2D8   \n",
       "\n",
       "                             song_name  \\\n",
       "0                     I Didn't Mean To   \n",
       "1                            Soul Deep   \n",
       "2                      Amor De Cabaret   \n",
       "3                      Something Girls   \n",
       "4                       Face the Ashes   \n",
       "...                                ...   \n",
       "9995                    The Hanged Man   \n",
       "9996  The Wonderful World Of The Young   \n",
       "9997                   Sentimental Man   \n",
       "9998                 Zydeco In D-Minor   \n",
       "9999                    Shattered Life   \n",
       "\n",
       "                                           artist_terms  \n",
       "0     [hip hop, underground rap, g funk, alternative...  \n",
       "1     [blue-eyed soul, pop rock, blues-rock, beach m...  \n",
       "2     [salsa, cumbia, tejano, ranchera, latin pop, l...  \n",
       "3     [pop rock, new wave, dance rock, rock, new rom...  \n",
       "4     [pop punk, ska punk, breakcore, alternative me...  \n",
       "...                                                 ...  \n",
       "9995  [sympho black metal, black metal, heavy metal,...  \n",
       "9996  [ballad, disco, northern soul, chanson, smooth...  \n",
       "9997  [lovers rock, reggae, roots reggae, dub, orche...  \n",
       "9998                                    [zydeco, cajun]  \n",
       "9999  [christian rock, christian alternative rock, c...  \n",
       "\n",
       "[10000 rows x 4 columns]"
      ]
     },
     "execution_count": 62,
     "metadata": {},
     "output_type": "execute_result"
    }
   ],
   "source": [
    "#df = pd.DataFrame(data, columns=['artist_id', 'artist_name', 'artist_location', 'song_id', 'song_name', 'song_hottness','time_signature','artist_terms','artist_mbtags','mode','year','latitude','longitude'])\n",
    "create_dataset = False\n",
    "if create_dataset:\n",
    "    path = 'MillionSongSubset'\n",
    "    songs_list = []\n",
    "\n",
    "    for (root, dirs, file) in os.walk(path):\n",
    "        for f in file:\n",
    "            songs_list.append(os.path.dirname(f))\n",
    "\n",
    "    songs_file_paths = []\n",
    "\n",
    "    for root, dirs, files in os.walk(os.path.abspath(path)):\n",
    "        for file in files:        \n",
    "            strs = os.path.join(root, file)\n",
    "            new_strs = strs.replace('\\\\','/')\n",
    "            songs_file_paths.append(new_strs)\n",
    "    ### CREATE PANDAS TABLE\n",
    "\n",
    "    N = len(songs_file_paths)\n",
    "    data = []\n",
    "\n",
    "    for i in range(N):\n",
    "        record = []\n",
    "        # Open specific song path\n",
    "        h5 = hdf5_getters.open_h5_file_read(songs_file_paths[i])\n",
    "        \n",
    "        #getters\n",
    "        artist_id = hdf5_getters.get_artist_id(h5)\n",
    "        artist_id = artist_id.decode(\"utf-8\")     \n",
    "        song_id = hdf5_getters.get_song_id(h5)\n",
    "        song_id = song_id.decode(\"utf-8\")\n",
    "        \n",
    "        song_name = hdf5_getters.get_title(h5)\n",
    "        song_name = song_name.decode(\"utf-8\")\n",
    "        artist_terms_ = hdf5_getters.get_artist_terms(h5)\n",
    "        artist_terms = []\n",
    "        for j in range(len(artist_terms_)):\n",
    "            artist_terms.append(artist_terms_[j].decode(\"utf-8\"))\n",
    "        # Close file\n",
    "        h5.close()\n",
    "        \n",
    "        record.append(artist_id)\n",
    "        record.append(song_id)\n",
    "        record.append(song_name)\n",
    "        record.append(artist_terms)\n",
    "        data.append(record)\n",
    "\n",
    "with open('data/MillionSongSubset.pkl', 'rb') as f:\n",
    "    df = pickle.load(f)\n",
    "df"
   ]
  },
  {
   "cell_type": "code",
   "execution_count": 64,
   "id": "4a0747d9",
   "metadata": {},
   "outputs": [
    {
     "data": {
      "text/html": [
       "<div>\n",
       "<style scoped>\n",
       "    .dataframe tbody tr th:only-of-type {\n",
       "        vertical-align: middle;\n",
       "    }\n",
       "\n",
       "    .dataframe tbody tr th {\n",
       "        vertical-align: top;\n",
       "    }\n",
       "\n",
       "    .dataframe thead th {\n",
       "        text-align: right;\n",
       "    }\n",
       "</style>\n",
       "<table border=\"1\" class=\"dataframe\">\n",
       "  <thead>\n",
       "    <tr style=\"text-align: right;\">\n",
       "      <th></th>\n",
       "      <th>artist_id</th>\n",
       "      <th>song_id</th>\n",
       "      <th>song_name</th>\n",
       "      <th>artist_terms</th>\n",
       "    </tr>\n",
       "  </thead>\n",
       "  <tbody>\n",
       "    <tr>\n",
       "      <th>0</th>\n",
       "      <td>ARD7TVE1187B99BFB1</td>\n",
       "      <td>SOMZWCG12A8C13C480</td>\n",
       "      <td>I Didn't Mean To</td>\n",
       "      <td>[hip hop, underground rap, g funk, alternative...</td>\n",
       "    </tr>\n",
       "    <tr>\n",
       "      <th>1</th>\n",
       "      <td>ARMJAGH1187FB546F3</td>\n",
       "      <td>SOCIWDW12A8C13D406</td>\n",
       "      <td>Soul Deep</td>\n",
       "      <td>[blue-eyed soul, pop rock, blues-rock, beach m...</td>\n",
       "    </tr>\n",
       "    <tr>\n",
       "      <th>2</th>\n",
       "      <td>ARKRRTF1187B9984DA</td>\n",
       "      <td>SOXVLOJ12AB0189215</td>\n",
       "      <td>Amor De Cabaret</td>\n",
       "      <td>[salsa, cumbia, tejano, ranchera, latin pop, l...</td>\n",
       "    </tr>\n",
       "    <tr>\n",
       "      <th>3</th>\n",
       "      <td>AR7G5I41187FB4CE6C</td>\n",
       "      <td>SONHOTT12A8C13493C</td>\n",
       "      <td>Something Girls</td>\n",
       "      <td>[pop rock, new wave, dance rock, rock, new rom...</td>\n",
       "    </tr>\n",
       "    <tr>\n",
       "      <th>4</th>\n",
       "      <td>ARXR32B1187FB57099</td>\n",
       "      <td>SOFSOCN12A8C143F5D</td>\n",
       "      <td>Face the Ashes</td>\n",
       "      <td>[pop punk, ska punk, breakcore, alternative me...</td>\n",
       "    </tr>\n",
       "    <tr>\n",
       "      <th>...</th>\n",
       "      <td>...</td>\n",
       "      <td>...</td>\n",
       "      <td>...</td>\n",
       "      <td>...</td>\n",
       "    </tr>\n",
       "    <tr>\n",
       "      <th>9995</th>\n",
       "      <td>AR4C6V01187FB3BAF4</td>\n",
       "      <td>SOLXXPY12A67ADABA0</td>\n",
       "      <td>The Hanged Man</td>\n",
       "      <td>[sympho black metal, black metal, heavy metal,...</td>\n",
       "    </tr>\n",
       "    <tr>\n",
       "      <th>9996</th>\n",
       "      <td>AR9JLBU1187B9AAEC4</td>\n",
       "      <td>SOAYONI12A6D4F85C8</td>\n",
       "      <td>The Wonderful World Of The Young</td>\n",
       "      <td>[ballad, disco, northern soul, chanson, smooth...</td>\n",
       "    </tr>\n",
       "    <tr>\n",
       "      <th>9997</th>\n",
       "      <td>ARS1DCR1187B9A4A56</td>\n",
       "      <td>SOJZLAJ12AB017E8A2</td>\n",
       "      <td>Sentimental Man</td>\n",
       "      <td>[lovers rock, reggae, roots reggae, dub, orche...</td>\n",
       "    </tr>\n",
       "    <tr>\n",
       "      <th>9998</th>\n",
       "      <td>ARAGMIV11F4C843F78</td>\n",
       "      <td>SORZSCJ12A8C132446</td>\n",
       "      <td>Zydeco In D-Minor</td>\n",
       "      <td>[zydeco, cajun]</td>\n",
       "    </tr>\n",
       "    <tr>\n",
       "      <th>9999</th>\n",
       "      <td>ARYXOV81187B99831D</td>\n",
       "      <td>SOFAOMI12A6D4FA2D8</td>\n",
       "      <td>Shattered Life</td>\n",
       "      <td>[christian rock, christian alternative rock, c...</td>\n",
       "    </tr>\n",
       "  </tbody>\n",
       "</table>\n",
       "<p>8439 rows × 4 columns</p>\n",
       "</div>"
      ],
      "text/plain": [
       "               artist_id             song_id  \\\n",
       "0     ARD7TVE1187B99BFB1  SOMZWCG12A8C13C480   \n",
       "1     ARMJAGH1187FB546F3  SOCIWDW12A8C13D406   \n",
       "2     ARKRRTF1187B9984DA  SOXVLOJ12AB0189215   \n",
       "3     AR7G5I41187FB4CE6C  SONHOTT12A8C13493C   \n",
       "4     ARXR32B1187FB57099  SOFSOCN12A8C143F5D   \n",
       "...                  ...                 ...   \n",
       "9995  AR4C6V01187FB3BAF4  SOLXXPY12A67ADABA0   \n",
       "9996  AR9JLBU1187B9AAEC4  SOAYONI12A6D4F85C8   \n",
       "9997  ARS1DCR1187B9A4A56  SOJZLAJ12AB017E8A2   \n",
       "9998  ARAGMIV11F4C843F78  SORZSCJ12A8C132446   \n",
       "9999  ARYXOV81187B99831D  SOFAOMI12A6D4FA2D8   \n",
       "\n",
       "                             song_name  \\\n",
       "0                     I Didn't Mean To   \n",
       "1                            Soul Deep   \n",
       "2                      Amor De Cabaret   \n",
       "3                      Something Girls   \n",
       "4                       Face the Ashes   \n",
       "...                                ...   \n",
       "9995                    The Hanged Man   \n",
       "9996  The Wonderful World Of The Young   \n",
       "9997                   Sentimental Man   \n",
       "9998                 Zydeco In D-Minor   \n",
       "9999                    Shattered Life   \n",
       "\n",
       "                                           artist_terms  \n",
       "0     [hip hop, underground rap, g funk, alternative...  \n",
       "1     [blue-eyed soul, pop rock, blues-rock, beach m...  \n",
       "2     [salsa, cumbia, tejano, ranchera, latin pop, l...  \n",
       "3     [pop rock, new wave, dance rock, rock, new rom...  \n",
       "4     [pop punk, ska punk, breakcore, alternative me...  \n",
       "...                                                 ...  \n",
       "9995  [sympho black metal, black metal, heavy metal,...  \n",
       "9996  [ballad, disco, northern soul, chanson, smooth...  \n",
       "9997  [lovers rock, reggae, roots reggae, dub, orche...  \n",
       "9998                                    [zydeco, cajun]  \n",
       "9999  [christian rock, christian alternative rock, c...  \n",
       "\n",
       "[8439 rows x 4 columns]"
      ]
     },
     "execution_count": 64,
     "metadata": {},
     "output_type": "execute_result"
    }
   ],
   "source": [
    "df1 = df[df.duplicated(['artist_id'], keep=False)]\n",
    "df1"
   ]
  },
  {
   "cell_type": "code",
   "execution_count": 74,
   "id": "93857a98",
   "metadata": {},
   "outputs": [
    {
     "data": {
      "text/html": [
       "<div>\n",
       "<style scoped>\n",
       "    .dataframe tbody tr th:only-of-type {\n",
       "        vertical-align: middle;\n",
       "    }\n",
       "\n",
       "    .dataframe tbody tr th {\n",
       "        vertical-align: top;\n",
       "    }\n",
       "\n",
       "    .dataframe thead th {\n",
       "        text-align: right;\n",
       "    }\n",
       "</style>\n",
       "<table border=\"1\" class=\"dataframe\">\n",
       "  <thead>\n",
       "    <tr style=\"text-align: right;\">\n",
       "      <th></th>\n",
       "      <th>userID</th>\n",
       "      <th>songID</th>\n",
       "      <th>play_count</th>\n",
       "    </tr>\n",
       "  </thead>\n",
       "  <tbody>\n",
       "    <tr>\n",
       "      <th>204</th>\n",
       "      <td>dde4fa01de271d51a4a5617ae79820cee7d26d96</td>\n",
       "      <td>SOEHWGF12A6D4F8B2B</td>\n",
       "      <td>2</td>\n",
       "    </tr>\n",
       "    <tr>\n",
       "      <th>205</th>\n",
       "      <td>dde4fa01de271d51a4a5617ae79820cee7d26d96</td>\n",
       "      <td>SOKTJKI12A8C143254</td>\n",
       "      <td>3</td>\n",
       "    </tr>\n",
       "    <tr>\n",
       "      <th>206</th>\n",
       "      <td>dde4fa01de271d51a4a5617ae79820cee7d26d96</td>\n",
       "      <td>SOMTXSB12AF72ACC38</td>\n",
       "      <td>2</td>\n",
       "    </tr>\n",
       "    <tr>\n",
       "      <th>863</th>\n",
       "      <td>fd3b4d56e254080967e51c6a0bb83ef0c3d0b4ce</td>\n",
       "      <td>SOHBOGO12A8C13B8F8</td>\n",
       "      <td>1</td>\n",
       "    </tr>\n",
       "    <tr>\n",
       "      <th>940</th>\n",
       "      <td>d15ccfe31ab990bab923ff5ee4970b83a735055b</td>\n",
       "      <td>SOHTWLT12A8C13CFE1</td>\n",
       "      <td>1</td>\n",
       "    </tr>\n",
       "    <tr>\n",
       "      <th>...</th>\n",
       "      <td>...</td>\n",
       "      <td>...</td>\n",
       "      <td>...</td>\n",
       "    </tr>\n",
       "    <tr>\n",
       "      <th>696493</th>\n",
       "      <td>fa07cb9736225508d7b3513e0939363caacac055</td>\n",
       "      <td>SOAYOFO12AF72A4B88</td>\n",
       "      <td>1</td>\n",
       "    </tr>\n",
       "    <tr>\n",
       "      <th>696494</th>\n",
       "      <td>fa07cb9736225508d7b3513e0939363caacac055</td>\n",
       "      <td>SOTXXBT12A6D4F6B25</td>\n",
       "      <td>2</td>\n",
       "    </tr>\n",
       "    <tr>\n",
       "      <th>696495</th>\n",
       "      <td>fa07cb9736225508d7b3513e0939363caacac055</td>\n",
       "      <td>SOYSUZL12A6D4F9005</td>\n",
       "      <td>1</td>\n",
       "    </tr>\n",
       "    <tr>\n",
       "      <th>696549</th>\n",
       "      <td>e24f81b3b2aa99eb3844c6224a55710455b0a565</td>\n",
       "      <td>SOSELMV12A6D4FCF5A</td>\n",
       "      <td>5</td>\n",
       "    </tr>\n",
       "    <tr>\n",
       "      <th>696740</th>\n",
       "      <td>6e34f50488460a329b72550ece10fc1df1a64adb</td>\n",
       "      <td>SOITBNC12AF72A0B2A</td>\n",
       "      <td>5</td>\n",
       "    </tr>\n",
       "  </tbody>\n",
       "</table>\n",
       "<p>9107 rows × 3 columns</p>\n",
       "</div>"
      ],
      "text/plain": [
       "                                          userID              songID  \\\n",
       "204     dde4fa01de271d51a4a5617ae79820cee7d26d96  SOEHWGF12A6D4F8B2B   \n",
       "205     dde4fa01de271d51a4a5617ae79820cee7d26d96  SOKTJKI12A8C143254   \n",
       "206     dde4fa01de271d51a4a5617ae79820cee7d26d96  SOMTXSB12AF72ACC38   \n",
       "863     fd3b4d56e254080967e51c6a0bb83ef0c3d0b4ce  SOHBOGO12A8C13B8F8   \n",
       "940     d15ccfe31ab990bab923ff5ee4970b83a735055b  SOHTWLT12A8C13CFE1   \n",
       "...                                          ...                 ...   \n",
       "696493  fa07cb9736225508d7b3513e0939363caacac055  SOAYOFO12AF72A4B88   \n",
       "696494  fa07cb9736225508d7b3513e0939363caacac055  SOTXXBT12A6D4F6B25   \n",
       "696495  fa07cb9736225508d7b3513e0939363caacac055  SOYSUZL12A6D4F9005   \n",
       "696549  e24f81b3b2aa99eb3844c6224a55710455b0a565  SOSELMV12A6D4FCF5A   \n",
       "696740  6e34f50488460a329b72550ece10fc1df1a64adb  SOITBNC12AF72A0B2A   \n",
       "\n",
       "        play_count  \n",
       "204              2  \n",
       "205              3  \n",
       "206              2  \n",
       "863              1  \n",
       "940              1  \n",
       "...            ...  \n",
       "696493           1  \n",
       "696494           2  \n",
       "696495           1  \n",
       "696549           5  \n",
       "696740           5  \n",
       "\n",
       "[9107 rows x 3 columns]"
      ]
     },
     "execution_count": 74,
     "metadata": {},
     "output_type": "execute_result"
    }
   ],
   "source": [
    "user_plays = users_subset\n",
    "users_subset"
   ]
  },
  {
   "cell_type": "code",
   "execution_count": 70,
   "id": "15bbe1cc",
   "metadata": {
    "scrolled": true
   },
   "outputs": [
    {
     "name": "stdout",
     "output_type": "stream",
     "text": [
      "1207\n"
     ]
    }
   ],
   "source": [
    "all_user_songs = user_plays['songID']\n",
    "myset_user = set(all_user_songs)\n",
    "print(len(myset_user))"
   ]
  },
  {
   "cell_type": "code",
   "execution_count": 87,
   "id": "8c257231",
   "metadata": {},
   "outputs": [],
   "source": [
    "songs_set = set(df['song_id'])\n",
    "z = myset_user.intersection(songs_set)\n",
    "baskets = df1['artist_terms'].tolist()"
   ]
  },
  {
   "cell_type": "code",
   "execution_count": 76,
   "id": "8c0964d4",
   "metadata": {},
   "outputs": [
    {
     "data": {
      "text/html": [
       "<div>\n",
       "<style scoped>\n",
       "    .dataframe tbody tr th:only-of-type {\n",
       "        vertical-align: middle;\n",
       "    }\n",
       "\n",
       "    .dataframe tbody tr th {\n",
       "        vertical-align: top;\n",
       "    }\n",
       "\n",
       "    .dataframe thead th {\n",
       "        text-align: right;\n",
       "    }\n",
       "</style>\n",
       "<table border=\"1\" class=\"dataframe\">\n",
       "  <thead>\n",
       "    <tr style=\"text-align: right;\">\n",
       "      <th></th>\n",
       "      <th>00s</th>\n",
       "      <th>00s country</th>\n",
       "      <th>1800s</th>\n",
       "      <th>1970s soul</th>\n",
       "      <th>19th century</th>\n",
       "      <th>19th century classical</th>\n",
       "      <th>19th century opera</th>\n",
       "      <th>2 meter sessies</th>\n",
       "      <th>2 step</th>\n",
       "      <th>2 tone</th>\n",
       "      <th>...</th>\n",
       "      <th>zaire</th>\n",
       "      <th>zairean</th>\n",
       "      <th>zimbabwe</th>\n",
       "      <th>zommetal</th>\n",
       "      <th>zouk</th>\n",
       "      <th>zouklove</th>\n",
       "      <th>zxzw</th>\n",
       "      <th>zxzw 2006</th>\n",
       "      <th>zxzw 2008</th>\n",
       "      <th>zydeco</th>\n",
       "    </tr>\n",
       "  </thead>\n",
       "  <tbody>\n",
       "    <tr>\n",
       "      <th>0</th>\n",
       "      <td>False</td>\n",
       "      <td>False</td>\n",
       "      <td>False</td>\n",
       "      <td>False</td>\n",
       "      <td>False</td>\n",
       "      <td>False</td>\n",
       "      <td>False</td>\n",
       "      <td>False</td>\n",
       "      <td>False</td>\n",
       "      <td>False</td>\n",
       "      <td>...</td>\n",
       "      <td>False</td>\n",
       "      <td>False</td>\n",
       "      <td>False</td>\n",
       "      <td>False</td>\n",
       "      <td>False</td>\n",
       "      <td>False</td>\n",
       "      <td>False</td>\n",
       "      <td>False</td>\n",
       "      <td>False</td>\n",
       "      <td>False</td>\n",
       "    </tr>\n",
       "    <tr>\n",
       "      <th>1</th>\n",
       "      <td>False</td>\n",
       "      <td>False</td>\n",
       "      <td>False</td>\n",
       "      <td>False</td>\n",
       "      <td>False</td>\n",
       "      <td>False</td>\n",
       "      <td>False</td>\n",
       "      <td>False</td>\n",
       "      <td>False</td>\n",
       "      <td>False</td>\n",
       "      <td>...</td>\n",
       "      <td>False</td>\n",
       "      <td>False</td>\n",
       "      <td>False</td>\n",
       "      <td>False</td>\n",
       "      <td>False</td>\n",
       "      <td>False</td>\n",
       "      <td>False</td>\n",
       "      <td>False</td>\n",
       "      <td>False</td>\n",
       "      <td>False</td>\n",
       "    </tr>\n",
       "    <tr>\n",
       "      <th>2</th>\n",
       "      <td>False</td>\n",
       "      <td>False</td>\n",
       "      <td>False</td>\n",
       "      <td>False</td>\n",
       "      <td>False</td>\n",
       "      <td>False</td>\n",
       "      <td>False</td>\n",
       "      <td>False</td>\n",
       "      <td>False</td>\n",
       "      <td>False</td>\n",
       "      <td>...</td>\n",
       "      <td>False</td>\n",
       "      <td>False</td>\n",
       "      <td>False</td>\n",
       "      <td>False</td>\n",
       "      <td>False</td>\n",
       "      <td>False</td>\n",
       "      <td>False</td>\n",
       "      <td>False</td>\n",
       "      <td>False</td>\n",
       "      <td>False</td>\n",
       "    </tr>\n",
       "    <tr>\n",
       "      <th>3</th>\n",
       "      <td>False</td>\n",
       "      <td>False</td>\n",
       "      <td>False</td>\n",
       "      <td>False</td>\n",
       "      <td>False</td>\n",
       "      <td>False</td>\n",
       "      <td>False</td>\n",
       "      <td>False</td>\n",
       "      <td>False</td>\n",
       "      <td>False</td>\n",
       "      <td>...</td>\n",
       "      <td>False</td>\n",
       "      <td>False</td>\n",
       "      <td>False</td>\n",
       "      <td>False</td>\n",
       "      <td>False</td>\n",
       "      <td>False</td>\n",
       "      <td>False</td>\n",
       "      <td>False</td>\n",
       "      <td>False</td>\n",
       "      <td>False</td>\n",
       "    </tr>\n",
       "    <tr>\n",
       "      <th>4</th>\n",
       "      <td>False</td>\n",
       "      <td>False</td>\n",
       "      <td>False</td>\n",
       "      <td>False</td>\n",
       "      <td>False</td>\n",
       "      <td>False</td>\n",
       "      <td>False</td>\n",
       "      <td>False</td>\n",
       "      <td>False</td>\n",
       "      <td>False</td>\n",
       "      <td>...</td>\n",
       "      <td>False</td>\n",
       "      <td>False</td>\n",
       "      <td>False</td>\n",
       "      <td>False</td>\n",
       "      <td>False</td>\n",
       "      <td>False</td>\n",
       "      <td>False</td>\n",
       "      <td>False</td>\n",
       "      <td>False</td>\n",
       "      <td>False</td>\n",
       "    </tr>\n",
       "    <tr>\n",
       "      <th>...</th>\n",
       "      <td>...</td>\n",
       "      <td>...</td>\n",
       "      <td>...</td>\n",
       "      <td>...</td>\n",
       "      <td>...</td>\n",
       "      <td>...</td>\n",
       "      <td>...</td>\n",
       "      <td>...</td>\n",
       "      <td>...</td>\n",
       "      <td>...</td>\n",
       "      <td>...</td>\n",
       "      <td>...</td>\n",
       "      <td>...</td>\n",
       "      <td>...</td>\n",
       "      <td>...</td>\n",
       "      <td>...</td>\n",
       "      <td>...</td>\n",
       "      <td>...</td>\n",
       "      <td>...</td>\n",
       "      <td>...</td>\n",
       "      <td>...</td>\n",
       "    </tr>\n",
       "    <tr>\n",
       "      <th>8434</th>\n",
       "      <td>False</td>\n",
       "      <td>False</td>\n",
       "      <td>False</td>\n",
       "      <td>False</td>\n",
       "      <td>False</td>\n",
       "      <td>False</td>\n",
       "      <td>False</td>\n",
       "      <td>False</td>\n",
       "      <td>False</td>\n",
       "      <td>False</td>\n",
       "      <td>...</td>\n",
       "      <td>False</td>\n",
       "      <td>False</td>\n",
       "      <td>False</td>\n",
       "      <td>False</td>\n",
       "      <td>False</td>\n",
       "      <td>False</td>\n",
       "      <td>False</td>\n",
       "      <td>False</td>\n",
       "      <td>False</td>\n",
       "      <td>False</td>\n",
       "    </tr>\n",
       "    <tr>\n",
       "      <th>8435</th>\n",
       "      <td>False</td>\n",
       "      <td>False</td>\n",
       "      <td>False</td>\n",
       "      <td>False</td>\n",
       "      <td>False</td>\n",
       "      <td>False</td>\n",
       "      <td>False</td>\n",
       "      <td>False</td>\n",
       "      <td>False</td>\n",
       "      <td>False</td>\n",
       "      <td>...</td>\n",
       "      <td>False</td>\n",
       "      <td>False</td>\n",
       "      <td>False</td>\n",
       "      <td>False</td>\n",
       "      <td>False</td>\n",
       "      <td>False</td>\n",
       "      <td>False</td>\n",
       "      <td>False</td>\n",
       "      <td>False</td>\n",
       "      <td>False</td>\n",
       "    </tr>\n",
       "    <tr>\n",
       "      <th>8436</th>\n",
       "      <td>False</td>\n",
       "      <td>False</td>\n",
       "      <td>False</td>\n",
       "      <td>False</td>\n",
       "      <td>False</td>\n",
       "      <td>False</td>\n",
       "      <td>False</td>\n",
       "      <td>False</td>\n",
       "      <td>False</td>\n",
       "      <td>False</td>\n",
       "      <td>...</td>\n",
       "      <td>False</td>\n",
       "      <td>False</td>\n",
       "      <td>False</td>\n",
       "      <td>False</td>\n",
       "      <td>False</td>\n",
       "      <td>False</td>\n",
       "      <td>False</td>\n",
       "      <td>False</td>\n",
       "      <td>False</td>\n",
       "      <td>False</td>\n",
       "    </tr>\n",
       "    <tr>\n",
       "      <th>8437</th>\n",
       "      <td>False</td>\n",
       "      <td>False</td>\n",
       "      <td>False</td>\n",
       "      <td>False</td>\n",
       "      <td>False</td>\n",
       "      <td>False</td>\n",
       "      <td>False</td>\n",
       "      <td>False</td>\n",
       "      <td>False</td>\n",
       "      <td>False</td>\n",
       "      <td>...</td>\n",
       "      <td>False</td>\n",
       "      <td>False</td>\n",
       "      <td>False</td>\n",
       "      <td>False</td>\n",
       "      <td>False</td>\n",
       "      <td>False</td>\n",
       "      <td>False</td>\n",
       "      <td>False</td>\n",
       "      <td>False</td>\n",
       "      <td>True</td>\n",
       "    </tr>\n",
       "    <tr>\n",
       "      <th>8438</th>\n",
       "      <td>False</td>\n",
       "      <td>False</td>\n",
       "      <td>False</td>\n",
       "      <td>False</td>\n",
       "      <td>False</td>\n",
       "      <td>False</td>\n",
       "      <td>False</td>\n",
       "      <td>False</td>\n",
       "      <td>False</td>\n",
       "      <td>False</td>\n",
       "      <td>...</td>\n",
       "      <td>False</td>\n",
       "      <td>False</td>\n",
       "      <td>False</td>\n",
       "      <td>False</td>\n",
       "      <td>False</td>\n",
       "      <td>False</td>\n",
       "      <td>False</td>\n",
       "      <td>False</td>\n",
       "      <td>False</td>\n",
       "      <td>False</td>\n",
       "    </tr>\n",
       "  </tbody>\n",
       "</table>\n",
       "<p>8439 rows × 2830 columns</p>\n",
       "</div>"
      ],
      "text/plain": [
       "        00s  00s country  1800s  1970s soul  19th century  \\\n",
       "0     False        False  False       False         False   \n",
       "1     False        False  False       False         False   \n",
       "2     False        False  False       False         False   \n",
       "3     False        False  False       False         False   \n",
       "4     False        False  False       False         False   \n",
       "...     ...          ...    ...         ...           ...   \n",
       "8434  False        False  False       False         False   \n",
       "8435  False        False  False       False         False   \n",
       "8436  False        False  False       False         False   \n",
       "8437  False        False  False       False         False   \n",
       "8438  False        False  False       False         False   \n",
       "\n",
       "      19th century classical  19th century opera  2 meter sessies  2 step  \\\n",
       "0                      False               False            False   False   \n",
       "1                      False               False            False   False   \n",
       "2                      False               False            False   False   \n",
       "3                      False               False            False   False   \n",
       "4                      False               False            False   False   \n",
       "...                      ...                 ...              ...     ...   \n",
       "8434                   False               False            False   False   \n",
       "8435                   False               False            False   False   \n",
       "8436                   False               False            False   False   \n",
       "8437                   False               False            False   False   \n",
       "8438                   False               False            False   False   \n",
       "\n",
       "      2 tone  ...  zaire  zairean  zimbabwe  zommetal   zouk  zouklove   zxzw  \\\n",
       "0      False  ...  False    False     False     False  False     False  False   \n",
       "1      False  ...  False    False     False     False  False     False  False   \n",
       "2      False  ...  False    False     False     False  False     False  False   \n",
       "3      False  ...  False    False     False     False  False     False  False   \n",
       "4      False  ...  False    False     False     False  False     False  False   \n",
       "...      ...  ...    ...      ...       ...       ...    ...       ...    ...   \n",
       "8434   False  ...  False    False     False     False  False     False  False   \n",
       "8435   False  ...  False    False     False     False  False     False  False   \n",
       "8436   False  ...  False    False     False     False  False     False  False   \n",
       "8437   False  ...  False    False     False     False  False     False  False   \n",
       "8438   False  ...  False    False     False     False  False     False  False   \n",
       "\n",
       "      zxzw 2006  zxzw 2008  zydeco  \n",
       "0         False      False   False  \n",
       "1         False      False   False  \n",
       "2         False      False   False  \n",
       "3         False      False   False  \n",
       "4         False      False   False  \n",
       "...         ...        ...     ...  \n",
       "8434      False      False   False  \n",
       "8435      False      False   False  \n",
       "8436      False      False   False  \n",
       "8437      False      False    True  \n",
       "8438      False      False   False  \n",
       "\n",
       "[8439 rows x 2830 columns]"
      ]
     },
     "execution_count": 76,
     "metadata": {},
     "output_type": "execute_result"
    }
   ],
   "source": [
    "te = TransactionEncoder()\n",
    "te_ary = te.fit(baskets).transform(baskets)\n",
    "df2 = pd.DataFrame(te_ary, columns=te.columns_)\n",
    "df2"
   ]
  },
  {
   "cell_type": "code",
   "execution_count": 77,
   "id": "7891ef32",
   "metadata": {},
   "outputs": [],
   "source": [
    "apr = apriori(df2, min_support=0.05, use_colnames=True)\n",
    "apr['length'] = apr['itemsets'].apply(lambda x: len(x))"
   ]
  },
  {
   "cell_type": "code",
   "execution_count": 78,
   "id": "8a544d4d",
   "metadata": {},
   "outputs": [
    {
     "name": "stdout",
     "output_type": "stream",
     "text": [
      "436\n"
     ]
    }
   ],
   "source": [
    "ml_freq_pairs = []\n",
    "for i in apr[apr['length']==5].itemsets.values:\n",
    "    ml_freq_pairs.append(list(i))\n",
    "\n",
    "print(len(ml_freq_pairs))"
   ]
  },
  {
   "cell_type": "code",
   "execution_count": 79,
   "id": "27c6558f",
   "metadata": {},
   "outputs": [],
   "source": [
    "artist_terms_df = df['artist_terms']"
   ]
  },
  {
   "cell_type": "code",
   "execution_count": 80,
   "id": "0474d450",
   "metadata": {},
   "outputs": [
    {
     "data": {
      "text/html": [
       "<div>\n",
       "<style scoped>\n",
       "    .dataframe tbody tr th:only-of-type {\n",
       "        vertical-align: middle;\n",
       "    }\n",
       "\n",
       "    .dataframe tbody tr th {\n",
       "        vertical-align: top;\n",
       "    }\n",
       "\n",
       "    .dataframe thead th {\n",
       "        text-align: right;\n",
       "    }\n",
       "</style>\n",
       "<table border=\"1\" class=\"dataframe\">\n",
       "  <thead>\n",
       "    <tr style=\"text-align: right;\">\n",
       "      <th></th>\n",
       "      <th>support</th>\n",
       "      <th>itemsets</th>\n",
       "      <th>length</th>\n",
       "    </tr>\n",
       "  </thead>\n",
       "  <tbody>\n",
       "    <tr>\n",
       "      <th>0</th>\n",
       "      <td>0.076549</td>\n",
       "      <td>(00s)</td>\n",
       "      <td>1</td>\n",
       "    </tr>\n",
       "    <tr>\n",
       "      <th>1</th>\n",
       "      <td>0.093494</td>\n",
       "      <td>(60s)</td>\n",
       "      <td>1</td>\n",
       "    </tr>\n",
       "    <tr>\n",
       "      <th>2</th>\n",
       "      <td>0.104989</td>\n",
       "      <td>(70s)</td>\n",
       "      <td>1</td>\n",
       "    </tr>\n",
       "    <tr>\n",
       "      <th>3</th>\n",
       "      <td>0.165778</td>\n",
       "      <td>(80s)</td>\n",
       "      <td>1</td>\n",
       "    </tr>\n",
       "    <tr>\n",
       "      <th>4</th>\n",
       "      <td>0.134258</td>\n",
       "      <td>(90s)</td>\n",
       "      <td>1</td>\n",
       "    </tr>\n",
       "    <tr>\n",
       "      <th>...</th>\n",
       "      <td>...</td>\n",
       "      <td>...</td>\n",
       "      <td>...</td>\n",
       "    </tr>\n",
       "    <tr>\n",
       "      <th>4313</th>\n",
       "      <td>0.064818</td>\n",
       "      <td>(rock, pop rock, jazz, electronic, pop, hip hop)</td>\n",
       "      <td>6</td>\n",
       "    </tr>\n",
       "    <tr>\n",
       "      <th>4314</th>\n",
       "      <td>0.051546</td>\n",
       "      <td>(rock, reggae, jazz, electronic, pop, hip hop)</td>\n",
       "      <td>6</td>\n",
       "    </tr>\n",
       "    <tr>\n",
       "      <th>4315</th>\n",
       "      <td>0.053442</td>\n",
       "      <td>(rock, reggae, pop rock, electronic, pop, hip ...</td>\n",
       "      <td>6</td>\n",
       "    </tr>\n",
       "    <tr>\n",
       "      <th>4316</th>\n",
       "      <td>0.052376</td>\n",
       "      <td>(rock, soft rock, pop rock, jazz, electronic, ...</td>\n",
       "      <td>6</td>\n",
       "    </tr>\n",
       "    <tr>\n",
       "      <th>4317</th>\n",
       "      <td>0.056879</td>\n",
       "      <td>(rock, pop rock, soul, jazz, electronic, pop)</td>\n",
       "      <td>6</td>\n",
       "    </tr>\n",
       "  </tbody>\n",
       "</table>\n",
       "<p>4318 rows × 3 columns</p>\n",
       "</div>"
      ],
      "text/plain": [
       "       support                                           itemsets  length\n",
       "0     0.076549                                              (00s)       1\n",
       "1     0.093494                                              (60s)       1\n",
       "2     0.104989                                              (70s)       1\n",
       "3     0.165778                                              (80s)       1\n",
       "4     0.134258                                              (90s)       1\n",
       "...        ...                                                ...     ...\n",
       "4313  0.064818   (rock, pop rock, jazz, electronic, pop, hip hop)       6\n",
       "4314  0.051546     (rock, reggae, jazz, electronic, pop, hip hop)       6\n",
       "4315  0.053442  (rock, reggae, pop rock, electronic, pop, hip ...       6\n",
       "4316  0.052376  (rock, soft rock, pop rock, jazz, electronic, ...       6\n",
       "4317  0.056879      (rock, pop rock, soul, jazz, electronic, pop)       6\n",
       "\n",
       "[4318 rows x 3 columns]"
      ]
     },
     "execution_count": 80,
     "metadata": {},
     "output_type": "execute_result"
    }
   ],
   "source": [
    "apr['length'] = apr['itemsets'].apply(lambda x: len(x))\n",
    "apr"
   ]
  },
  {
   "cell_type": "code",
   "execution_count": 81,
   "id": "0b10822b",
   "metadata": {},
   "outputs": [
    {
     "name": "stdout",
     "output_type": "stream",
     "text": [
      "436\n"
     ]
    }
   ],
   "source": [
    "ml_freq_pairs = []\n",
    "for i in apr[apr['length']==5].itemsets.values:\n",
    "    ml_freq_pairs.append(list(i))\n",
    "\n",
    "print(len(ml_freq_pairs))"
   ]
  },
  {
   "cell_type": "code",
   "execution_count": 82,
   "id": "55d87854",
   "metadata": {},
   "outputs": [
    {
     "data": {
      "text/plain": [
       "0       [hip hop, underground rap, g funk, alternative...\n",
       "1       [blue-eyed soul, pop rock, blues-rock, beach m...\n",
       "2       [salsa, cumbia, tejano, ranchera, latin pop, l...\n",
       "3       [pop rock, new wave, dance rock, rock, new rom...\n",
       "4       [pop punk, ska punk, breakcore, alternative me...\n",
       "                              ...                        \n",
       "9995    [sympho black metal, black metal, heavy metal,...\n",
       "9996    [ballad, disco, northern soul, chanson, smooth...\n",
       "9997    [lovers rock, reggae, roots reggae, dub, orche...\n",
       "9998                                      [zydeco, cajun]\n",
       "9999    [christian rock, christian alternative rock, c...\n",
       "Name: artist_terms, Length: 10000, dtype: object"
      ]
     },
     "execution_count": 82,
     "metadata": {},
     "output_type": "execute_result"
    }
   ],
   "source": [
    "artist_terms_df = df['artist_terms']\n",
    "artist_terms_df"
   ]
  },
  {
   "cell_type": "code",
   "execution_count": 83,
   "id": "a61ad9fe",
   "metadata": {},
   "outputs": [],
   "source": [
    "### GET USERS TASTE\n",
    "#triples\n",
    "user_plays = users_subset\n",
    "# user_plays = pd.read_csv('data/triplets_50000.txt', sep='\\t', names = ['userID','songID', 'play_count'])"
   ]
  },
  {
   "cell_type": "code",
   "execution_count": 84,
   "id": "37c4c35e",
   "metadata": {},
   "outputs": [
    {
     "data": {
      "text/html": [
       "<div>\n",
       "<style scoped>\n",
       "    .dataframe tbody tr th:only-of-type {\n",
       "        vertical-align: middle;\n",
       "    }\n",
       "\n",
       "    .dataframe tbody tr th {\n",
       "        vertical-align: top;\n",
       "    }\n",
       "\n",
       "    .dataframe thead th {\n",
       "        text-align: right;\n",
       "    }\n",
       "</style>\n",
       "<table border=\"1\" class=\"dataframe\">\n",
       "  <thead>\n",
       "    <tr style=\"text-align: right;\">\n",
       "      <th></th>\n",
       "      <th>support</th>\n",
       "      <th>itemsets</th>\n",
       "      <th>length</th>\n",
       "    </tr>\n",
       "  </thead>\n",
       "  <tbody>\n",
       "    <tr>\n",
       "      <th>0</th>\n",
       "      <td>0.076549</td>\n",
       "      <td>(00s)</td>\n",
       "      <td>1</td>\n",
       "    </tr>\n",
       "    <tr>\n",
       "      <th>1</th>\n",
       "      <td>0.093494</td>\n",
       "      <td>(60s)</td>\n",
       "      <td>1</td>\n",
       "    </tr>\n",
       "    <tr>\n",
       "      <th>2</th>\n",
       "      <td>0.104989</td>\n",
       "      <td>(70s)</td>\n",
       "      <td>1</td>\n",
       "    </tr>\n",
       "    <tr>\n",
       "      <th>3</th>\n",
       "      <td>0.165778</td>\n",
       "      <td>(80s)</td>\n",
       "      <td>1</td>\n",
       "    </tr>\n",
       "    <tr>\n",
       "      <th>4</th>\n",
       "      <td>0.134258</td>\n",
       "      <td>(90s)</td>\n",
       "      <td>1</td>\n",
       "    </tr>\n",
       "    <tr>\n",
       "      <th>...</th>\n",
       "      <td>...</td>\n",
       "      <td>...</td>\n",
       "      <td>...</td>\n",
       "    </tr>\n",
       "    <tr>\n",
       "      <th>4313</th>\n",
       "      <td>0.064818</td>\n",
       "      <td>(rock, pop rock, jazz, electronic, pop, hip hop)</td>\n",
       "      <td>6</td>\n",
       "    </tr>\n",
       "    <tr>\n",
       "      <th>4314</th>\n",
       "      <td>0.051546</td>\n",
       "      <td>(rock, reggae, jazz, electronic, pop, hip hop)</td>\n",
       "      <td>6</td>\n",
       "    </tr>\n",
       "    <tr>\n",
       "      <th>4315</th>\n",
       "      <td>0.053442</td>\n",
       "      <td>(rock, reggae, pop rock, electronic, pop, hip ...</td>\n",
       "      <td>6</td>\n",
       "    </tr>\n",
       "    <tr>\n",
       "      <th>4316</th>\n",
       "      <td>0.052376</td>\n",
       "      <td>(rock, soft rock, pop rock, jazz, electronic, ...</td>\n",
       "      <td>6</td>\n",
       "    </tr>\n",
       "    <tr>\n",
       "      <th>4317</th>\n",
       "      <td>0.056879</td>\n",
       "      <td>(rock, pop rock, soul, jazz, electronic, pop)</td>\n",
       "      <td>6</td>\n",
       "    </tr>\n",
       "  </tbody>\n",
       "</table>\n",
       "<p>4318 rows × 3 columns</p>\n",
       "</div>"
      ],
      "text/plain": [
       "       support                                           itemsets  length\n",
       "0     0.076549                                              (00s)       1\n",
       "1     0.093494                                              (60s)       1\n",
       "2     0.104989                                              (70s)       1\n",
       "3     0.165778                                              (80s)       1\n",
       "4     0.134258                                              (90s)       1\n",
       "...        ...                                                ...     ...\n",
       "4313  0.064818   (rock, pop rock, jazz, electronic, pop, hip hop)       6\n",
       "4314  0.051546     (rock, reggae, jazz, electronic, pop, hip hop)       6\n",
       "4315  0.053442  (rock, reggae, pop rock, electronic, pop, hip ...       6\n",
       "4316  0.052376  (rock, soft rock, pop rock, jazz, electronic, ...       6\n",
       "4317  0.056879      (rock, pop rock, soul, jazz, electronic, pop)       6\n",
       "\n",
       "[4318 rows x 3 columns]"
      ]
     },
     "execution_count": 84,
     "metadata": {},
     "output_type": "execute_result"
    }
   ],
   "source": [
    "apr['length'] = apr['itemsets'].apply(lambda x: len(x))\n",
    "apr"
   ]
  },
  {
   "cell_type": "code",
   "execution_count": 88,
   "id": "1bad2aa1",
   "metadata": {},
   "outputs": [],
   "source": [
    "songs_cleaned = df.loc[df['song_id'].isin(z)]"
   ]
  },
  {
   "cell_type": "code",
   "execution_count": 89,
   "id": "32874c24",
   "metadata": {},
   "outputs": [],
   "source": [
    "if not os.path.exists('data/users_cleaned.zip'):\n",
    "    compression_opts = dict(method='zip', archive_name='out.csv')  \n",
    "    users_cleaned.to_csv('data/users_cleaned.zip', index=False, compression=compression_opts)  \n",
    "    songs_cleaned.to_csv('data/songs_cleaned.zip', index=False, compression=compression_opts)  "
   ]
  },
  {
   "cell_type": "code",
   "execution_count": 90,
   "id": "13da56b3",
   "metadata": {},
   "outputs": [],
   "source": [
    "def getUserSongTags(userID):\n",
    "    one_user_data = users_cleaned.loc[users_cleaned['userID'] == userID]\n",
    "    songs = one_user_data['songID']\n",
    "    tag_list = []\n",
    "    print(one_user_data)\n",
    "    \n",
    "    for song in songs:\n",
    "        song_data = songs_cleaned.loc[songs_cleaned['song_id'] == song]\n",
    "        tags = song_data['artist_terms']\n",
    "        tag_list.append(list(tags))\n",
    "    \n",
    "    return tag_list\n",
    "    "
   ]
  },
  {
   "cell_type": "code",
   "execution_count": 91,
   "id": "8eda450e",
   "metadata": {},
   "outputs": [],
   "source": [
    "def getUserSongTagsMULTIPLIED(userID):\n",
    "    one_user_data = users_cleaned.loc[users_cleaned['userID'] == userID]\n",
    "    songs = one_user_data['songID']\n",
    "    tag_list = []\n",
    "    \n",
    "    \n",
    "    for song in songs:\n",
    "        song_data = songs_cleaned.loc[songs_cleaned['song_id'] == song]\n",
    "        a = one_user_data.loc[one_user_data['songID'] == song]\n",
    "        song_play_count = a['play_count']\n",
    "        tags = song_data['artist_terms']\n",
    "        #print(song_play_count)\n",
    "        ints = int(song_play_count)\n",
    "        #print('AFTER : ', ints)\n",
    "        for i in range(0, (ints+1)):\n",
    "            tag_list.append(list(tags))\n",
    "            #print(i)\n",
    "        \n",
    "        #print(tags)\n",
    "        #print(song_play_count)\n",
    "    \n",
    "    return tag_list\n",
    "    "
   ]
  },
  {
   "cell_type": "code",
   "execution_count": 92,
   "id": "39f95d90",
   "metadata": {
    "scrolled": true
   },
   "outputs": [],
   "source": [
    "user_tags = getUserSongTagsMULTIPLIED('8305c896f42308824da7d4386f4b9ee584281412')\n"
   ]
  },
  {
   "cell_type": "code",
   "execution_count": 93,
   "id": "4f148534",
   "metadata": {},
   "outputs": [],
   "source": [
    "def listToString(s):\n",
    "   \n",
    "    # initialize an empty string\n",
    "    str1 = \" \"\n",
    "   \n",
    "    # return string \n",
    "    sj = (str1.join(s))\n",
    "    return sj"
   ]
  },
  {
   "cell_type": "code",
   "execution_count": 94,
   "id": "909ae076",
   "metadata": {},
   "outputs": [],
   "source": [
    "user_tags = getUserSongTagsMULTIPLIED('8305c896f42308824da7d4386f4b9ee584281412')\n",
    "\n",
    "#print(user_tags)"
   ]
  },
  {
   "cell_type": "markdown",
   "id": "a784ac91",
   "metadata": {},
   "source": [
    "## TF IDF"
   ]
  },
  {
   "cell_type": "code",
   "execution_count": 95,
   "id": "8c038768",
   "metadata": {},
   "outputs": [],
   "source": [
    "def getTFIDFuser(userID):\n",
    "    user_tags = getUserSongTagsMULTIPLIED(userID)\n",
    "    #print(user_tags)\n",
    "    \n",
    "    tf_dc = {}\n",
    "    other_documents = []\n",
    "    # porter = nltk.PorterStemmer()\n",
    "    tokenizer = RegexpTokenizer(r'\\w+')\n",
    "    doc = []\n",
    "    \n",
    "    for i in range(len(user_tags)):\n",
    "        if len(user_tags[i]) > 0:\n",
    "            doc.append(listToString(user_tags[i][0]))\n",
    "        # var = user_tags[i][0]\n",
    "        # #print(var)\n",
    "        # doc.append(listToString(var))\n",
    "        #print(doc)\n",
    "\n",
    "    doc = listToString(doc)\n",
    "    other_documents.append(doc)\n",
    "    tokens = tokenizer.tokenize(doc)\n",
    "    tokens = [w.lower() for w in tokens]\n",
    "    # tokens = [porter.stem(w) for w in tokens]\n",
    "\n",
    "    for token in tokens:\n",
    "        if token in tf_dc:\n",
    "            tf_dc[token] += 1\n",
    "        else:\n",
    "            tf_dc[token] = 1\n",
    "            \n",
    "    tf_dc = dict(sorted(tf_dc.items(), key=lambda item: item[1], reverse=True))\n",
    "    # We have only two documents\n",
    "    N = (len(user_tags)) \n",
    "    idf_dc = {}\n",
    "\n",
    "    for word in tf_dc.keys():\n",
    "        n = 0\n",
    "        for doc in other_documents:\n",
    "            if word in doc:\n",
    "                n += 1\n",
    "\n",
    "        idf_dc[word] = math.log(N / (n + 1)) + 1\n",
    "        \n",
    "    tf_idf_dc = {}\n",
    "    for word in tf_dc.keys():\n",
    "        tf_idf_dc[word] = tf_dc[word] * idf_dc[word]\n",
    "    \n",
    "    return tf_idf_dc"
   ]
  },
  {
   "cell_type": "code",
   "execution_count": 96,
   "id": "5b486843",
   "metadata": {
    "scrolled": true
   },
   "outputs": [
    {
     "name": "stdout",
     "output_type": "stream",
     "text": [
      "rock  :  166.28984325071113\n",
      "pop  :  110.85989550047408\n",
      "alternative  :  89.30380470871523\n",
      "metal  :  61.58883083359672\n",
      "indie  :  43.1121815835177\n",
      "punk  :  40.03274004183786\n",
      "guitar  :  33.87385695847819\n",
      "['rock', 'pop', 'alternative', 'metal', 'indie', 'punk', 'guitar']\n"
     ]
    }
   ],
   "source": [
    "user_tfidf = getTFIDFuser('8305c896f42308824da7d4386f4b9ee584281412')\n",
    "\n",
    "first2pairs = {k: user_tfidf[k] for k in list(user_tfidf)[:7]}\n",
    "user_favourite_tags = []\n",
    "\n",
    "\n",
    "for genre, weight in first2pairs.items():\n",
    "    print(genre, ' : ',weight)\n",
    "    user_favourite_tags.append(genre)\n",
    "\n",
    "print(user_favourite_tags)"
   ]
  },
  {
   "cell_type": "code",
   "execution_count": 97,
   "id": "05688ad6",
   "metadata": {},
   "outputs": [],
   "source": [
    "item_tags_for_finding_songs = []\n",
    "\n",
    "for items in ml_freq_pairs:\n",
    "    res = len(set(user_favourite_tags) & set(items))\n",
    "    uncommon_elements = set(user_favourite_tags) ^ set(items)\n",
    "    if(res >= 5 ):\n",
    "        #print(items)\n",
    "        # print(uncommon_elements)\n",
    "        item_tags_for_finding_songs.append(uncommon_elements)"
   ]
  },
  {
   "cell_type": "code",
   "execution_count": 98,
   "id": "80d17c04",
   "metadata": {},
   "outputs": [],
   "source": [
    "songid_matches = {}\n",
    "\n",
    "for index, row in songs_cleaned.iterrows():\n",
    "    \n",
    "    res = len(set(user_favourite_tags) & set(row['artist_terms']))\n",
    "    if(res >= 6 ):\n",
    "        songid_matches[row['song_id']] = res"
   ]
  },
  {
   "cell_type": "code",
   "execution_count": 99,
   "id": "037d4799",
   "metadata": {},
   "outputs": [
    {
     "data": {
      "text/plain": [
       "{'SODOLVO12B0B80B2F4': 7,\n",
       " 'SOTWWBZ12AB01845E0': 7,\n",
       " 'SOWJCAE12AC46887E7': 7,\n",
       " 'SODXTMM12AF729F8F1': 7,\n",
       " 'SODFEAT12A8C139306': 7,\n",
       " 'SOBRBOP12AB018ABA1': 7,\n",
       " 'SOCRNKC12A6D4FAE9D': 7,\n",
       " 'SOWMQTJ12AB0184323': 7,\n",
       " 'SOBKIMB12A8C136DE9': 7,\n",
       " 'SOIHJSD12A6701EB04': 7}"
      ]
     },
     "execution_count": 99,
     "metadata": {},
     "output_type": "execute_result"
    }
   ],
   "source": [
    "a = dict(sorted(songid_matches.items(), key=lambda x: x[1],  reverse=True) )\n",
    "top10recommended = {k: a[k] for k in list(a)[:10]}\n",
    "\n",
    "top10recommended"
   ]
  },
  {
   "cell_type": "code",
   "execution_count": 100,
   "id": "9b457171",
   "metadata": {},
   "outputs": [
    {
     "name": "stdout",
     "output_type": "stream",
     "text": [
      "36    Barking Dogs (From \"Piouhgd\")\n",
      "Name: song_name, dtype: object\n"
     ]
    }
   ],
   "source": [
    "def getSongName(songID):\n",
    "    song_name = df.loc[df['song_id'] == songID]\n",
    "    return song_name['song_name']\n",
    "\n",
    "\n",
    "print(getSongName('SOJXVAH12A8C139700'))"
   ]
  },
  {
   "cell_type": "code",
   "execution_count": 101,
   "id": "0e23ddbf",
   "metadata": {},
   "outputs": [
    {
     "data": {
      "text/plain": [
       "<BarContainer object of 70 artists>"
      ]
     },
     "execution_count": 101,
     "metadata": {},
     "output_type": "execute_result"
    },
    {
     "data": {
      "image/png": "[encoded data removed]",
      "text/plain": [
       "<Figure size 1872x576 with 1 Axes>"
      ]
     },
     "metadata": {
      "needs_background": "light"
     },
     "output_type": "display_data"
    }
   ],
   "source": [
    "plt.figure(figsize = (26, 8), facecolor = None)\n",
    "plt.bar(user_tfidf.keys(), user_tfidf.values(), 1, color='g')"
   ]
  },
  {
   "cell_type": "code",
   "execution_count": 116,
   "id": "66156ec8",
   "metadata": {},
   "outputs": [],
   "source": [
    "def getRecommendation(user):\n",
    "    user_tfidf = getTFIDFuser(user)\n",
    "    first2pairs = {k: user_tfidf[k] for k in list(user_tfidf)[:7]}\n",
    "    user_favourite_tags = [genre for genre, weight in first2pairs.items()]\n",
    "\n",
    "    item_tags_for_finding_songs = []\n",
    "    for items in ml_freq_pairs:\n",
    "        res = len(set(user_favourite_tags) & set(items))\n",
    "        uncommon_elements = set(user_favourite_tags) ^ set(items)\n",
    "        if(res >= 5 ):\n",
    "            item_tags_for_finding_songs.append(uncommon_elements)\n",
    "\n",
    "    songid_matches = {}\n",
    "    for index, row in songs_cleaned.iterrows():\n",
    "        \n",
    "        res = len(set(user_favourite_tags) & set(row['artist_terms']))\n",
    "        if(res >= 6 ):\n",
    "            songid_matches[row['song_id']] = res\n",
    "\n",
    "    a = dict(sorted(songid_matches.items(), key=lambda x: x[1],  reverse=True) )\n",
    "    recommendations = list(a.keys())[:10]\n",
    "\n",
    "    return recommendations"
   ]
  },
  {
   "cell_type": "code",
   "execution_count": 119,
   "id": "4368bb28",
   "metadata": {},
   "outputs": [
    {
     "data": {
      "application/vnd.jupyter.widget-view+json": {
       "model_id": "15475a382c8b4089b3b8015510fefb84",
       "version_major": 2,
       "version_minor": 0
      },
      "text/plain": [
       "  0%|          | 0/5000 [00:00<?, ?it/s]"
      ]
     },
     "metadata": {},
     "output_type": "display_data"
    }
   ],
   "source": [
    "user_recommendations = {}\n",
    "for key in tqdm(user_profiles.keys()):\n",
    "    user_recommendations[key] = getRecommendation(key)"
   ]
  },
  {
   "cell_type": "code",
   "execution_count": 121,
   "id": "b4008965",
   "metadata": {},
   "outputs": [
    {
     "name": "stdout",
     "output_type": "stream",
     "text": [
      "The intra list similarity for apriori model is: 0.5598819613191517\n"
     ]
    }
   ],
   "source": [
    "# Get the intra-list similarity of the model\n",
    "# Average of all intra list similarities\n",
    "intra_list_similar = []\n",
    "for user in user_recommendations.keys():\n",
    "    intra_list_similar.append(intra_list_similarity(user))\n",
    "intra_similar_apriori = np.nanmean(intra_list_similar)\n",
    "print(\"The intra list similarity for apriori model is:\", intra_similar_apriori)"
   ]
  },
  {
   "cell_type": "markdown",
   "id": "6a4890a0",
   "metadata": {},
   "source": [
    "#### Evaluation based on similarity of recommended songs to the user profile"
   ]
  },
  {
   "cell_type": "code",
   "execution_count": 125,
   "id": "63cdf89a",
   "metadata": {},
   "outputs": [
    {
     "name": "stdout",
     "output_type": "stream",
     "text": [
      "The average similarity for apriori model is: 4.365074349770469\n"
     ]
    }
   ],
   "source": [
    "# Get the average similarity of the model\n",
    "# Average of all similarities\n",
    "\n",
    "average_similar = []\n",
    "for user in user_recommendations.keys():\n",
    "    average_similar.append(average_distance(user))\n",
    "average_similar_apriori = np.nanmean(average_similar)\n",
    "print(\"The average similarity for apriori model is:\" , average_similar_apriori)"
   ]
  },
  {
   "cell_type": "markdown",
   "id": "d779e753",
   "metadata": {},
   "source": [
    "# Evaluation\n",
    "<a id='evaluation'></a>"
   ]
  },
  {
   "cell_type": "code",
   "execution_count": 135,
   "id": "23751739",
   "metadata": {},
   "outputs": [
    {
     "data": {
      "text/html": [
       "<style type=\"text/css\">\n",
       "#T_3d3b5_row0_col0 {\n",
       "  width: 10em;\n",
       "  background: linear-gradient(90deg, #d65f5f 30.6%, transparent 30.6%);\n",
       "}\n",
       "#T_3d3b5_row0_col1, #T_3d3b5_row5_col0 {\n",
       "  width: 10em;\n",
       "  background: linear-gradient(90deg, #d65f5f 100.0%, transparent 100.0%);\n",
       "}\n",
       "#T_3d3b5_row1_col0 {\n",
       "  width: 10em;\n",
       "  background: linear-gradient(90deg, #d65f5f 92.3%, transparent 92.3%);\n",
       "}\n",
       "#T_3d3b5_row1_col1 {\n",
       "  width: 10em;\n",
       "  background: linear-gradient(90deg, #d65f5f 50.3%, transparent 50.3%);\n",
       "}\n",
       "#T_3d3b5_row2_col0 {\n",
       "  width: 10em;\n",
       "  background: linear-gradient(90deg, #d65f5f 34.0%, transparent 34.0%);\n",
       "}\n",
       "#T_3d3b5_row2_col1 {\n",
       "  width: 10em;\n",
       "  background: linear-gradient(90deg, #d65f5f 97.8%, transparent 97.8%);\n",
       "}\n",
       "#T_3d3b5_row3_col0 {\n",
       "  width: 10em;\n",
       "  background: linear-gradient(90deg, #d65f5f 30.9%, transparent 30.9%);\n",
       "}\n",
       "#T_3d3b5_row3_col1 {\n",
       "  width: 10em;\n",
       "  background: linear-gradient(90deg, #d65f5f 81.1%, transparent 81.1%);\n",
       "}\n",
       "#T_3d3b5_row4_col0 {\n",
       "  width: 10em;\n",
       "  background: linear-gradient(90deg, #d65f5f 31.4%, transparent 31.4%);\n",
       "}\n",
       "#T_3d3b5_row4_col1 {\n",
       "  width: 10em;\n",
       "  background: linear-gradient(90deg, #d65f5f 96.0%, transparent 96.0%);\n",
       "}\n",
       "#T_3d3b5_row5_col1 {\n",
       "  width: 10em;\n",
       "  background: linear-gradient(90deg, #d65f5f 70.1%, transparent 70.1%);\n",
       "}\n",
       "</style>\n",
       "<table id=\"T_3d3b5\">\n",
       "  <thead>\n",
       "    <tr>\n",
       "      <th class=\"blank level0\" >&nbsp;</th>\n",
       "      <th id=\"T_3d3b5_level0_col0\" class=\"col_heading level0 col0\" >intra list similarity</th>\n",
       "      <th id=\"T_3d3b5_level0_col1\" class=\"col_heading level0 col1\" >average similarity</th>\n",
       "    </tr>\n",
       "  </thead>\n",
       "  <tbody>\n",
       "    <tr>\n",
       "      <th id=\"T_3d3b5_level0_row0\" class=\"row_heading level0 row0\" >Baseline</th>\n",
       "      <td id=\"T_3d3b5_row0_col0\" class=\"data row0 col0\" >0.171185</td>\n",
       "      <td id=\"T_3d3b5_row0_col1\" class=\"data row0 col1\" >6.224216</td>\n",
       "    </tr>\n",
       "    <tr>\n",
       "      <th id=\"T_3d3b5_level0_row1\" class=\"row_heading level0 row1\" >Content</th>\n",
       "      <td id=\"T_3d3b5_row1_col0\" class=\"data row1 col0\" >0.516987</td>\n",
       "      <td id=\"T_3d3b5_row1_col1\" class=\"data row1 col1\" >3.130462</td>\n",
       "    </tr>\n",
       "    <tr>\n",
       "      <th id=\"T_3d3b5_level0_row2\" class=\"row_heading level0 row2\" >Clustering</th>\n",
       "      <td id=\"T_3d3b5_row2_col0\" class=\"data row2 col0\" >0.190452</td>\n",
       "      <td id=\"T_3d3b5_row2_col1\" class=\"data row2 col1\" >6.084385</td>\n",
       "    </tr>\n",
       "    <tr>\n",
       "      <th id=\"T_3d3b5_level0_row3\" class=\"row_heading level0 row3\" >Collaborative</th>\n",
       "      <td id=\"T_3d3b5_row3_col0\" class=\"data row3 col0\" >0.172952</td>\n",
       "      <td id=\"T_3d3b5_row3_col1\" class=\"data row3 col1\" >5.047280</td>\n",
       "    </tr>\n",
       "    <tr>\n",
       "      <th id=\"T_3d3b5_level0_row4\" class=\"row_heading level0 row4\" >Collaborative KNN</th>\n",
       "      <td id=\"T_3d3b5_row4_col0\" class=\"data row4 col0\" >0.176048</td>\n",
       "      <td id=\"T_3d3b5_row4_col1\" class=\"data row4 col1\" >5.972385</td>\n",
       "    </tr>\n",
       "    <tr>\n",
       "      <th id=\"T_3d3b5_level0_row5\" class=\"row_heading level0 row5\" >Apriori</th>\n",
       "      <td id=\"T_3d3b5_row5_col0\" class=\"data row5 col0\" >0.559882</td>\n",
       "      <td id=\"T_3d3b5_row5_col1\" class=\"data row5 col1\" >4.365074</td>\n",
       "    </tr>\n",
       "  </tbody>\n",
       "</table>\n"
      ],
      "text/plain": [
       "<pandas.io.formats.style.Styler at 0x1bf0ca59df0>"
      ]
     },
     "execution_count": 135,
     "metadata": {},
     "output_type": "execute_result"
    }
   ],
   "source": [
    "results = pd.DataFrame({'Baseline':          [intra_similar_baseline, average_similar_baseline],\n",
    "                        'Content':           [intra_similar_content, average_similar_content],\n",
    "                        'Clustering':        [intra_similar_cluster, average_similar_cluster],\n",
    "                        'Collaborative':     [intra_similar_collab, average_similar_collab],\n",
    "                        'Collaborative KNN': [intra_similar_collab_knn, average_similar_collab_knn],\n",
    "                        'Collaborative_LSH': [intra_list_similar_LSH, average_similar_LSH],\n",
    "                        'Apriori':           [intra_similar_apriori, average_similar_apriori]})\n",
    "results.index = ['intra list similarity', 'average similarity']\n",
    "results = results.T\n",
    "results.style.bar()"
   ]
  },
  {
   "cell_type": "code",
   "execution_count": 136,
   "id": "3b51d290",
   "metadata": {},
   "outputs": [
    {
     "name": "stdout",
     "output_type": "stream",
     "text": [
      "\\begin{tabular}{lrr}\n",
      " & intra list similarity & average similarity \\\\\n",
      "Baseline & 0.171185 & 6.224216 \\\\\n",
      "Content & 0.516987 & 3.130462 \\\\\n",
      "Clustering & 0.190452 & 6.084385 \\\\\n",
      "Collaborative & 0.172952 & 5.047280 \\\\\n",
      "Collaborative KNN & 0.176048 & 5.972385 \\\\\n",
      "Apriori & 0.559882 & 4.365074 \\\\\n",
      "\\end{tabular}\n",
      "\n"
     ]
    }
   ],
   "source": [
    "print(results.style.to_latex())"
   ]
  }
 ],
 "metadata": {
  "kernelspec": {
   "display_name": "Python 3 (ipykernel)",
   "language": "python",
   "name": "python3"
  },
  "language_info": {
   "codemirror_mode": {
    "name": "ipython",
    "version": 3
   },
   "file_extension": ".py",
   "mimetype": "text/x-python",
   "name": "python",
   "nbconvert_exporter": "python",
   "pygments_lexer": "ipython3",
   "version": "3.8.5"
  },
  "vscode": {
   "interpreter": {
    "hash": "c4f92193806e2908606a5f23edd55a5282f2f433b73b1c504507f9256ed9f0b4"
   }
  }
 },
 "nbformat": 4,
 "nbformat_minor": 5
}
