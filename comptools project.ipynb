{
 "cells": [
  {
   "cell_type": "code",
   "execution_count": 16,
   "id": "ae5187e6",
   "metadata": {},
   "outputs": [
    {
     "name": "stdout",
     "output_type": "stream",
     "text": [
      "218.93179\n"
     ]
    }
   ],
   "source": [
    "# first \n",
    "\n",
    "import hdf5_getters as hdf5\n",
    "\n",
    "\n",
    "\n",
    "h5 = hdf5_getters.open_h5_file_read('MillionSongSubset/A/A/A/TRAAAAW128F429D538.h5')\n",
    "duration = hdf5_getters.get_duration(h5)\n",
    "h5.close()\n",
    "\n",
    "\n",
    "print(duration)"
   ]
  },
  {
   "cell_type": "code",
   "execution_count": 24,
   "id": "913400f0",
   "metadata": {},
   "outputs": [
    {
     "ename": "TypeError",
     "evalue": "unsupported operand type(s) for +: 'PosixPath' and 'str'",
     "output_type": "error",
     "traceback": [
      "\u001b[0;31m---------------------------------------------------------------------------\u001b[0m",
      "\u001b[0;31mTypeError\u001b[0m                                 Traceback (most recent call last)",
      "Input \u001b[0;32mIn [24]\u001b[0m, in \u001b[0;36m<cell line: 13>\u001b[0;34m()\u001b[0m\n\u001b[1;32m      9\u001b[0m \u001b[38;5;28mlen\u001b[39m(song_list)\n\u001b[1;32m     11\u001b[0m song1 \u001b[38;5;241m=\u001b[39m hdf5\u001b[38;5;241m.\u001b[39mopen_h5_file_read(song_list[\u001b[38;5;241m0\u001b[39m])\n\u001b[0;32m---> 13\u001b[0m \u001b[38;5;28;43mprint\u001b[39;49m\u001b[43m(\u001b[49m\u001b[43msong1\u001b[49m\u001b[43m)\u001b[49m\n",
      "File \u001b[0;32m~/anaconda3/lib/python3.9/site-packages/tables/file.py:2797\u001b[0m, in \u001b[0;36mFile.__str__\u001b[0;34m(self)\u001b[0m\n\u001b[1;32m   2794\u001b[0m         \u001b[38;5;28;01mexcept\u001b[39;00m \u001b[38;5;167;01mOSError\u001b[39;00m:\n\u001b[1;32m   2795\u001b[0m             \u001b[38;5;66;03m# in-memory file\u001b[39;00m\n\u001b[1;32m   2796\u001b[0m             date \u001b[38;5;241m=\u001b[39m \u001b[38;5;124m\"\u001b[39m\u001b[38;5;124m\"\u001b[39m\n\u001b[0;32m-> 2797\u001b[0m         astring \u001b[38;5;241m=\u001b[39m \u001b[38;5;28;43mself\u001b[39;49m\u001b[38;5;241;43m.\u001b[39;49m\u001b[43mfilename\u001b[49m\u001b[43m \u001b[49m\u001b[38;5;241;43m+\u001b[39;49m\u001b[43m \u001b[49m\u001b[38;5;124;43m'\u001b[39;49m\u001b[38;5;124;43m (File) \u001b[39;49m\u001b[38;5;124;43m'\u001b[39;49m \u001b[38;5;241m+\u001b[39m \u001b[38;5;28mrepr\u001b[39m(\u001b[38;5;28mself\u001b[39m\u001b[38;5;241m.\u001b[39mtitle) \u001b[38;5;241m+\u001b[39m \u001b[38;5;124m'\u001b[39m\u001b[38;5;130;01m\\n\u001b[39;00m\u001b[38;5;124m'\u001b[39m\n\u001b[1;32m   2798\u001b[0m \u001b[38;5;66;03m#         astring += 'root_uep :=' + repr(self.root_uep) + '; '\u001b[39;00m\n\u001b[1;32m   2799\u001b[0m \u001b[38;5;66;03m#         astring += 'format_version := ' + self.format_version + '\\n'\u001b[39;00m\n\u001b[1;32m   2800\u001b[0m \u001b[38;5;66;03m#         astring += 'filters :=' + repr(self.filters) + '\\n'\u001b[39;00m\n\u001b[1;32m   2801\u001b[0m         astring \u001b[38;5;241m+\u001b[39m\u001b[38;5;241m=\u001b[39m \u001b[38;5;124m'\u001b[39m\u001b[38;5;124mLast modif.: \u001b[39m\u001b[38;5;124m'\u001b[39m \u001b[38;5;241m+\u001b[39m \u001b[38;5;28mrepr\u001b[39m(date) \u001b[38;5;241m+\u001b[39m \u001b[38;5;124m'\u001b[39m\u001b[38;5;130;01m\\n\u001b[39;00m\u001b[38;5;124m'\u001b[39m\n",
      "\u001b[0;31mTypeError\u001b[0m: unsupported operand type(s) for +: 'PosixPath' and 'str'"
     ]
    }
   ],
   "source": [
    "import glob\n",
    "from pathlib import Path\n",
    "\n",
    "song_list = []\n",
    "\n",
    "for path in Path('MillionSongSubset').rglob('*.h5'):\n",
    "    song_list.append(path)\n",
    "    \n",
    "len(song_list)\n",
    "\n",
    "song1 = hdf5.open_h5_file_read(song_list[0])\n",
    "\n",
    "print(song1)\n"
   ]
  },
  {
   "cell_type": "code",
   "execution_count": null,
   "id": "8e7b811b",
   "metadata": {},
   "outputs": [],
   "source": []
  }
 ],
 "metadata": {
  "kernelspec": {
   "display_name": "Python 3 (ipykernel)",
   "language": "python",
   "name": "python3"
  },
  "language_info": {
   "codemirror_mode": {
    "name": "ipython",
    "version": 3
   },
   "file_extension": ".py",
   "mimetype": "text/x-python",
   "name": "python",
   "nbconvert_exporter": "python",
   "pygments_lexer": "ipython3",
   "version": "3.9.12"
  }
 },
 "nbformat": 4,
 "nbformat_minor": 5
}
