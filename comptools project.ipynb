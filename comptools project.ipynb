{
 "cells": [
  {
   "cell_type": "code",
<<<<<<< HEAD
   "execution_count": 3,
=======
   "execution_count": 1,
>>>>>>> 0cd1840b07611fd0f675a8331d475989ab63f577
   "id": "ae5187e6",
   "metadata": {},
   "outputs": [
    {
     "name": "stdout",
     "output_type": "stream",
     "text": [
      "218.93179\n"
     ]
    }
   ],
   "source": [
    "# first \n",
    "\n",
    "import hdf5_getters as hdf5\n",
    "\n",
    "\n",
    "h5 = hdf5.open_h5_file_read('MillionSongSubset/A/A/A/TRAAAAW128F429D538.h5')\n",
    "duration = hdf5.get_duration(h5)\n",
    "h5.close()\n",
    "\n",
    "\n",
    "print(duration)"
   ]
  },
  {
   "cell_type": "code",
<<<<<<< HEAD
   "execution_count": 19,
   "id": "913400f0",
   "metadata": {},
=======
   "execution_count": 8,
   "id": "913400f0",
   "metadata": {
    "scrolled": false
   },
>>>>>>> 0cd1840b07611fd0f675a8331d475989ab63f577
   "outputs": [
    {
     "name": "stdout",
     "output_type": "stream",
     "text": [
<<<<<<< HEAD
      "b'Stone a Pig'\n"
     ]
=======
      "10000\n"
     ]
    },
    {
     "data": {
      "text/plain": [
       "tables.file.File"
      ]
     },
     "execution_count": 8,
     "metadata": {},
     "output_type": "execute_result"
>>>>>>> 0cd1840b07611fd0f675a8331d475989ab63f577
    }
   ],
   "source": [
    "import glob\n",
    "from pathlib import Path\n",
    "import tables\n",
    "\n",
    "song_list = []\n",
    "\n",
    "for path in Path('MillionSongSubset').rglob('*.h5'):\n",
    "    song_list.append(path)\n",
    "    \n",
    "print(len(song_list))\n",
    "\n",
    "song1 = hdf5.open_h5_file_read(song_list[0])\n",
<<<<<<< HEAD
    "title = hdf5.get_title(song1)\n",
    "print(title)"
=======
    "\n",
    "type(song1)"
>>>>>>> 0cd1840b07611fd0f675a8331d475989ab63f577
   ]
  },
  {
   "cell_type": "code",
<<<<<<< HEAD
   "execution_count": 14,
   "id": "e99fb972",
   "metadata": {
    "scrolled": false
   },
   "outputs": [
    {
     "name": "stdout",
     "output_type": "stream",
     "text": [
      "<class 'tables.file.File'>\n",
      "<closed File>\n"
     ]
    }
   ],
   "source": [
    "print(type(song1))\n",
    "#print(song_list)\n",
    "print(f)"
   ]
=======
   "execution_count": null,
   "id": "e7f89431",
   "metadata": {},
   "outputs": [],
   "source": [
    "#hello"
   ]
  },
  {
   "cell_type": "code",
   "execution_count": null,
   "id": "33f42f82",
   "metadata": {},
   "outputs": [],
   "source": []
>>>>>>> 0cd1840b07611fd0f675a8331d475989ab63f577
  },
  {
   "cell_type": "code",
   "execution_count": null,
   "id": "c501d036",
   "metadata": {},
   "outputs": [],
   "source": []
  },
  {
   "cell_type": "code",
   "execution_count": null,
   "id": "eba9961e",
   "metadata": {},
   "outputs": [],
   "source": []
  },
  {
   "cell_type": "code",
   "execution_count": null,
   "id": "0c3c6db7",
   "metadata": {},
   "outputs": [],
   "source": []
  },
  {
   "cell_type": "code",
   "execution_count": null,
   "id": "d2c55513",
   "metadata": {},
   "outputs": [],
   "source": []
  },
  {
   "cell_type": "code",
   "execution_count": null,
   "id": "736ef19b",
   "metadata": {},
   "outputs": [],
   "source": []
  },
  {
   "cell_type": "code",
   "execution_count": null,
   "id": "90a4e43f",
   "metadata": {},
   "outputs": [],
   "source": []
  },
  {
   "cell_type": "code",
   "execution_count": null,
   "id": "4d442d57",
   "metadata": {},
   "outputs": [],
   "source": []
  }
 ],
 "metadata": {
  "kernelspec": {
   "display_name": "Python 3 (ipykernel)",
   "language": "python",
   "name": "python3"
  },
  "language_info": {
   "codemirror_mode": {
    "name": "ipython",
    "version": 3
   },
   "file_extension": ".py",
   "mimetype": "text/x-python",
   "name": "python",
   "nbconvert_exporter": "python",
   "pygments_lexer": "ipython3",
   "version": "3.9.12"
  }
 },
 "nbformat": 4,
 "nbformat_minor": 5
}
