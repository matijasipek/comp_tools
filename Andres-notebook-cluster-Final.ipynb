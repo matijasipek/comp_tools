{
 "cells": [
  {
   "cell_type": "markdown",
   "id": "b0e51365",
   "metadata": {},
   "source": [
    "# Content based recommendation system"
   ]
  },
  {
   "cell_type": "markdown",
   "id": "9d1e4c60",
   "metadata": {},
   "source": [
    "*Draft*\n",
    "\n",
    "Video 1: https://www.youtube.com/watch?v=hOQg2LQM4ec&ab_channel=MiningMassiveDatasets \\\n",
    "Notes: \n",
    "- It would be interesting to mention the \"long tail\" phenomenom to explain why recommendation systems are interesting\n",
    "- The key to recommendations is to have the utility matrix and predict the values that don't appear there\n",
    "\n",
    "Video 2 (Content based): https://www.youtube.com/watch?v=IlqnNWuqToo&ab_channel=MiningMassiveDatasets \\\n",
    "\n",
    "- Main idea of content based: recommend items to customer x similar to previous items rated highly by x\n",
    "\n",
    "- Plan of action: start with a user and find out a set of items the user likes using explicit and implicit data -> we are going to build an item profile -> Infer user profile -> Match -> Recommemd\n",
    "\n",
    "1. For each item, create an item profile. Profile is a set of features. Convenient to think it as a vector\n",
    "2. User profile: (weighted) average of rated item profiles"
   ]
  },
  {
   "cell_type": "markdown",
   "id": "8ca561ca",
   "metadata": {},
   "source": [
    "### Read the data\n",
    "\n",
    "Useful features:\n",
    "- artist_terms (tags)\n",
    "- similar_artists?\n",
    "- time_signature\n",
    "- year\n",
    "- artist_mbtags\n",
    "- mode, _what is that?_"
   ]
  },
  {
   "cell_type": "code",
   "execution_count": 121,
   "id": "90c0a862",
   "metadata": {},
   "outputs": [],
   "source": [
    "# Imports\n",
    "import pickle\n",
    "import pandas as pd\n",
    "import os\n",
    "import hdf5_getters as hdf5_getters\n",
    "import numpy as np\n",
    "from tqdm import tqdm\n",
    "from sklearn.metrics import silhouette_score\n",
    "from sklearn.preprocessing import MinMaxScaler\n",
    "from sklearn.cluster import KMeans\n",
    "import matplotlib.pyplot as plt\n",
    "from zipfile import ZipFile\n",
    "from io import BytesIO\n"
   ]
  },
  {
   "cell_type": "code",
   "execution_count": 97,
   "id": "56108d41",
   "metadata": {},
   "outputs": [],
   "source": [
    "# Read the songs dataset\n",
    "with ZipFile('songs_cleaned.zip', 'r') as zipfile:\n",
    "    data = zipfile.read('out.csv')\n",
    "\n",
    "songs_cleaned = pd.read_csv(BytesIO(data))"
   ]
  },
  {
   "cell_type": "code",
   "execution_count": 98,
   "id": "c1d20e72",
   "metadata": {},
   "outputs": [],
   "source": [
    "# And pre-process the artist_terms feature\n",
    "\n",
    "def ConvertStringtoList(string):\n",
    "    s = string.replace('[','')\n",
    "    s = s.replace(']','')\n",
    "    s = s.replace('\\'','')\n",
    "    s = s.replace(' ','')\n",
    "    li = list(s.split(\",\"))\n",
    "    return li\n",
    "\n",
    "i = 0\n",
    "for string in songs_cleaned['artist_terms']:\n",
    "    list_ = ConvertStringtoList(string)\n",
    "    songs_cleaned['artist_terms'][i] = list_\n",
    "    i += 1"
   ]
  },
  {
   "cell_type": "code",
   "execution_count": 99,
   "id": "4cf981c6",
   "metadata": {},
   "outputs": [
    {
     "data": {
      "text/html": [
       "<div>\n",
       "<style scoped>\n",
       "    .dataframe tbody tr th:only-of-type {\n",
       "        vertical-align: middle;\n",
       "    }\n",
       "\n",
       "    .dataframe tbody tr th {\n",
       "        vertical-align: top;\n",
       "    }\n",
       "\n",
       "    .dataframe thead th {\n",
       "        text-align: right;\n",
       "    }\n",
       "</style>\n",
       "<table border=\"1\" class=\"dataframe\">\n",
       "  <thead>\n",
       "    <tr style=\"text-align: right;\">\n",
       "      <th></th>\n",
       "      <th>artist_id</th>\n",
       "      <th>song_id</th>\n",
       "      <th>artist_terms</th>\n",
       "    </tr>\n",
       "  </thead>\n",
       "  <tbody>\n",
       "    <tr>\n",
       "      <th>0</th>\n",
       "      <td>ARMJAGH1187FB546F3</td>\n",
       "      <td>SOCIWDW12A8C13D406</td>\n",
       "      <td>[blue-eyedsoul, poprock, blues-rock, beachmusi...</td>\n",
       "    </tr>\n",
       "    <tr>\n",
       "      <th>1</th>\n",
       "      <td>ARXR32B1187FB57099</td>\n",
       "      <td>SOFSOCN12A8C143F5D</td>\n",
       "      <td>[poppunk, skapunk, breakcore, alternativemetal...</td>\n",
       "    </tr>\n",
       "    <tr>\n",
       "      <th>2</th>\n",
       "      <td>AR10USD1187B99F3F1</td>\n",
       "      <td>SOHKNRJ12A6701D1F8</td>\n",
       "      <td>[post-hardcore, screamo, emo, hardcore, punkre...</td>\n",
       "    </tr>\n",
       "    <tr>\n",
       "      <th>3</th>\n",
       "      <td>ARC43071187B990240</td>\n",
       "      <td>SOKEJEJ12A8C13E0D0</td>\n",
       "      <td>[ccm, religiousmusic, losangeles, christianroc...</td>\n",
       "    </tr>\n",
       "    <tr>\n",
       "      <th>4</th>\n",
       "      <td>ARL7K851187B99ACD2</td>\n",
       "      <td>SOMUYGI12AB0188633</td>\n",
       "      <td>[bachata, merengue, reggaeton, latinpop, spani...</td>\n",
       "    </tr>\n",
       "  </tbody>\n",
       "</table>\n",
       "</div>"
      ],
      "text/plain": [
       "            artist_id             song_id  \\\n",
       "0  ARMJAGH1187FB546F3  SOCIWDW12A8C13D406   \n",
       "1  ARXR32B1187FB57099  SOFSOCN12A8C143F5D   \n",
       "2  AR10USD1187B99F3F1  SOHKNRJ12A6701D1F8   \n",
       "3  ARC43071187B990240  SOKEJEJ12A8C13E0D0   \n",
       "4  ARL7K851187B99ACD2  SOMUYGI12AB0188633   \n",
       "\n",
       "                                        artist_terms  \n",
       "0  [blue-eyedsoul, poprock, blues-rock, beachmusi...  \n",
       "1  [poppunk, skapunk, breakcore, alternativemetal...  \n",
       "2  [post-hardcore, screamo, emo, hardcore, punkre...  \n",
       "3  [ccm, religiousmusic, losangeles, christianroc...  \n",
       "4  [bachata, merengue, reggaeton, latinpop, spani...  "
      ]
     },
     "execution_count": 99,
     "metadata": {},
     "output_type": "execute_result"
    }
   ],
   "source": [
    "songs_cleaned.head()"
   ]
  },
  {
   "cell_type": "code",
   "execution_count": 100,
   "id": "ebe6b599",
   "metadata": {
    "scrolled": true
   },
   "outputs": [
    {
     "name": "stdout",
     "output_type": "stream",
     "text": [
      "697064\n"
     ]
    },
    {
     "data": {
      "text/html": [
       "<div>\n",
       "<style scoped>\n",
       "    .dataframe tbody tr th:only-of-type {\n",
       "        vertical-align: middle;\n",
       "    }\n",
       "\n",
       "    .dataframe tbody tr th {\n",
       "        vertical-align: top;\n",
       "    }\n",
       "\n",
       "    .dataframe thead th {\n",
       "        text-align: right;\n",
       "    }\n",
       "</style>\n",
       "<table border=\"1\" class=\"dataframe\">\n",
       "  <thead>\n",
       "    <tr style=\"text-align: right;\">\n",
       "      <th></th>\n",
       "      <th>userID</th>\n",
       "      <th>songID</th>\n",
       "      <th>play_count</th>\n",
       "    </tr>\n",
       "  </thead>\n",
       "  <tbody>\n",
       "    <tr>\n",
       "      <th>0</th>\n",
       "      <td>b80344d063b5ccb3212f76538f3d9e43d87dca9e</td>\n",
       "      <td>SOWEZSI12A81C21CE6</td>\n",
       "      <td>1</td>\n",
       "    </tr>\n",
       "    <tr>\n",
       "      <th>1</th>\n",
       "      <td>4bd88bfb25263a75bbdd467e74018f4ae570e5df</td>\n",
       "      <td>SODCXXY12AB0187452</td>\n",
       "      <td>2</td>\n",
       "    </tr>\n",
       "    <tr>\n",
       "      <th>2</th>\n",
       "      <td>b64cdd1a0bd907e5e00b39e345194768e330d652</td>\n",
       "      <td>SOLXDDC12A6701FBFD</td>\n",
       "      <td>1</td>\n",
       "    </tr>\n",
       "    <tr>\n",
       "      <th>3</th>\n",
       "      <td>b64cdd1a0bd907e5e00b39e345194768e330d652</td>\n",
       "      <td>SONQBUB12A6D4F8ED0</td>\n",
       "      <td>2</td>\n",
       "    </tr>\n",
       "    <tr>\n",
       "      <th>4</th>\n",
       "      <td>5a905f000fc1ff3df7ca807d57edb608863db05d</td>\n",
       "      <td>SOFKTPP12A8C1385CA</td>\n",
       "      <td>1</td>\n",
       "    </tr>\n",
       "  </tbody>\n",
       "</table>\n",
       "</div>"
      ],
      "text/plain": [
       "                                     userID              songID  play_count\n",
       "0  b80344d063b5ccb3212f76538f3d9e43d87dca9e  SOWEZSI12A81C21CE6           1\n",
       "1  4bd88bfb25263a75bbdd467e74018f4ae570e5df  SODCXXY12AB0187452           2\n",
       "2  b64cdd1a0bd907e5e00b39e345194768e330d652  SOLXDDC12A6701FBFD           1\n",
       "3  b64cdd1a0bd907e5e00b39e345194768e330d652  SONQBUB12A6D4F8ED0           2\n",
       "4  5a905f000fc1ff3df7ca807d57edb608863db05d  SOFKTPP12A8C1385CA           1"
      ]
     },
     "execution_count": 100,
     "metadata": {},
     "output_type": "execute_result"
    }
   ],
   "source": [
    "with ZipFile('users_cleaned.zip', 'r') as zipfile:\n",
    "    data = zipfile.read('out.csv')\n",
    "\n",
    "users_cleaned = pd.read_csv(BytesIO(data))\n",
    "print(len(users_cleaned))\n",
    "users_cleaned.head()"
   ]
  },
  {
   "cell_type": "raw",
   "id": "30caf112",
   "metadata": {},
   "source": []
  },
  {
   "cell_type": "raw",
   "id": "06bc7cc5",
   "metadata": {},
   "source": []
  },
  {
   "cell_type": "code",
   "execution_count": 45,
   "id": "1b6810c5",
   "metadata": {
    "scrolled": true
   },
   "outputs": [
    {
     "data": {
      "text/html": [
       "<div>\n",
       "<style scoped>\n",
       "    .dataframe tbody tr th:only-of-type {\n",
       "        vertical-align: middle;\n",
       "    }\n",
       "\n",
       "    .dataframe tbody tr th {\n",
       "        vertical-align: top;\n",
       "    }\n",
       "\n",
       "    .dataframe thead th {\n",
       "        text-align: right;\n",
       "    }\n",
       "</style>\n",
       "<table border=\"1\" class=\"dataframe\">\n",
       "  <thead>\n",
       "    <tr style=\"text-align: right;\">\n",
       "      <th></th>\n",
       "      <th>song_id</th>\n",
       "      <th>artist_terms</th>\n",
       "    </tr>\n",
       "  </thead>\n",
       "  <tbody>\n",
       "    <tr>\n",
       "      <th>0</th>\n",
       "      <td>SOCIWDW12A8C13D406</td>\n",
       "      <td>[blue-eyedsoul, poprock, blues-rock, beachmusi...</td>\n",
       "    </tr>\n",
       "    <tr>\n",
       "      <th>1</th>\n",
       "      <td>SOFSOCN12A8C143F5D</td>\n",
       "      <td>[poppunk, skapunk, breakcore, alternativemetal...</td>\n",
       "    </tr>\n",
       "    <tr>\n",
       "      <th>2</th>\n",
       "      <td>SOHKNRJ12A6701D1F8</td>\n",
       "      <td>[post-hardcore, screamo, emo, hardcore, punkre...</td>\n",
       "    </tr>\n",
       "    <tr>\n",
       "      <th>3</th>\n",
       "      <td>SOKEJEJ12A8C13E0D0</td>\n",
       "      <td>[ccm, religiousmusic, losangeles, christianroc...</td>\n",
       "    </tr>\n",
       "    <tr>\n",
       "      <th>4</th>\n",
       "      <td>SOMUYGI12AB0188633</td>\n",
       "      <td>[bachata, merengue, reggaeton, latinpop, spani...</td>\n",
       "    </tr>\n",
       "    <tr>\n",
       "      <th>...</th>\n",
       "      <td>...</td>\n",
       "      <td>...</td>\n",
       "    </tr>\n",
       "    <tr>\n",
       "      <th>3190</th>\n",
       "      <td>SOILDRV12A8C13EB77</td>\n",
       "      <td>[nowave, experimentalrock, instrumentalrock, d...</td>\n",
       "    </tr>\n",
       "    <tr>\n",
       "      <th>3191</th>\n",
       "      <td>SOBUUYV12A58A7DA27</td>\n",
       "      <td>[celtic, futurejazz, downtempo, easylistening,...</td>\n",
       "    </tr>\n",
       "    <tr>\n",
       "      <th>3192</th>\n",
       "      <td>SOUWMIW12AB0184748</td>\n",
       "      <td>[bluegrass, classiccountry, countrygospel, cou...</td>\n",
       "    </tr>\n",
       "    <tr>\n",
       "      <th>3193</th>\n",
       "      <td>SOLXXPY12A67ADABA0</td>\n",
       "      <td>[symphoblackmetal, blackmetal, heavymetal, dea...</td>\n",
       "    </tr>\n",
       "    <tr>\n",
       "      <th>3194</th>\n",
       "      <td>SOFAOMI12A6D4FA2D8</td>\n",
       "      <td>[christianrock, christianalternativerock, chri...</td>\n",
       "    </tr>\n",
       "  </tbody>\n",
       "</table>\n",
       "<p>3195 rows × 2 columns</p>\n",
       "</div>"
      ],
      "text/plain": [
       "                 song_id                                       artist_terms\n",
       "0     SOCIWDW12A8C13D406  [blue-eyedsoul, poprock, blues-rock, beachmusi...\n",
       "1     SOFSOCN12A8C143F5D  [poppunk, skapunk, breakcore, alternativemetal...\n",
       "2     SOHKNRJ12A6701D1F8  [post-hardcore, screamo, emo, hardcore, punkre...\n",
       "3     SOKEJEJ12A8C13E0D0  [ccm, religiousmusic, losangeles, christianroc...\n",
       "4     SOMUYGI12AB0188633  [bachata, merengue, reggaeton, latinpop, spani...\n",
       "...                  ...                                                ...\n",
       "3190  SOILDRV12A8C13EB77  [nowave, experimentalrock, instrumentalrock, d...\n",
       "3191  SOBUUYV12A58A7DA27  [celtic, futurejazz, downtempo, easylistening,...\n",
       "3192  SOUWMIW12AB0184748  [bluegrass, classiccountry, countrygospel, cou...\n",
       "3193  SOLXXPY12A67ADABA0  [symphoblackmetal, blackmetal, heavymetal, dea...\n",
       "3194  SOFAOMI12A6D4FA2D8  [christianrock, christianalternativerock, chri...\n",
       "\n",
       "[3195 rows x 2 columns]"
      ]
     },
     "execution_count": 45,
     "metadata": {},
     "output_type": "execute_result"
    }
   ],
   "source": [
    "# Creating df with content terms for each songID\n",
    "df = pd.DataFrame(songs_cleaned, columns=['song_id','artist_terms'])\n",
    "df"
   ]
  },
  {
   "cell_type": "code",
   "execution_count": 46,
   "id": "8447f823",
   "metadata": {},
   "outputs": [],
   "source": [
    "# extracting the artist_terms\n",
    "all_terms = []\n",
    "for row in range(len(df)):\n",
    "    all_terms.append(df['artist_terms'][row])\n",
    "    \n",
    "all_terms = np.concatenate(all_terms)\n",
    "all_terms = list(set(all_terms))\n",
    "\n",
    "d = len(all_terms)"
   ]
  },
  {
   "cell_type": "code",
   "execution_count": 47,
   "id": "e715fbfe",
   "metadata": {},
   "outputs": [],
   "source": [
    "# Now, we intend to create a binary vector (length = d) that represents a song, \n",
    "# with 1s if the song has this term and 0s if it hasn't.\n",
    "\n",
    "def vectorize(song):\n",
    "\n",
    "    index = int(df.index[df['song_id'] == song][0])\n",
    "    vector = np.zeros(len(all_terms))\n",
    "\n",
    "    for i in range(len(vector)):\n",
    "        if all_terms[i] in df['artist_terms'][index]:\n",
    "            vector[i] = 1\n",
    "            \n",
    "    return vector\n"
   ]
  },
  {
   "cell_type": "code",
   "execution_count": 48,
   "id": "c019a69b",
   "metadata": {},
   "outputs": [],
   "source": [
    "# Vectorize ALL the songs and save it into a dictionary\n",
    "\n",
    "vector_representation = {}\n",
    "\n",
    "for song in df['song_id']:\n",
    "    vector_representation[song] = vectorize(song)\n",
    "    \n",
    "    \n",
    "#vector_representation # we end up with a dictionary of songs with their vector representation"
   ]
  },
  {
   "cell_type": "markdown",
   "id": "2a7d6081",
   "metadata": {},
   "source": [
    "In order to find the optimal number of clusters for the K means clustering we run two different methods : \n",
    "- The Elbow Method \n",
    "- The Silhouette Method \n",
    "\n",
    "Inspiration from: \n",
    "- https://blog.cambridgespark.com/how-to-determine-the-optimal-number-of-clusters-for-k-means-clustering-14f27070048f\n",
    "- https://medium.com/analytics-vidhya/how-to-determine-the-optimal-k-for-k-means-708505d204eb"
   ]
  },
  {
   "cell_type": "code",
   "execution_count": 49,
   "id": "d5126810",
   "metadata": {},
   "outputs": [
    {
     "data": {
      "text/html": [
       "<div>\n",
       "<style scoped>\n",
       "    .dataframe tbody tr th:only-of-type {\n",
       "        vertical-align: middle;\n",
       "    }\n",
       "\n",
       "    .dataframe tbody tr th {\n",
       "        vertical-align: top;\n",
       "    }\n",
       "\n",
       "    .dataframe thead th {\n",
       "        text-align: right;\n",
       "    }\n",
       "</style>\n",
       "<table border=\"1\" class=\"dataframe\">\n",
       "  <thead>\n",
       "    <tr style=\"text-align: right;\">\n",
       "      <th></th>\n",
       "      <th>0</th>\n",
       "      <th>1</th>\n",
       "      <th>2</th>\n",
       "      <th>3</th>\n",
       "      <th>4</th>\n",
       "      <th>5</th>\n",
       "      <th>6</th>\n",
       "      <th>7</th>\n",
       "      <th>8</th>\n",
       "      <th>9</th>\n",
       "      <th>...</th>\n",
       "      <th>2284</th>\n",
       "      <th>2285</th>\n",
       "      <th>2286</th>\n",
       "      <th>2287</th>\n",
       "      <th>2288</th>\n",
       "      <th>2289</th>\n",
       "      <th>2290</th>\n",
       "      <th>2291</th>\n",
       "      <th>2292</th>\n",
       "      <th>2293</th>\n",
       "    </tr>\n",
       "  </thead>\n",
       "  <tbody>\n",
       "    <tr>\n",
       "      <th>SOCIWDW12A8C13D406</th>\n",
       "      <td>0.0</td>\n",
       "      <td>0.0</td>\n",
       "      <td>0.0</td>\n",
       "      <td>0.0</td>\n",
       "      <td>0.0</td>\n",
       "      <td>0.0</td>\n",
       "      <td>0.0</td>\n",
       "      <td>0.0</td>\n",
       "      <td>0.0</td>\n",
       "      <td>0.0</td>\n",
       "      <td>...</td>\n",
       "      <td>0.0</td>\n",
       "      <td>0.0</td>\n",
       "      <td>0.0</td>\n",
       "      <td>0.0</td>\n",
       "      <td>0.0</td>\n",
       "      <td>0.0</td>\n",
       "      <td>0.0</td>\n",
       "      <td>0.0</td>\n",
       "      <td>0.0</td>\n",
       "      <td>0.0</td>\n",
       "    </tr>\n",
       "    <tr>\n",
       "      <th>SOFSOCN12A8C143F5D</th>\n",
       "      <td>0.0</td>\n",
       "      <td>0.0</td>\n",
       "      <td>0.0</td>\n",
       "      <td>0.0</td>\n",
       "      <td>0.0</td>\n",
       "      <td>0.0</td>\n",
       "      <td>0.0</td>\n",
       "      <td>0.0</td>\n",
       "      <td>0.0</td>\n",
       "      <td>0.0</td>\n",
       "      <td>...</td>\n",
       "      <td>0.0</td>\n",
       "      <td>0.0</td>\n",
       "      <td>0.0</td>\n",
       "      <td>0.0</td>\n",
       "      <td>0.0</td>\n",
       "      <td>0.0</td>\n",
       "      <td>0.0</td>\n",
       "      <td>0.0</td>\n",
       "      <td>0.0</td>\n",
       "      <td>0.0</td>\n",
       "    </tr>\n",
       "    <tr>\n",
       "      <th>SOHKNRJ12A6701D1F8</th>\n",
       "      <td>0.0</td>\n",
       "      <td>0.0</td>\n",
       "      <td>0.0</td>\n",
       "      <td>0.0</td>\n",
       "      <td>0.0</td>\n",
       "      <td>0.0</td>\n",
       "      <td>0.0</td>\n",
       "      <td>0.0</td>\n",
       "      <td>0.0</td>\n",
       "      <td>0.0</td>\n",
       "      <td>...</td>\n",
       "      <td>0.0</td>\n",
       "      <td>0.0</td>\n",
       "      <td>0.0</td>\n",
       "      <td>0.0</td>\n",
       "      <td>0.0</td>\n",
       "      <td>0.0</td>\n",
       "      <td>0.0</td>\n",
       "      <td>0.0</td>\n",
       "      <td>0.0</td>\n",
       "      <td>0.0</td>\n",
       "    </tr>\n",
       "    <tr>\n",
       "      <th>SOKEJEJ12A8C13E0D0</th>\n",
       "      <td>0.0</td>\n",
       "      <td>0.0</td>\n",
       "      <td>0.0</td>\n",
       "      <td>0.0</td>\n",
       "      <td>0.0</td>\n",
       "      <td>0.0</td>\n",
       "      <td>0.0</td>\n",
       "      <td>0.0</td>\n",
       "      <td>0.0</td>\n",
       "      <td>0.0</td>\n",
       "      <td>...</td>\n",
       "      <td>0.0</td>\n",
       "      <td>0.0</td>\n",
       "      <td>0.0</td>\n",
       "      <td>0.0</td>\n",
       "      <td>0.0</td>\n",
       "      <td>0.0</td>\n",
       "      <td>1.0</td>\n",
       "      <td>0.0</td>\n",
       "      <td>0.0</td>\n",
       "      <td>0.0</td>\n",
       "    </tr>\n",
       "    <tr>\n",
       "      <th>SOMUYGI12AB0188633</th>\n",
       "      <td>0.0</td>\n",
       "      <td>0.0</td>\n",
       "      <td>0.0</td>\n",
       "      <td>0.0</td>\n",
       "      <td>0.0</td>\n",
       "      <td>0.0</td>\n",
       "      <td>0.0</td>\n",
       "      <td>0.0</td>\n",
       "      <td>0.0</td>\n",
       "      <td>0.0</td>\n",
       "      <td>...</td>\n",
       "      <td>0.0</td>\n",
       "      <td>0.0</td>\n",
       "      <td>0.0</td>\n",
       "      <td>0.0</td>\n",
       "      <td>0.0</td>\n",
       "      <td>0.0</td>\n",
       "      <td>0.0</td>\n",
       "      <td>0.0</td>\n",
       "      <td>0.0</td>\n",
       "      <td>0.0</td>\n",
       "    </tr>\n",
       "    <tr>\n",
       "      <th>...</th>\n",
       "      <td>...</td>\n",
       "      <td>...</td>\n",
       "      <td>...</td>\n",
       "      <td>...</td>\n",
       "      <td>...</td>\n",
       "      <td>...</td>\n",
       "      <td>...</td>\n",
       "      <td>...</td>\n",
       "      <td>...</td>\n",
       "      <td>...</td>\n",
       "      <td>...</td>\n",
       "      <td>...</td>\n",
       "      <td>...</td>\n",
       "      <td>...</td>\n",
       "      <td>...</td>\n",
       "      <td>...</td>\n",
       "      <td>...</td>\n",
       "      <td>...</td>\n",
       "      <td>...</td>\n",
       "      <td>...</td>\n",
       "      <td>...</td>\n",
       "    </tr>\n",
       "    <tr>\n",
       "      <th>SOILDRV12A8C13EB77</th>\n",
       "      <td>0.0</td>\n",
       "      <td>0.0</td>\n",
       "      <td>0.0</td>\n",
       "      <td>0.0</td>\n",
       "      <td>0.0</td>\n",
       "      <td>0.0</td>\n",
       "      <td>0.0</td>\n",
       "      <td>0.0</td>\n",
       "      <td>0.0</td>\n",
       "      <td>0.0</td>\n",
       "      <td>...</td>\n",
       "      <td>0.0</td>\n",
       "      <td>0.0</td>\n",
       "      <td>0.0</td>\n",
       "      <td>0.0</td>\n",
       "      <td>0.0</td>\n",
       "      <td>0.0</td>\n",
       "      <td>0.0</td>\n",
       "      <td>0.0</td>\n",
       "      <td>0.0</td>\n",
       "      <td>0.0</td>\n",
       "    </tr>\n",
       "    <tr>\n",
       "      <th>SOBUUYV12A58A7DA27</th>\n",
       "      <td>0.0</td>\n",
       "      <td>0.0</td>\n",
       "      <td>0.0</td>\n",
       "      <td>0.0</td>\n",
       "      <td>0.0</td>\n",
       "      <td>0.0</td>\n",
       "      <td>0.0</td>\n",
       "      <td>0.0</td>\n",
       "      <td>0.0</td>\n",
       "      <td>0.0</td>\n",
       "      <td>...</td>\n",
       "      <td>0.0</td>\n",
       "      <td>0.0</td>\n",
       "      <td>0.0</td>\n",
       "      <td>0.0</td>\n",
       "      <td>0.0</td>\n",
       "      <td>0.0</td>\n",
       "      <td>0.0</td>\n",
       "      <td>0.0</td>\n",
       "      <td>0.0</td>\n",
       "      <td>0.0</td>\n",
       "    </tr>\n",
       "    <tr>\n",
       "      <th>SOUWMIW12AB0184748</th>\n",
       "      <td>0.0</td>\n",
       "      <td>0.0</td>\n",
       "      <td>0.0</td>\n",
       "      <td>0.0</td>\n",
       "      <td>0.0</td>\n",
       "      <td>0.0</td>\n",
       "      <td>0.0</td>\n",
       "      <td>0.0</td>\n",
       "      <td>0.0</td>\n",
       "      <td>0.0</td>\n",
       "      <td>...</td>\n",
       "      <td>0.0</td>\n",
       "      <td>0.0</td>\n",
       "      <td>0.0</td>\n",
       "      <td>0.0</td>\n",
       "      <td>0.0</td>\n",
       "      <td>0.0</td>\n",
       "      <td>0.0</td>\n",
       "      <td>0.0</td>\n",
       "      <td>0.0</td>\n",
       "      <td>0.0</td>\n",
       "    </tr>\n",
       "    <tr>\n",
       "      <th>SOLXXPY12A67ADABA0</th>\n",
       "      <td>0.0</td>\n",
       "      <td>0.0</td>\n",
       "      <td>0.0</td>\n",
       "      <td>0.0</td>\n",
       "      <td>0.0</td>\n",
       "      <td>0.0</td>\n",
       "      <td>0.0</td>\n",
       "      <td>0.0</td>\n",
       "      <td>0.0</td>\n",
       "      <td>0.0</td>\n",
       "      <td>...</td>\n",
       "      <td>0.0</td>\n",
       "      <td>0.0</td>\n",
       "      <td>0.0</td>\n",
       "      <td>0.0</td>\n",
       "      <td>0.0</td>\n",
       "      <td>0.0</td>\n",
       "      <td>0.0</td>\n",
       "      <td>0.0</td>\n",
       "      <td>0.0</td>\n",
       "      <td>0.0</td>\n",
       "    </tr>\n",
       "    <tr>\n",
       "      <th>SOFAOMI12A6D4FA2D8</th>\n",
       "      <td>0.0</td>\n",
       "      <td>0.0</td>\n",
       "      <td>0.0</td>\n",
       "      <td>0.0</td>\n",
       "      <td>0.0</td>\n",
       "      <td>1.0</td>\n",
       "      <td>0.0</td>\n",
       "      <td>0.0</td>\n",
       "      <td>0.0</td>\n",
       "      <td>0.0</td>\n",
       "      <td>...</td>\n",
       "      <td>0.0</td>\n",
       "      <td>0.0</td>\n",
       "      <td>0.0</td>\n",
       "      <td>0.0</td>\n",
       "      <td>0.0</td>\n",
       "      <td>0.0</td>\n",
       "      <td>1.0</td>\n",
       "      <td>0.0</td>\n",
       "      <td>0.0</td>\n",
       "      <td>0.0</td>\n",
       "    </tr>\n",
       "  </tbody>\n",
       "</table>\n",
       "<p>3195 rows × 2294 columns</p>\n",
       "</div>"
      ],
      "text/plain": [
       "                    0     1     2     3     4     5     6     7     8     \\\n",
       "SOCIWDW12A8C13D406   0.0   0.0   0.0   0.0   0.0   0.0   0.0   0.0   0.0   \n",
       "SOFSOCN12A8C143F5D   0.0   0.0   0.0   0.0   0.0   0.0   0.0   0.0   0.0   \n",
       "SOHKNRJ12A6701D1F8   0.0   0.0   0.0   0.0   0.0   0.0   0.0   0.0   0.0   \n",
       "SOKEJEJ12A8C13E0D0   0.0   0.0   0.0   0.0   0.0   0.0   0.0   0.0   0.0   \n",
       "SOMUYGI12AB0188633   0.0   0.0   0.0   0.0   0.0   0.0   0.0   0.0   0.0   \n",
       "...                  ...   ...   ...   ...   ...   ...   ...   ...   ...   \n",
       "SOILDRV12A8C13EB77   0.0   0.0   0.0   0.0   0.0   0.0   0.0   0.0   0.0   \n",
       "SOBUUYV12A58A7DA27   0.0   0.0   0.0   0.0   0.0   0.0   0.0   0.0   0.0   \n",
       "SOUWMIW12AB0184748   0.0   0.0   0.0   0.0   0.0   0.0   0.0   0.0   0.0   \n",
       "SOLXXPY12A67ADABA0   0.0   0.0   0.0   0.0   0.0   0.0   0.0   0.0   0.0   \n",
       "SOFAOMI12A6D4FA2D8   0.0   0.0   0.0   0.0   0.0   1.0   0.0   0.0   0.0   \n",
       "\n",
       "                    9     ...  2284  2285  2286  2287  2288  2289  2290  2291  \\\n",
       "SOCIWDW12A8C13D406   0.0  ...   0.0   0.0   0.0   0.0   0.0   0.0   0.0   0.0   \n",
       "SOFSOCN12A8C143F5D   0.0  ...   0.0   0.0   0.0   0.0   0.0   0.0   0.0   0.0   \n",
       "SOHKNRJ12A6701D1F8   0.0  ...   0.0   0.0   0.0   0.0   0.0   0.0   0.0   0.0   \n",
       "SOKEJEJ12A8C13E0D0   0.0  ...   0.0   0.0   0.0   0.0   0.0   0.0   1.0   0.0   \n",
       "SOMUYGI12AB0188633   0.0  ...   0.0   0.0   0.0   0.0   0.0   0.0   0.0   0.0   \n",
       "...                  ...  ...   ...   ...   ...   ...   ...   ...   ...   ...   \n",
       "SOILDRV12A8C13EB77   0.0  ...   0.0   0.0   0.0   0.0   0.0   0.0   0.0   0.0   \n",
       "SOBUUYV12A58A7DA27   0.0  ...   0.0   0.0   0.0   0.0   0.0   0.0   0.0   0.0   \n",
       "SOUWMIW12AB0184748   0.0  ...   0.0   0.0   0.0   0.0   0.0   0.0   0.0   0.0   \n",
       "SOLXXPY12A67ADABA0   0.0  ...   0.0   0.0   0.0   0.0   0.0   0.0   0.0   0.0   \n",
       "SOFAOMI12A6D4FA2D8   0.0  ...   0.0   0.0   0.0   0.0   0.0   0.0   1.0   0.0   \n",
       "\n",
       "                    2292  2293  \n",
       "SOCIWDW12A8C13D406   0.0   0.0  \n",
       "SOFSOCN12A8C143F5D   0.0   0.0  \n",
       "SOHKNRJ12A6701D1F8   0.0   0.0  \n",
       "SOKEJEJ12A8C13E0D0   0.0   0.0  \n",
       "SOMUYGI12AB0188633   0.0   0.0  \n",
       "...                  ...   ...  \n",
       "SOILDRV12A8C13EB77   0.0   0.0  \n",
       "SOBUUYV12A58A7DA27   0.0   0.0  \n",
       "SOUWMIW12AB0184748   0.0   0.0  \n",
       "SOLXXPY12A67ADABA0   0.0   0.0  \n",
       "SOFAOMI12A6D4FA2D8   0.0   0.0  \n",
       "\n",
       "[3195 rows x 2294 columns]"
      ]
     },
     "execution_count": 49,
     "metadata": {},
     "output_type": "execute_result"
    }
   ],
   "source": [
    "# create a  dataframe of the vector representation of the song attributes\n",
    "df = pd.DataFrame.from_dict(vector_representation,orient='index')\n",
    "df"
   ]
  },
  {
   "cell_type": "code",
   "execution_count": 12,
   "id": "02c0f29c",
   "metadata": {},
   "outputs": [],
   "source": [
    "# Maximum number of clusters that we want to investigate in the Elbow method and the Silhuette method:\n",
    "kmax = 50\n",
    "K = range(1,kmax)"
   ]
  },
  {
   "cell_type": "code",
   "execution_count": 14,
   "id": "f98968fb",
   "metadata": {},
   "outputs": [
    {
     "name": "stdout",
     "output_type": "stream",
     "text": [
      "1,2,3,4,5,6,7,8,9,10,11,12,13,14,15,16,17,18,19,20,21,22,23,24,25,26,27,28,29,30,31,32,33,34,35,36,37,38,39,40,41,42,43,44,45,46,47,48,49,"
     ]
    }
   ],
   "source": [
    "# Elbow Method\n",
    "Sum_of_squared_distances = []\n",
    "for k in K:\n",
    "    print(k, end=\",\")\n",
    "    km = KMeans(n_clusters=k)\n",
    "    km = km.fit(df)\n",
    "    Sum_of_squared_distances.append(km.inertia_)"
   ]
  },
  {
   "cell_type": "code",
   "execution_count": 15,
   "id": "21020d22",
   "metadata": {},
   "outputs": [
    {
     "data": {
      "image/png": "[encoded data removed]",
      "text/plain": [
       "<Figure size 432x288 with 1 Axes>"
      ]
     },
     "metadata": {
      "needs_background": "light"
     },
     "output_type": "display_data"
    }
   ],
   "source": [
    "plt.plot(K, Sum_of_squared_distances, 'bx-')\n",
    "plt.xlabel('k')\n",
    "plt.ylabel('Sum_of_squared_distances')\n",
    "plt.title('Elbow Method For Optimal k')\n",
    "plt.show()"
   ]
  },
  {
   "cell_type": "code",
   "execution_count": 16,
   "id": "b4eb0f55",
   "metadata": {},
   "outputs": [
    {
     "name": "stdout",
     "output_type": "stream",
     "text": [
      "2,3,4,5,6,7,8,9,10,11,12,13,14,15,16,17,18,19,20,21,22,23,24,25,26,27,28,29,30,31,32,33,34,35,36,37,38,39,40,41,42,43,44,45,46,47,48,49,50,"
     ]
    }
   ],
   "source": [
    "# Silhouette Method\n",
    "sil = []\n",
    "for k in range(2, kmax+1):\n",
    "    print(k, end=\",\")\n",
    "    kmeans = KMeans(n_clusters = k).fit(df.to_numpy())\n",
    "    labels = kmeans.labels_\n",
    "    sil.append(silhouette_score(df.to_numpy(), labels, metric = 'euclidean'))"
   ]
  },
  {
   "cell_type": "code",
   "execution_count": 17,
   "id": "eb9d7aa4",
   "metadata": {},
   "outputs": [
    {
     "data": {
      "image/png": "[encoded data removed]",
      "text/plain": [
       "<Figure size 432x288 with 1 Axes>"
      ]
     },
     "metadata": {
      "needs_background": "light"
     },
     "output_type": "display_data"
    }
   ],
   "source": [
    "plt.plot(K,sil)\n",
    "plt.xlabel('k')\n",
    "plt.ylabel('Similarity')\n",
    "plt.title('Silhouette Method For Optimal k')\n",
    "plt.show()"
   ]
  },
  {
   "cell_type": "markdown",
   "id": "a78f480e",
   "metadata": {},
   "source": [
    "The elbow method never convergers towards a specific sum of sq distance, meaning that clustering of this data does not help in identifying the value of the attributes. Looking at the data set with 3500 columns and only 10000 rows this makes sense. In order to simplify and improve the clustering we will clean the data in order to make a better recommendation system. "
   ]
  },
  {
   "cell_type": "code",
   "execution_count": 23,
   "id": "ded3fa2c",
   "metadata": {},
   "outputs": [
    {
     "name": "stdout",
     "output_type": "stream",
     "text": [
      "Number of terms that appear less than a 50 times are = 1967\n"
     ]
    },
    {
     "data": {
      "image/png": "[encoded data removed]",
      "text/plain": [
       "<Figure size 432x288 with 1 Axes>"
      ]
     },
     "metadata": {
      "needs_background": "light"
     },
     "output_type": "display_data"
    },
    {
     "data": {
      "text/html": [
       "<div>\n",
       "<style scoped>\n",
       "    .dataframe tbody tr th:only-of-type {\n",
       "        vertical-align: middle;\n",
       "    }\n",
       "\n",
       "    .dataframe tbody tr th {\n",
       "        vertical-align: top;\n",
       "    }\n",
       "\n",
       "    .dataframe thead th {\n",
       "        text-align: right;\n",
       "    }\n",
       "</style>\n",
       "<table border=\"1\" class=\"dataframe\">\n",
       "  <thead>\n",
       "    <tr style=\"text-align: right;\">\n",
       "      <th></th>\n",
       "      <th>10</th>\n",
       "      <th>12</th>\n",
       "      <th>26</th>\n",
       "      <th>32</th>\n",
       "      <th>42</th>\n",
       "      <th>46</th>\n",
       "      <th>48</th>\n",
       "      <th>56</th>\n",
       "      <th>59</th>\n",
       "      <th>71</th>\n",
       "      <th>...</th>\n",
       "      <th>2235</th>\n",
       "      <th>2238</th>\n",
       "      <th>2250</th>\n",
       "      <th>2260</th>\n",
       "      <th>2275</th>\n",
       "      <th>2280</th>\n",
       "      <th>2282</th>\n",
       "      <th>2284</th>\n",
       "      <th>2287</th>\n",
       "      <th>2290</th>\n",
       "    </tr>\n",
       "  </thead>\n",
       "  <tbody>\n",
       "    <tr>\n",
       "      <th>SOCIWDW12A8C13D406</th>\n",
       "      <td>0.0</td>\n",
       "      <td>0.0</td>\n",
       "      <td>1.0</td>\n",
       "      <td>0.0</td>\n",
       "      <td>0.0</td>\n",
       "      <td>0.0</td>\n",
       "      <td>0.0</td>\n",
       "      <td>0.0</td>\n",
       "      <td>0.0</td>\n",
       "      <td>0.0</td>\n",
       "      <td>...</td>\n",
       "      <td>0.0</td>\n",
       "      <td>0.0</td>\n",
       "      <td>0.0</td>\n",
       "      <td>0.0</td>\n",
       "      <td>0.0</td>\n",
       "      <td>0.0</td>\n",
       "      <td>1.0</td>\n",
       "      <td>0.0</td>\n",
       "      <td>0.0</td>\n",
       "      <td>0.0</td>\n",
       "    </tr>\n",
       "    <tr>\n",
       "      <th>SOFSOCN12A8C143F5D</th>\n",
       "      <td>0.0</td>\n",
       "      <td>0.0</td>\n",
       "      <td>0.0</td>\n",
       "      <td>0.0</td>\n",
       "      <td>0.0</td>\n",
       "      <td>1.0</td>\n",
       "      <td>0.0</td>\n",
       "      <td>0.0</td>\n",
       "      <td>0.0</td>\n",
       "      <td>0.0</td>\n",
       "      <td>...</td>\n",
       "      <td>0.0</td>\n",
       "      <td>0.0</td>\n",
       "      <td>0.0</td>\n",
       "      <td>0.0</td>\n",
       "      <td>0.0</td>\n",
       "      <td>0.0</td>\n",
       "      <td>0.0</td>\n",
       "      <td>0.0</td>\n",
       "      <td>0.0</td>\n",
       "      <td>0.0</td>\n",
       "    </tr>\n",
       "    <tr>\n",
       "      <th>SOHKNRJ12A6701D1F8</th>\n",
       "      <td>0.0</td>\n",
       "      <td>0.0</td>\n",
       "      <td>0.0</td>\n",
       "      <td>0.0</td>\n",
       "      <td>0.0</td>\n",
       "      <td>0.0</td>\n",
       "      <td>0.0</td>\n",
       "      <td>0.0</td>\n",
       "      <td>0.0</td>\n",
       "      <td>0.0</td>\n",
       "      <td>...</td>\n",
       "      <td>0.0</td>\n",
       "      <td>0.0</td>\n",
       "      <td>0.0</td>\n",
       "      <td>0.0</td>\n",
       "      <td>0.0</td>\n",
       "      <td>0.0</td>\n",
       "      <td>0.0</td>\n",
       "      <td>0.0</td>\n",
       "      <td>0.0</td>\n",
       "      <td>0.0</td>\n",
       "    </tr>\n",
       "    <tr>\n",
       "      <th>SOKEJEJ12A8C13E0D0</th>\n",
       "      <td>0.0</td>\n",
       "      <td>0.0</td>\n",
       "      <td>0.0</td>\n",
       "      <td>0.0</td>\n",
       "      <td>0.0</td>\n",
       "      <td>0.0</td>\n",
       "      <td>0.0</td>\n",
       "      <td>0.0</td>\n",
       "      <td>0.0</td>\n",
       "      <td>0.0</td>\n",
       "      <td>...</td>\n",
       "      <td>0.0</td>\n",
       "      <td>0.0</td>\n",
       "      <td>0.0</td>\n",
       "      <td>0.0</td>\n",
       "      <td>0.0</td>\n",
       "      <td>0.0</td>\n",
       "      <td>0.0</td>\n",
       "      <td>0.0</td>\n",
       "      <td>0.0</td>\n",
       "      <td>0.0</td>\n",
       "    </tr>\n",
       "    <tr>\n",
       "      <th>SOMUYGI12AB0188633</th>\n",
       "      <td>0.0</td>\n",
       "      <td>0.0</td>\n",
       "      <td>0.0</td>\n",
       "      <td>0.0</td>\n",
       "      <td>0.0</td>\n",
       "      <td>0.0</td>\n",
       "      <td>0.0</td>\n",
       "      <td>0.0</td>\n",
       "      <td>0.0</td>\n",
       "      <td>0.0</td>\n",
       "      <td>...</td>\n",
       "      <td>0.0</td>\n",
       "      <td>0.0</td>\n",
       "      <td>0.0</td>\n",
       "      <td>0.0</td>\n",
       "      <td>0.0</td>\n",
       "      <td>0.0</td>\n",
       "      <td>0.0</td>\n",
       "      <td>0.0</td>\n",
       "      <td>0.0</td>\n",
       "      <td>0.0</td>\n",
       "    </tr>\n",
       "  </tbody>\n",
       "</table>\n",
       "<p>5 rows × 333 columns</p>\n",
       "</div>"
      ],
      "text/plain": [
       "                    10    12    26    32    42    46    48    56    59    \\\n",
       "SOCIWDW12A8C13D406   0.0   0.0   1.0   0.0   0.0   0.0   0.0   0.0   0.0   \n",
       "SOFSOCN12A8C143F5D   0.0   0.0   0.0   0.0   0.0   1.0   0.0   0.0   0.0   \n",
       "SOHKNRJ12A6701D1F8   0.0   0.0   0.0   0.0   0.0   0.0   0.0   0.0   0.0   \n",
       "SOKEJEJ12A8C13E0D0   0.0   0.0   0.0   0.0   0.0   0.0   0.0   0.0   0.0   \n",
       "SOMUYGI12AB0188633   0.0   0.0   0.0   0.0   0.0   0.0   0.0   0.0   0.0   \n",
       "\n",
       "                    71    ...  2235  2238  2250  2260  2275  2280  2282  2284  \\\n",
       "SOCIWDW12A8C13D406   0.0  ...   0.0   0.0   0.0   0.0   0.0   0.0   1.0   0.0   \n",
       "SOFSOCN12A8C143F5D   0.0  ...   0.0   0.0   0.0   0.0   0.0   0.0   0.0   0.0   \n",
       "SOHKNRJ12A6701D1F8   0.0  ...   0.0   0.0   0.0   0.0   0.0   0.0   0.0   0.0   \n",
       "SOKEJEJ12A8C13E0D0   0.0  ...   0.0   0.0   0.0   0.0   0.0   0.0   0.0   0.0   \n",
       "SOMUYGI12AB0188633   0.0  ...   0.0   0.0   0.0   0.0   0.0   0.0   0.0   0.0   \n",
       "\n",
       "                    2287  2290  \n",
       "SOCIWDW12A8C13D406   0.0   0.0  \n",
       "SOFSOCN12A8C143F5D   0.0   0.0  \n",
       "SOHKNRJ12A6701D1F8   0.0   0.0  \n",
       "SOKEJEJ12A8C13E0D0   0.0   0.0  \n",
       "SOMUYGI12AB0188633   0.0   0.0  \n",
       "\n",
       "[5 rows x 333 columns]"
      ]
     },
     "execution_count": 23,
     "metadata": {},
     "output_type": "execute_result"
    }
   ],
   "source": [
    "# cleaning infrequent features:\n",
    "a = 50\n",
    "print(\"Number of terms that appear less than a\", a, \"times are =\",sum(df.sum() <= a))\n",
    "test = df.sum().sort_values()\n",
    "plt.hist(test, bins=100)\n",
    "plt.show()\n",
    "\n",
    "# These infequently used terms will be sorted out in order to simplify the clustering and to improve the recommendation system\n",
    "df_subset = df.loc[:,df.sum() >= a]\n",
    "df_subset.head()\n",
    "# other options for cleaning the data:\n",
    "# - outlier detection\n",
    "# - correlations of attributes can create bias and could be removed"
   ]
  },
  {
   "cell_type": "code",
   "execution_count": 24,
   "id": "545758c3",
   "metadata": {},
   "outputs": [],
   "source": [
    "kmax=50\n",
    "K = range(1,kmax)"
   ]
  },
  {
   "cell_type": "code",
   "execution_count": 25,
   "id": "0316c43a",
   "metadata": {},
   "outputs": [
    {
     "name": "stdout",
     "output_type": "stream",
     "text": [
      "1,2,3,4,5,6,7,8,9,10,11,12,13,14,15,16,17,18,19,20,21,22,23,24,25,26,27,28,29,30,31,32,33,34,35,36,37,38,39,40,41,42,43,44,45,46,47,48,49,"
     ]
    }
   ],
   "source": [
    "Sum_of_squared_distances = []\n",
    "for k in K:\n",
    "    print(k, end=\",\")\n",
    "    km = KMeans(n_clusters=k)\n",
    "    km = km.fit(df_subset)\n",
    "    Sum_of_squared_distances.append(km.inertia_)"
   ]
  },
  {
   "cell_type": "code",
   "execution_count": 26,
   "id": "8b62171f",
   "metadata": {},
   "outputs": [
    {
     "data": {
      "image/png": "[encoded data removed]",
      "text/plain": [
       "<Figure size 432x288 with 1 Axes>"
      ]
     },
     "metadata": {
      "needs_background": "light"
     },
     "output_type": "display_data"
    }
   ],
   "source": [
    "plt.plot(K, Sum_of_squared_distances, 'bx-')\n",
    "plt.xlabel('k')\n",
    "plt.ylabel('Sum_of_squared_distances')\n",
    "plt.title('Elbow Method For Optimal k')\n",
    "plt.show()"
   ]
  },
  {
   "cell_type": "code",
   "execution_count": 27,
   "id": "a86753ed",
   "metadata": {},
   "outputs": [
    {
     "name": "stdout",
     "output_type": "stream",
     "text": [
      "2,3,4,5,6,7,8,9,10,11,12,13,14,15,16,17,18,19,20,21,22,23,24,25,26,27,28,29,30,31,32,33,34,35,36,37,38,39,40,41,42,43,44,45,46,47,48,49,50,"
     ]
    }
   ],
   "source": [
    "sil = []\n",
    "\n",
    "# dissimilarity would not be defined for a single cluster, thus, minimum number of clusters should be 2\n",
    "for k in range(2, kmax+1):\n",
    "    print(k, end=\",\")\n",
    "    kmeans = KMeans(n_clusters = k).fit(df_subset.to_numpy())\n",
    "    labels = kmeans.labels_\n",
    "    sil.append(silhouette_score(df.to_numpy(), labels, metric = 'euclidean'))"
   ]
  },
  {
   "cell_type": "code",
   "execution_count": 30,
   "id": "29a9ac7b",
   "metadata": {},
   "outputs": [
    {
     "data": {
      "image/png": "[encoded data removed]",
      "text/plain": [
       "<Figure size 432x288 with 1 Axes>"
      ]
     },
     "metadata": {
      "needs_background": "light"
     },
     "output_type": "display_data"
    }
   ],
   "source": [
    "plt.plot(K,sil,\"bx-\")\n",
    "plt.xlabel('k')\n",
    "plt.ylabel('Similarity')\n",
    "plt.title('Silhouette Method For Optimal k')\n",
    "plt.show()"
   ]
  },
  {
   "cell_type": "markdown",
   "id": "4cd21578",
   "metadata": {},
   "source": [
    "We see that according to the Elbow method still does not converge towards any optimal K, but according to the Silhouette method we see a slight peak around 46 as a local maximum. There might be better solutions for optimal K larger than 50, but the computation and time-scope limitations resulted in us choosing 46 as the number of clusters. \n",
    "Cleaning the infrequent items helped, especially in the silhouette method, to create a more define graph.\n",
    "Now that the optimal number of clusters have been found we will continue with the k-means cluster analysis."
   ]
  },
  {
   "cell_type": "code",
   "execution_count": 106,
   "id": "0e54e270",
   "metadata": {},
   "outputs": [],
   "source": [
    "optimal_k = 46"
   ]
  },
  {
   "cell_type": "code",
   "execution_count": 107,
   "id": "381b221a",
   "metadata": {},
   "outputs": [],
   "source": [
    "# K-means clustering\n",
    "kmeans = KMeans(n_clusters=optimal_k).fit(df_subset)\n",
    "centroids = kmeans.cluster_centers_"
   ]
  },
  {
   "cell_type": "markdown",
   "id": "ced823dd",
   "metadata": {},
   "source": [
    "We have now found our cluster centroids and saved these. In order to create recommendations for users we need to categorize the songs and have the list of relevant songs ready in order to create fast recommendations. Euclidean distance was chosen as the similarity measure and the purpose is find the cluster centroid closest to song and "
   ]
  },
  {
   "cell_type": "code",
   "execution_count": 139,
   "id": "783beed8",
   "metadata": {},
   "outputs": [],
   "source": [
    "# Euclidean distance \n",
    "def euclidean_distance(a, b):\n",
    "    dist = np.linalg.norm(a-b)\n",
    "    return dist"
   ]
  },
  {
   "cell_type": "code",
   "execution_count": 140,
   "id": "7803d1b7",
   "metadata": {},
   "outputs": [],
   "source": [
    "# Creating df with each song\n",
    "# Similarities matrix\n",
    "similarities = np.zeros((len(df_subset),len(centroids)))\n",
    "i = 0\n",
    "for song in df_subset.index:\n",
    "    j = 0\n",
    "    for centroid in range(1,optimal_k):\n",
    "        dist = euclidean_distance(df_subset.loc[song].to_numpy(),centroids[centroid])\n",
    "        similarities[i,j] = dist\n",
    "        j += 1\n",
    "    i += 1"
   ]
  },
  {
   "cell_type": "code",
   "execution_count": 141,
   "id": "cb6b2951",
   "metadata": {},
   "outputs": [
    {
     "data": {
      "text/plain": [
       "array([[5.54369411, 5.7340541 , 5.84383974, ..., 5.23533482, 5.68773046,\n",
       "        0.        ],\n",
       "       [6.1589402 , 5.74206674, 4.6530058 , ..., 5.79555916, 5.74603728,\n",
       "        0.        ],\n",
       "       [4.47835029, 3.95158305, 4.60198226, ..., 3.39206559, 4.30700334,\n",
       "        0.        ],\n",
       "       ...,\n",
       "       [3.88015738, 3.47653174, 4.59291927, ..., 2.19731798, 3.9391553 ,\n",
       "        0.        ],\n",
       "       [5.65497111, 5.32992608, 6.05396258, ..., 4.90017621, 5.33700395,\n",
       "        0.        ],\n",
       "       [5.3430262 , 5.18453242, 4.70937796, ..., 4.54693834, 5.31823383,\n",
       "        0.        ]])"
      ]
     },
     "execution_count": 141,
     "metadata": {},
     "output_type": "execute_result"
    }
   ],
   "source": [
    "similarities"
   ]
  },
  {
   "cell_type": "code",
   "execution_count": 187,
   "id": "a64a738f",
   "metadata": {},
   "outputs": [],
   "source": [
    "# Creating df with each song and what specific cluster the song belongs to\n",
    "cluster_matrix = np.zeros((len(df_subset),len(centroids)))\n",
    "i = 0\n",
    "for song in df_subset.index:\n",
    "    #print(song)\n",
    "    min_dist = 999999\n",
    "    closest_centroid = -1\n",
    "    for centroid_no in range(0,optimal_k):\n",
    "        dist = euclidean_distance(df_subset.loc[song],centroids[centroid_no])\n",
    "        #print(centroid_no, dist)\n",
    "        if dist < min_dist:\n",
    "            #print(\"min_dist update to\",dist)\n",
    "            min_dist = dist\n",
    "            closest_centroid = centroid_no\n",
    "    cluster_matrix[i,closest_centroid] = 1\n",
    "    i += 1"
   ]
  },
  {
   "cell_type": "code",
   "execution_count": 188,
   "id": "d55ff9e9",
   "metadata": {},
   "outputs": [
    {
     "data": {
      "text/plain": [
       "3195.0"
      ]
     },
     "execution_count": 188,
     "metadata": {},
     "output_type": "execute_result"
    }
   ],
   "source": [
    "cluster_df = pd.DataFrame(cluster_matrix, columns = range(0,optimal_k), index = df_subset.index)\n",
    "cluster_df.sum().sum()"
   ]
  },
  {
   "cell_type": "markdown",
   "id": "63bf8eae",
   "metadata": {},
   "source": [
    "### Recommendations based on Clustering\n",
    "We are going to base a recommendation system in the similatiry of the centroid of each cluster with the user profile. In this way we would recommend songs that are similar in taste with the users without measuring similarity between every song and the user profile. Thus simplifying the computations.  "
   ]
  },
  {
   "cell_type": "code",
   "execution_count": 115,
   "id": "03153e2a",
   "metadata": {},
   "outputs": [
    {
     "data": {
      "text/plain": [
       "array([0., 0., 0., ..., 0., 0., 0.])"
      ]
     },
     "execution_count": 115,
     "metadata": {},
     "output_type": "execute_result"
    }
   ],
   "source": [
    "# Get user profile for all users\n",
    "\n",
    "def getUserProfile(user):\n",
    "\n",
    "    song_counts = list(user_plays[user_plays['userID'] == user]['play_count'])\n",
    "    song_list = list(user_plays[user_plays['userID'] == user]['songID'])\n",
    "\n",
    "\n",
    "    # Check if the user songs are in the song dataset and get the indices of the songs\n",
    "    indices = []\n",
    "    for song in song_list:\n",
    "        if song in list(df_songs['song_id']):\n",
    "            indices.append(song_list.index(song))\n",
    "        else:\n",
    "            continue\n",
    "\n",
    "\n",
    "    # Get the User profile (i.e. Compute the (weighted) average of the songs of a user)\n",
    "    a = [song_counts[i] for i in indices]\n",
    "    b = [vector_representation[song_list[i]] for i in indices]\n",
    "\n",
    "    numerator = np.zeros(d)\n",
    "    for i in range(len(a)):\n",
    "        numerator = numerator + ( a[i] * np.asarray(b[i]) )\n",
    "\n",
    "    user_profile = numerator / sum(a)\n",
    "    return user_profile\n",
    "\n",
    "user = '5a905f000fc1ff3df7ca807d57edb608863db05d'\n",
    "user_profile = getUserProfile(user)\n",
    "user_profile"
   ]
  },
  {
   "cell_type": "code",
   "execution_count": 135,
   "id": "93e219bf",
   "metadata": {},
   "outputs": [],
   "source": [
    "# find relevant subset based on prvious cleaning\n",
    "user_profile_subset = user_profile[df_subset.columns]"
   ]
  },
  {
   "cell_type": "markdown",
   "id": "4e7f94a9",
   "metadata": {},
   "source": [
    "Now when we have an example of a user profile we find the cluster that this user profile is closest related to. Based on that we can find a playlist of songs within the same cluster and this could be a first recommendation for the user."
   ]
  },
  {
   "cell_type": "code",
   "execution_count": 218,
   "id": "7385dc47",
   "metadata": {},
   "outputs": [
    {
     "data": {
      "text/plain": [
       "23"
      ]
     },
     "execution_count": 218,
     "metadata": {},
     "output_type": "execute_result"
    }
   ],
   "source": [
    "# finding closest cluster centroid to the user profile\n",
    "min_dist = 99999\n",
    "user_closest_centroid = -1\n",
    "for centroid_no in range(0,optimal_k):\n",
    "    dist = euclidean_distance(user_profile_subset,centroids[centroid_no])\n",
    "    if dist < min_dist:\n",
    "        min_dist = dist\n",
    "        user_closest_centroid = centroid_no\n",
    "user_closest_centroid"
   ]
  },
  {
   "cell_type": "code",
   "execution_count": 194,
   "id": "e8fa7c8a",
   "metadata": {},
   "outputs": [
    {
     "name": "stdout",
     "output_type": "stream",
     "text": [
      "Index(['SOVXMTN12A8C135A18', 'SOTUNMH12A6D4FA3E6', 'SOJEVZW12A8C133988',\n",
      "       'SOFSKON12A8C13B3B5', 'SOFRROW12A6701CBEA', 'SORERTC12A8AE454B3',\n",
      "       'SOAECHX12A6D4FC3D9', 'SOITFPA12A670201C6', 'SOBUIHY12A6D4F5D1B',\n",
      "       'SOKBTBD12A6D4FA3C6',\n",
      "       ...\n",
      "       'SOHHJYE12A8AE47599', 'SORUEDG12A8C13CFEF', 'SOCWZCV12A58A7AB87',\n",
      "       'SOTMVUQ12A6BD53721', 'SOFHZSP12A58A79004', 'SOJNQAS12A8C134963',\n",
      "       'SOKFFSS12A8C1316E3', 'SOEILXI12AB017CBA6', 'SOFRBZI12AB0186AE8',\n",
      "       'SOILDRV12A8C13EB77'],\n",
      "      dtype='object', length=115)\n"
     ]
    }
   ],
   "source": [
    "# Finding recommended playlist for user:\n",
    "recommended_playlist = cluster_df.index[cluster_df[23] == 1]\n",
    "print(recommended_playlist)"
   ]
  },
  {
   "cell_type": "markdown",
   "id": "c09ec470",
   "metadata": {},
   "source": [
    "If we want to speficify the next 10 songs for the user we need to find the closest song to the user profile within in the cluster."
   ]
  },
  {
   "cell_type": "code",
   "execution_count": 230,
   "id": "2d000878",
   "metadata": {},
   "outputs": [],
   "source": [
    "# list of terms for songs in cluster\n",
    "# user profile\n",
    "\n",
    "score_dict = {}\n",
    "\n",
    "for song in recommended_playlist:\n",
    "    #print(\"song:\",song)\n",
    "    song_vector = df_subset[df_subset.index == song].to_numpy()\n",
    "    score_dict[song] = euclidean_distance(user_profile_subset,song_vector)\n"
   ]
  },
  {
   "cell_type": "code",
   "execution_count": 232,
   "id": "13a28655",
   "metadata": {},
   "outputs": [
    {
     "name": "stdout",
     "output_type": "stream",
     "text": [
      "Song: SOVXMTN12A8C135A18 with score: 5.077\n",
      "Song: SOTUNMH12A6D4FA3E6 with score: 5.426\n",
      "Song: SOJEVZW12A8C133988 with score: 4.978\n",
      "Song: SOFSKON12A8C13B3B5 with score: 4.667\n",
      "Song: SOFRROW12A6701CBEA with score: 5.696\n",
      "Song: SORERTC12A8AE454B3 with score: 5.667\n",
      "Song: SOAECHX12A6D4FC3D9 with score: 3.972\n",
      "Song: SOITFPA12A670201C6 with score: 4.256\n",
      "Song: SOBUIHY12A6D4F5D1B with score: 5.142\n",
      "Song: SOKBTBD12A6D4FA3C6 with score: 5.426\n"
     ]
    }
   ],
   "source": [
    "scores_l = sorted(score_dict.items(), key=lambda x:x[1])\n",
    "scores_dict = dict(scores_l)\n",
    "ids = list(score_dict.keys())\n",
    "scores = list(score_dict.values())\n",
    "# R best recommendations\n",
    "R = 10\n",
    "recommended_songs = ids[0:R]\n",
    "\n",
    "# Print results\n",
    "for i in range(R):\n",
    "    print('Song:', recommended_songs[i], 'with score:', f'{scores[i]:.3f}' )"
   ]
  }
 ],
 "metadata": {
  "kernelspec": {
   "display_name": "Python 3 (ipykernel)",
   "language": "python",
   "name": "python3"
  },
  "language_info": {
   "codemirror_mode": {
    "name": "ipython",
    "version": 3
   },
   "file_extension": ".py",
   "mimetype": "text/x-python",
   "name": "python",
   "nbconvert_exporter": "python",
   "pygments_lexer": "ipython3",
   "version": "3.9.7"
  }
 },
 "nbformat": 4,
 "nbformat_minor": 5
}
