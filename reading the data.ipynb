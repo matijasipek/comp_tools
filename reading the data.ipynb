{
 "cells": [
  {
   "cell_type": "code",
   "execution_count": null,
   "metadata": {},
   "outputs": [],
   "source": [
    "import pandas as pd\n",
    "import os\n",
    "import hdf5_getters as hdf5_getters\n",
    "\n",
    "path = 'C:/Users/s222736/Documents/GitHub/comp_tools/MillionSongSubset'"
   ]
  },
  {
   "cell_type": "code",
   "execution_count": null,
   "metadata": {},
   "outputs": [],
   "source": [
    "songs_list = []\n",
    "\n",
    "for (root, dirs, file) in os.walk(path):\n",
    "    for f in file:\n",
    "        songs_list.append(os.path.dirname(f))\n",
    "\n",
    "            \n",
    "print(len(songs_list))"
   ]
  },
  {
   "cell_type": "code",
   "execution_count": null,
   "metadata": {},
   "outputs": [],
   "source": [
    "#for i in range(len(songs_list)):\n",
    "    "
   ]
  },
  {
   "cell_type": "code",
   "execution_count": 3,
   "metadata": {},
   "outputs": [],
   "source": [
    "\n",
    "## READ DATA PATH FROM FILE\n",
    "songs_file_paths = []\n",
    "\n",
    "for root, dirs, files in os.walk(os.path.abspath(path)):\n",
    "    for file in files:        \n",
    "        strs = os.path.join(root, file)\n",
    "        new_strs = strs.replace('\\\\','/')\n",
    "        songs_file_paths.append(new_strs)"
   ]
  },
  {
   "cell_type": "code",
   "execution_count": 4,
   "metadata": {},
   "outputs": [
    {
     "name": "stdout",
     "output_type": "stream",
     "text": [
      "C:/Users/s222736/Documents/GitHub/comp_tools/MillionSongSubset/A/A/A/TRAAAAW128F429D538.h5\n"
     ]
    }
   ],
   "source": [
    "print(songs_file_paths[0])"
   ]
  },
  {
   "cell_type": "code",
   "execution_count": 15,
   "metadata": {},
   "outputs": [],
   "source": [
    "### create pandas table\n",
    "data = []\n",
    "test = songs_file_paths[0]\n",
    "#songs_file_paths\n",
    "for i in range(10):\n",
    "    record = []\n",
    "    #open specific song path\n",
    "    h5 = hdf5_getters.open_h5_file_read(songs_file_paths[i])\n",
    "    #getters\n",
    "    artist_id = hdf5_getters.get_artist_id(h5)\n",
    "    artist_id = artist_id.decode(\"utf-8\")     \n",
    "    \n",
    "    artist_name  = hdf5_getters.get_artist_name(h5)\n",
    "    artist_name = artist_name.decode(\"utf-8\") \n",
    "    \n",
    "    artist_location  = hdf5_getters.get_artist_location(h5)\n",
    "    artist_location = artist_location.decode(\"utf-8\") \n",
    "    \n",
    "    \n",
    "    song_id = hdf5_getters.get_song_id(h5)\n",
    "    song_id = song_id.decode(\"utf-8\") \n",
    "    \n",
    "    song_name = hdf5_getters.get_title(h5)\n",
    "    song_name = song_name.decode(\"utf-8\") \n",
    "    \n",
    "    song_hottness = hdf5_getters.get_song_hotttnesss(h5)\n",
    "    \n",
    "    \n",
    "    #close file\n",
    "    h5.close()\n",
    "    \n",
    "    record.append(artist_id)\n",
    "    record.append(artist_name)\n",
    "    record.append(artist_location)\n",
    "    \n",
    "    record.append(song_id)\n",
    "    record.append(song_name)\n",
    "    record.append(song_hottness)\n",
    "\n",
    "    \n",
    "    \n",
    "    #add\n",
    "    data.append(record)\n",
    "\n",
    "\n"
   ]
  },
  {
   "cell_type": "code",
   "execution_count": 16,
   "metadata": {},
   "outputs": [],
   "source": [
    "df = pd.DataFrame(data, columns=['artist_id', 'artist_name', 'artist_location', 'song_id', 'song_name', 'song_hottness'])"
   ]
  },
  {
   "cell_type": "code",
   "execution_count": 17,
   "metadata": {},
   "outputs": [
    {
     "data": {
      "text/html": [
       "<div>\n",
       "<style scoped>\n",
       "    .dataframe tbody tr th:only-of-type {\n",
       "        vertical-align: middle;\n",
       "    }\n",
       "\n",
       "    .dataframe tbody tr th {\n",
       "        vertical-align: top;\n",
       "    }\n",
       "\n",
       "    .dataframe thead th {\n",
       "        text-align: right;\n",
       "    }\n",
       "</style>\n",
       "<table border=\"1\" class=\"dataframe\">\n",
       "  <thead>\n",
       "    <tr style=\"text-align: right;\">\n",
       "      <th></th>\n",
       "      <th>artist_id</th>\n",
       "      <th>artist_name</th>\n",
       "      <th>artist_location</th>\n",
       "      <th>song_id</th>\n",
       "      <th>song_name</th>\n",
       "      <th>song_hottness</th>\n",
       "    </tr>\n",
       "  </thead>\n",
       "  <tbody>\n",
       "    <tr>\n",
       "      <td>0</td>\n",
       "      <td>ARD7TVE1187B99BFB1</td>\n",
       "      <td>Casual</td>\n",
       "      <td>California - LA</td>\n",
       "      <td>SOMZWCG12A8C13C480</td>\n",
       "      <td>I Didn't Mean To</td>\n",
       "      <td>0.602120</td>\n",
       "    </tr>\n",
       "    <tr>\n",
       "      <td>1</td>\n",
       "      <td>ARMJAGH1187FB546F3</td>\n",
       "      <td>The Box Tops</td>\n",
       "      <td>Memphis, TN</td>\n",
       "      <td>SOCIWDW12A8C13D406</td>\n",
       "      <td>Soul Deep</td>\n",
       "      <td>NaN</td>\n",
       "    </tr>\n",
       "    <tr>\n",
       "      <td>2</td>\n",
       "      <td>ARKRRTF1187B9984DA</td>\n",
       "      <td>Sonora Santanera</td>\n",
       "      <td></td>\n",
       "      <td>SOXVLOJ12AB0189215</td>\n",
       "      <td>Amor De Cabaret</td>\n",
       "      <td>NaN</td>\n",
       "    </tr>\n",
       "    <tr>\n",
       "      <td>3</td>\n",
       "      <td>AR7G5I41187FB4CE6C</td>\n",
       "      <td>Adam Ant</td>\n",
       "      <td>London, England</td>\n",
       "      <td>SONHOTT12A8C13493C</td>\n",
       "      <td>Something Girls</td>\n",
       "      <td>NaN</td>\n",
       "    </tr>\n",
       "    <tr>\n",
       "      <td>4</td>\n",
       "      <td>ARXR32B1187FB57099</td>\n",
       "      <td>Gob</td>\n",
       "      <td></td>\n",
       "      <td>SOFSOCN12A8C143F5D</td>\n",
       "      <td>Face the Ashes</td>\n",
       "      <td>0.604501</td>\n",
       "    </tr>\n",
       "    <tr>\n",
       "      <td>5</td>\n",
       "      <td>ARKFYS91187B98E58F</td>\n",
       "      <td>Jeff And Sheri Easter</td>\n",
       "      <td></td>\n",
       "      <td>SOYMRWW12A6D4FAB14</td>\n",
       "      <td>The Moon And I (Ordinary Day Album Version)</td>\n",
       "      <td>NaN</td>\n",
       "    </tr>\n",
       "    <tr>\n",
       "      <td>6</td>\n",
       "      <td>ARD0S291187B9B7BF5</td>\n",
       "      <td>Rated R</td>\n",
       "      <td>Ohio</td>\n",
       "      <td>SOMJBYD12A6D4F8557</td>\n",
       "      <td>Keepin It Real (Skit)</td>\n",
       "      <td>NaN</td>\n",
       "    </tr>\n",
       "    <tr>\n",
       "      <td>7</td>\n",
       "      <td>AR10USD1187B99F3F1</td>\n",
       "      <td>Tweeterfriendly Music</td>\n",
       "      <td>Burlington, Ontario, Canada</td>\n",
       "      <td>SOHKNRJ12A6701D1F8</td>\n",
       "      <td>Drop of Rain</td>\n",
       "      <td>NaN</td>\n",
       "    </tr>\n",
       "    <tr>\n",
       "      <td>8</td>\n",
       "      <td>AR8ZCNI1187B9A069B</td>\n",
       "      <td>Planet P Project</td>\n",
       "      <td></td>\n",
       "      <td>SOIAZJW12AB01853F1</td>\n",
       "      <td>Pink World</td>\n",
       "      <td>0.265861</td>\n",
       "    </tr>\n",
       "    <tr>\n",
       "      <td>9</td>\n",
       "      <td>ARNTLGG11E2835DDB9</td>\n",
       "      <td>Clp</td>\n",
       "      <td></td>\n",
       "      <td>SOUDSGM12AC9618304</td>\n",
       "      <td>Insatiable (Instrumental Version)</td>\n",
       "      <td>NaN</td>\n",
       "    </tr>\n",
       "  </tbody>\n",
       "</table>\n",
       "</div>"
      ],
      "text/plain": [
       "            artist_id            artist_name              artist_location  \\\n",
       "0  ARD7TVE1187B99BFB1                 Casual              California - LA   \n",
       "1  ARMJAGH1187FB546F3           The Box Tops                  Memphis, TN   \n",
       "2  ARKRRTF1187B9984DA       Sonora Santanera                                \n",
       "3  AR7G5I41187FB4CE6C               Adam Ant              London, England   \n",
       "4  ARXR32B1187FB57099                    Gob                                \n",
       "5  ARKFYS91187B98E58F  Jeff And Sheri Easter                                \n",
       "6  ARD0S291187B9B7BF5                Rated R                         Ohio   \n",
       "7  AR10USD1187B99F3F1  Tweeterfriendly Music  Burlington, Ontario, Canada   \n",
       "8  AR8ZCNI1187B9A069B       Planet P Project                                \n",
       "9  ARNTLGG11E2835DDB9                    Clp                                \n",
       "\n",
       "              song_id                                    song_name  \\\n",
       "0  SOMZWCG12A8C13C480                             I Didn't Mean To   \n",
       "1  SOCIWDW12A8C13D406                                    Soul Deep   \n",
       "2  SOXVLOJ12AB0189215                              Amor De Cabaret   \n",
       "3  SONHOTT12A8C13493C                              Something Girls   \n",
       "4  SOFSOCN12A8C143F5D                               Face the Ashes   \n",
       "5  SOYMRWW12A6D4FAB14  The Moon And I (Ordinary Day Album Version)   \n",
       "6  SOMJBYD12A6D4F8557                        Keepin It Real (Skit)   \n",
       "7  SOHKNRJ12A6701D1F8                                 Drop of Rain   \n",
       "8  SOIAZJW12AB01853F1                                   Pink World   \n",
       "9  SOUDSGM12AC9618304            Insatiable (Instrumental Version)   \n",
       "\n",
       "   song_hottness  \n",
       "0       0.602120  \n",
       "1            NaN  \n",
       "2            NaN  \n",
       "3            NaN  \n",
       "4       0.604501  \n",
       "5            NaN  \n",
       "6            NaN  \n",
       "7            NaN  \n",
       "8       0.265861  \n",
       "9            NaN  "
      ]
     },
     "execution_count": 17,
     "metadata": {},
     "output_type": "execute_result"
    }
   ],
   "source": [
    "df"
   ]
  },
  {
   "cell_type": "code",
   "execution_count": null,
   "metadata": {},
   "outputs": [],
   "source": []
  },
  {
   "cell_type": "code",
   "execution_count": null,
   "metadata": {},
   "outputs": [],
   "source": []
  },
  {
   "cell_type": "code",
   "execution_count": null,
   "metadata": {},
   "outputs": [],
   "source": []
  },
  {
   "cell_type": "code",
   "execution_count": null,
   "metadata": {},
   "outputs": [],
   "source": []
  },
  {
   "cell_type": "code",
   "execution_count": null,
   "metadata": {},
   "outputs": [],
   "source": []
  },
  {
   "cell_type": "code",
   "execution_count": null,
   "metadata": {},
   "outputs": [],
   "source": []
  },
  {
   "cell_type": "code",
   "execution_count": null,
   "metadata": {},
   "outputs": [],
   "source": []
  },
  {
   "cell_type": "code",
   "execution_count": null,
   "metadata": {},
   "outputs": [],
   "source": []
  },
  {
   "cell_type": "code",
   "execution_count": null,
   "metadata": {},
   "outputs": [],
   "source": []
  },
  {
   "cell_type": "code",
   "execution_count": null,
   "metadata": {},
   "outputs": [],
   "source": []
  },
  {
   "cell_type": "code",
   "execution_count": null,
   "metadata": {},
   "outputs": [],
   "source": []
  }
 ],
 "metadata": {
  "kernelspec": {
   "display_name": "Python 3",
   "language": "python",
   "name": "python3"
  },
  "language_info": {
   "codemirror_mode": {
    "name": "ipython",
    "version": 3
   },
   "file_extension": ".py",
   "mimetype": "text/x-python",
   "name": "python",
   "nbconvert_exporter": "python",
   "pygments_lexer": "ipython3",
   "version": "3.7.4"
  }
 },
 "nbformat": 4,
 "nbformat_minor": 2
}
